{
  "nbformat": 4,
  "nbformat_minor": 0,
  "metadata": {
    "colab": {
      "name": "Day_6_Assignment.ipynb",
      "provenance": [],
      "collapsed_sections": []
    },
    "kernelspec": {
      "name": "python3",
      "display_name": "Python 3"
    }
  },
  "cells": [
    {
      "cell_type": "markdown",
      "metadata": {
        "id": "Tb0by5g4tEux",
        "colab_type": "text"
      },
      "source": [
        "# **Question 1:**\n",
        "Assuming that we have some email addresses in the \"username@companyname.com\" format, please write program\n",
        "to print the company name of a given email address. Both user names and company names are composed of letters\n",
        "only"
      ]
    },
    {
      "cell_type": "code",
      "metadata": {
        "id": "zI_vOo4Bsx9b",
        "colab_type": "code",
        "colab": {
          "base_uri": "https://localhost:8080/",
          "height": 51
        },
        "outputId": "91615be0-7a5b-49dc-8d77-4decc80a0f54"
      },
      "source": [
        "str = \"geeta@avartantech.co.in\"\n",
        "print(\"Input is: \", str)\n",
        "spl = (str.rsplit(\".\"))\n",
        "spl2 = spl[0]\n",
        "fstr = (spl2.split(\"@\"))\n",
        "name1 = fstr[0]\n",
        "comp = fstr[1]\n",
        "if (name1.isalpha()== True and comp.isalpha() == True):\n",
        "    print(\"Company name is: \",comp)\n",
        "else:\n",
        "    print(\"Name or company name not alphabeic\")"
      ],
      "execution_count": null,
      "outputs": [
        {
          "output_type": "stream",
          "text": [
            "Input is:  geeta@avartantech.co.in\n",
            "Company name is:  avartantech\n"
          ],
          "name": "stdout"
        }
      ]
    },
    {
      "cell_type": "markdown",
      "metadata": {
        "id": "V0pT9Ejwt5b5",
        "colab_type": "text"
      },
      "source": [
        "# **Question 2:**\n",
        "Write a program that accepts a comma-separated sequence of words as input and prints the words in a comma\n",
        "separated sequence after sorting them alphabetically.\n"
      ]
    },
    {
      "cell_type": "code",
      "metadata": {
        "id": "lmvmQD69uDQR",
        "colab_type": "code",
        "colab": {
          "base_uri": "https://localhost:8080/",
          "height": 51
        },
        "outputId": "a0ad9a2b-6707-4bce-d57f-43e3b2edd0aa"
      },
      "source": [
        "def listToString(s):\n",
        "    str1 = \"\"\n",
        "    for ele in s:\n",
        "        str1 +=ele+\",\"\n",
        "    return str1\n",
        "\n",
        "in_list = input(\"Enter words separated by comma: \")\n",
        "list_name = in_list.split(\",\")\n",
        "(list_name.sort())\n",
        "print(listToString(list_name))\n"
      ],
      "execution_count": null,
      "outputs": [
        {
          "output_type": "stream",
          "text": [
            "Enter words separated by comma: Geeta,Rohit,Abhay,Neha,Ruhi\n",
            "Abhay,Geeta,Neha,Rohit,Ruhi,\n"
          ],
          "name": "stdout"
        }
      ]
    },
    {
      "cell_type": "markdown",
      "metadata": {
        "id": "5vsnX9_uww8v",
        "colab_type": "text"
      },
      "source": [
        "# **Question 3:**\n",
        "Create your own Jupyter Notebook for Sets"
      ]
    },
    {
      "cell_type": "code",
      "metadata": {
        "id": "yLJs7vGEw1pP",
        "colab_type": "code",
        "colab": {
          "base_uri": "https://localhost:8080/",
          "height": 255
        },
        "outputId": "a5d98c8d-b99f-4554-bc28-cb0378ea6c4d"
      },
      "source": [
        "# A set is a collection which is unordered and unindexed. In Python, sets are written with curly brackets.\n",
        "\n",
        "set_ex ={\"Cake\",\"biscuits\",\"Pastries\"}  #Create Set\n",
        "\n",
        "for  x in set_ex:\n",
        "  print(x)        #Accessing set items.\n",
        "\n",
        "#Add new item to set\n",
        "set_ex.add(\"Wafers\")\n",
        "print(\"Add new item: \",set_ex)\n",
        "\n",
        "set_ex.update([\"Fruits\",\"Vegetables\",\"desserts\"]) #Add multiple items\n",
        "print(set_ex)\n",
        "\n",
        "print(\"Length of the set:\",len(set_ex))    #Get length of set\n",
        "\n",
        "set_ex.remove(\"Cake\")   #Remove method\n",
        "print(\"Remove methood: \",set_ex)\n",
        "\n",
        "set_ex.discard(\"Fruits\")    #discard method\n",
        "print(\"Discard method: \",set_ex)\n",
        "\n",
        "#pop method\n",
        "x = set_ex.pop()\n",
        "print(x)\n",
        "print(\"Pop method: \",set_ex)\n",
        "\n",
        "#clear method\n",
        "set_ex ={\"Cake\",\"biscuits\",\"Pastries\"}\n",
        "set_ex.clear()\n",
        "print(\"Clear method: \",set_ex)\n",
        "\n",
        "#delete method\n",
        "set_ex ={\"Cake\",\"biscuits\",\"Pastries\"}\n",
        "del set_ex\n",
        "\n",
        "\n",
        "#Join two sets\n",
        "set_a = {\"Apple\",\"Banana\", \"Cherry\"}\n",
        "set_b = {1,2,3}\n",
        "set_c = set_a.union(set_b)\n",
        "print(\"Join two sets:\",set_c)\n",
        "\n",
        "#Update method to update the set\n",
        "set_a = {\"Apple\",\"Banana\", \"Cherry\"}\n",
        "set_b = {1,2,3}\n",
        "set_a.update(set_b)\n",
        "print(\"Update set:\",set_a)\n",
        "\n",
        "#set()constructor is used to make a set\n",
        "set_a = set((\"Apple\",\"Banana\", \"Cherry\"))\n",
        "print(\"set constructor: \",set_a)\n",
        "\n",
        "\n",
        "\n",
        "\n"
      ],
      "execution_count": 4,
      "outputs": [
        {
          "output_type": "stream",
          "text": [
            "biscuits\n",
            "Cake\n",
            "Pastries\n",
            "Add new item:  {'biscuits', 'Cake', 'Pastries', 'Wafers'}\n",
            "{'Wafers', 'Pastries', 'Cake', 'Vegetables', 'desserts', 'biscuits', 'Fruits'}\n",
            "Length of the set: 7\n",
            "Remove methood:  {'Wafers', 'Pastries', 'Vegetables', 'desserts', 'biscuits', 'Fruits'}\n",
            "Discard method:  {'Wafers', 'Pastries', 'Vegetables', 'desserts', 'biscuits'}\n",
            "Wafers\n",
            "Pop method:  {'Pastries', 'Vegetables', 'desserts', 'biscuits'}\n",
            "Clear method:  set()\n",
            "Join two sets: {'Banana', 1, 2, 3, 'Apple', 'Cherry'}\n",
            "Update set: {'Banana', 1, 2, 3, 'Apple', 'Cherry'}\n",
            "set constructor:  {'Banana', 'Apple', 'Cherry'}\n"
          ],
          "name": "stdout"
        }
      ]
    },
    {
      "cell_type": "markdown",
      "metadata": {
        "id": "RW518XP6u90Y",
        "colab_type": "text"
      },
      "source": [
        "# **Question 4:**\n",
        "Given a list of n-1 numbers ranging from 1 to n, your task is to find the missing number. There are no duplicates."
      ]
    },
    {
      "cell_type": "code",
      "metadata": {
        "id": "ip2U8DXNvFfW",
        "colab_type": "code",
        "colab": {
          "base_uri": "https://localhost:8080/",
          "height": 34
        },
        "outputId": "bcae501c-2f9a-4b4b-b192-e68bf7633e40"
      },
      "source": [
        "def missing_value(A):\n",
        "    n = len(A)\n",
        "    total = (n +1)*(n+2)/2\n",
        "    sum_of_A = sum(A)\n",
        "    return total- sum_of_A\n",
        "\n",
        "list_num =[1,7,8,6,5,2,3]\n",
        "miss = missing_value(list_num)\n",
        "print(miss)\n"
      ],
      "execution_count": null,
      "outputs": [
        {
          "output_type": "stream",
          "text": [
            "4.0\n"
          ],
          "name": "stdout"
        }
      ]
    },
    {
      "cell_type": "markdown",
      "metadata": {
        "id": "4nxjuHBrvlWt",
        "colab_type": "text"
      },
      "source": [
        "# **Question 5:**\n",
        "With a given list L, write a program to print this list L after removing all duplicate values with original order reserved."
      ]
    },
    {
      "cell_type": "code",
      "metadata": {
        "id": "D3e1Lkl7vnsm",
        "colab_type": "code",
        "colab": {
          "base_uri": "https://localhost:8080/",
          "height": 34
        },
        "outputId": "afcb7167-ccc9-4ff0-ce82-524f102b07ec"
      },
      "source": [
        "list_num = [12,24,35,24,44,54,12,12,66]\n",
        "res = []\n",
        "for i in list_num:\n",
        "    if i not in res:\n",
        "        res.append(i)\n",
        "\n",
        "print(\"result:\",res)\n"
      ],
      "execution_count": null,
      "outputs": [
        {
          "output_type": "stream",
          "text": [
            "result: [12, 24, 35, 44, 54, 66]\n"
          ],
          "name": "stdout"
        }
      ]
    }
  ]
}