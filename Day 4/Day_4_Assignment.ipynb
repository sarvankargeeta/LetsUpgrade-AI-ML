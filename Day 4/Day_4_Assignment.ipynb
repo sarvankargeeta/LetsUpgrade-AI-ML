{
  "nbformat": 4,
  "nbformat_minor": 0,
  "metadata": {
    "colab": {
      "name": "Day_4_Assignment.ipynb",
      "provenance": [],
      "collapsed_sections": []
    },
    "kernelspec": {
      "name": "python3",
      "display_name": "Python 3"
    }
  },
  "cells": [
    {
      "cell_type": "markdown",
      "metadata": {
        "id": "vahSbIBLWVmO",
        "colab_type": "text"
      },
      "source": [
        "1. Research on whether addition, subtraction, multiplication, division, floor division and modulo\n",
        "operations be performed on complex numbers. Based on your study, implement a Python\n",
        "program to demonstrate these operations."
      ]
    },
    {
      "cell_type": "markdown",
      "metadata": {
        "id": "NjllTX-9X7oa",
        "colab_type": "text"
      },
      "source": [
        "Answer:\n",
        "\n",
        "\n",
        "Based on the reaserch, we can perform addition, subtraction, multiplication and division of the complex numbers.\n",
        "But, we caanot calculate the floor division of the complex numbers as floor function are defined as largest number less than or equal to given real number, since compleex number doesnot have real number, it cant be defined.\n",
        "Also, we cannot use modulo operator on complex numbers as well."
      ]
    },
    {
      "cell_type": "code",
      "metadata": {
        "id": "ujCrlDeyWZix",
        "colab_type": "code",
        "colab": {
          "base_uri": "https://localhost:8080/",
          "height": 85
        },
        "outputId": "196ed8bf-c1ac-42fb-8716-80008b661189"
      },
      "source": [
        "first_no = 8+9j\n",
        "second_no = 5-7j\n",
        "#Addition of numbers\n",
        "add = first_no + second_no\n",
        "print(\"Addition = \",add)\n",
        "#Subtraction of numbers\n",
        "sub = first_no -second_no\n",
        "print(\"Subtraction = \",sub)\n",
        "#Multiplication of numbers\n",
        "mul = first_no * second_no\n",
        "print(\"Multiplication = \",mul)\n",
        "#Division of numbers\n",
        "div = first_no / second_no\n",
        "print(\"Division = \", div)"
      ],
      "execution_count": 3,
      "outputs": [
        {
          "output_type": "stream",
          "text": [
            "Addition =  (13+2j)\n",
            "Subtraction =  (3+16j)\n",
            "Multiplication =  (103-11j)\n",
            "Division =  (-0.3108108108108108+1.364864864864865j)\n"
          ],
          "name": "stdout"
        }
      ]
    },
    {
      "cell_type": "markdown",
      "metadata": {
        "id": "lX3ulsZieqnj",
        "colab_type": "text"
      },
      "source": [
        "2. Research on range() functions and its parameters. Create a markdown cell and write in your own\n",
        "words (no copy-paste from google please) what you understand about it. Implement a small\n",
        "program of your choice on the same."
      ]
    },
    {
      "cell_type": "markdown",
      "metadata": {
        "id": "3jEEaHkZf9I3",
        "colab_type": "text"
      },
      "source": [
        "Answer:\n",
        "\n",
        "\n",
        "The **range()** function is responsible  for generating all the desired values of the control variable.\n",
        "\n",
        "\n",
        "The **range()**function invocation may be equipped with two arguments not just one.\n",
        "\n",
        "The first argument determines the initial value of the control variable.\n",
        "\n",
        "The last argument shows the first value the control variable will not be assigned.\n",
        "\n",
        "\n",
        "***The range() fnction accepts only integers as its arguments and generates sequences of integers.***\n"
      ]
    },
    {
      "cell_type": "code",
      "metadata": {
        "id": "egT7CiWuhKtZ",
        "colab_type": "code",
        "colab": {
          "base_uri": "https://localhost:8080/",
          "height": 119
        },
        "outputId": "a7d4e65f-009f-4c6a-bd8b-6fd89056d4c0"
      },
      "source": [
        "for i in range(2,8):\n",
        "  print(\"The value of i is currently: \", i)"
      ],
      "execution_count": 8,
      "outputs": [
        {
          "output_type": "stream",
          "text": [
            "The value of i is currently:  2\n",
            "The value of i is currently:  3\n",
            "The value of i is currently:  4\n",
            "The value of i is currently:  5\n",
            "The value of i is currently:  6\n",
            "The value of i is currently:  7\n"
          ],
          "name": "stdout"
        }
      ]
    },
    {
      "cell_type": "markdown",
      "metadata": {
        "id": "0BaWBXVuZ48T",
        "colab_type": "text"
      },
      "source": [
        "3.  Consider two numbers. Perform their subtraction and if the result of subtraction is greater than\n",
        "25, print their multiplication result else print their division result."
      ]
    },
    {
      "cell_type": "code",
      "metadata": {
        "id": "1PS1lTymZ68Z",
        "colab_type": "code",
        "colab": {
          "base_uri": "https://localhost:8080/",
          "height": 34
        },
        "outputId": "76545f40-4f2f-4e90-d086-2b327f111803"
      },
      "source": [
        "first_no =50\n",
        "second_no =15\n",
        "sub = first_no - second_no\n",
        "if sub > 25:\n",
        "  mul = first_no * second_no\n",
        "  print(\"Multiplication = \", mul)\n",
        "else:\n",
        "  div = first_no/second_no\n",
        "  print(\"Division = \", div)"
      ],
      "execution_count": 5,
      "outputs": [
        {
          "output_type": "stream",
          "text": [
            "Multiplication =  750\n"
          ],
          "name": "stdout"
        }
      ]
    },
    {
      "cell_type": "markdown",
      "metadata": {
        "id": "dxHMXp-lakXP",
        "colab_type": "text"
      },
      "source": [
        "4. Consider a list of 10 elements of integer values. If the number in the list is divisible by 2, print the\n",
        "result as \"square of that number minus 2\".\n"
      ]
    },
    {
      "cell_type": "code",
      "metadata": {
        "id": "3uSIeLZ0aocq",
        "colab_type": "code",
        "colab": {
          "base_uri": "https://localhost:8080/",
          "height": 102
        },
        "outputId": "dce44a4e-0133-41ed-86dc-824affe20bab"
      },
      "source": [
        "l1 = [23,87,22,18,79,90,109,450,113,566]\n",
        "for i in l1:\n",
        "    if i % 2 == 0:\n",
        "        print(i,\" :square of that number minus 2\")"
      ],
      "execution_count": 6,
      "outputs": [
        {
          "output_type": "stream",
          "text": [
            "22  :square of that number minus 2\n",
            "18  :square of that number minus 2\n",
            "90  :square of that number minus 2\n",
            "450  :square of that number minus 2\n",
            "566  :square of that number minus 2\n"
          ],
          "name": "stdout"
        }
      ]
    },
    {
      "cell_type": "markdown",
      "metadata": {
        "id": "Zc4aA7ZUdTgF",
        "colab_type": "text"
      },
      "source": [
        "5. Consider a list of 10 elements. Print all the elements in the list which are greater than 7 when that\n",
        "number is divided 2."
      ]
    },
    {
      "cell_type": "code",
      "metadata": {
        "id": "XwUTE-HJelJD",
        "colab_type": "code",
        "colab": {
          "base_uri": "https://localhost:8080/",
          "height": 102
        },
        "outputId": "872e6821-1b56-4767-a6cd-d61d1c85fa6a"
      },
      "source": [
        "l1 = [2,87,22,18,79,90,109,450,113,566]\n",
        "for i in l1:\n",
        "    if (i % 2 == 0 and i>7):\n",
        "        print(i)\n"
      ],
      "execution_count": 7,
      "outputs": [
        {
          "output_type": "stream",
          "text": [
            "22\n",
            "18\n",
            "90\n",
            "450\n",
            "566\n"
          ],
          "name": "stdout"
        }
      ]
    }
  ]
}