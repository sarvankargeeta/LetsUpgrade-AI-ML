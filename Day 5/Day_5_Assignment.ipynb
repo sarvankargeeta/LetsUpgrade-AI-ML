{
  "nbformat": 4,
  "nbformat_minor": 0,
  "metadata": {
    "colab": {
      "name": "Day_5_Assignment.ipynb",
      "provenance": [],
      "collapsed_sections": []
    },
    "kernelspec": {
      "name": "python3",
      "display_name": "Python 3"
    }
  },
  "cells": [
    {
      "cell_type": "markdown",
      "metadata": {
        "id": "ZWWJfkBfioTa",
        "colab_type": "text"
      },
      "source": [
        "1. Write a Python program to find the first 20 non-even prime natural numbers."
      ]
    },
    {
      "cell_type": "code",
      "metadata": {
        "id": "vqvjmvGliNnk",
        "colab_type": "code",
        "colab": {
          "base_uri": "https://localhost:8080/",
          "height": 34
        },
        "outputId": "f7540588-861a-4c3d-c35f-a8efda435066"
      },
      "source": [
        "for num in range(1,20):\n",
        "  count = 0\n",
        "  for i in range(2,(num // 2 + 1)):\n",
        "    if (num % i == 0):\n",
        "      count = count+1\n",
        "      break\n",
        "    \n",
        "  if (count == 0 and num !=1):\n",
        "    print(num , end = \"   \")\n"
      ],
      "execution_count": null,
      "outputs": [
        {
          "output_type": "stream",
          "text": [
            "2   3   5   7   11   13   17   19   "
          ],
          "name": "stdout"
        }
      ]
    },
    {
      "cell_type": "markdown",
      "metadata": {
        "id": "eqNUIbZclFAW",
        "colab_type": "text"
      },
      "source": [
        "2. Write a Python program to implement 15 functions of string."
      ]
    },
    {
      "cell_type": "code",
      "metadata": {
        "id": "VFn50liflGvc",
        "colab_type": "code",
        "colab": {
          "base_uri": "https://localhost:8080/",
          "height": 272
        },
        "outputId": "c308da23-472a-44cb-f3a0-bfbf7dd9d2b2"
      },
      "source": [
        "str = \"Geeta Sarvankar 06\"\n",
        "print(str.find(\"k\"))\n",
        "print(str.capitalize())\n",
        "print(str.count('e'))\n",
        "print(str.endswith('r'))\n",
        "print(str.index('S'))\n",
        "print(str.isalnum())\n",
        "print(str.isalpha())\n",
        "print(str.islower())\n",
        "print(str.isspace())\n",
        "print(str.lower())\n",
        "print(str.upper())\n",
        "print(str.replace('a','m'))\n",
        "print(str.split('S'))\n",
        "print(str.strip())\n",
        "print(str.swapcase())"
      ],
      "execution_count": null,
      "outputs": [
        {
          "output_type": "stream",
          "text": [
            "12\n",
            "Geeta sarvankar 06\n",
            "2\n",
            "False\n",
            "6\n",
            "False\n",
            "False\n",
            "False\n",
            "False\n",
            "geeta sarvankar 06\n",
            "GEETA SARVANKAR 06\n",
            "Geetm Smrvmnkmr 06\n",
            "['Geeta ', 'arvankar 06']\n",
            "Geeta Sarvankar 06\n",
            "gEETA sARVANKAR 06\n"
          ],
          "name": "stdout"
        }
      ]
    },
    {
      "cell_type": "markdown",
      "metadata": {
        "id": "ieRhDiM7lT8d",
        "colab_type": "text"
      },
      "source": [
        "3. Write a Python program to check if the given string is a Palindrome or Anagram or None of them.\n",
        "Display the message accordingly to the user.\n"
      ]
    },
    {
      "cell_type": "code",
      "metadata": {
        "id": "g8ZMj063lSnY",
        "colab_type": "code",
        "colab": {
          "base_uri": "https://localhost:8080/",
          "height": 34
        },
        "outputId": "49c95214-34e9-4444-ef93-e9f1b251f59b"
      },
      "source": [
        "a=\"malayalam\"\n",
        "\n",
        "b=\"geeta\"\n",
        "\n",
        "count=0\n",
        "\n",
        "for i in a:\n",
        "\n",
        "    for j in b:\n",
        "\n",
        "        if i==j:\n",
        "\n",
        "            count=count+1\n",
        "\n",
        "if count==len(a):\n",
        "\n",
        "    print(\"Strings are anagram of each other.\")\n",
        "\n",
        "elif (a == a[::-1]):\n",
        "    print(\"String is palindrome\")\n",
        "\n",
        "else:\n",
        "    print(\"String is neither palindrom nor anagram\")"
      ],
      "execution_count": 2,
      "outputs": [
        {
          "output_type": "stream",
          "text": [
            "String is palindrome\n"
          ],
          "name": "stdout"
        }
      ]
    },
    {
      "cell_type": "markdown",
      "metadata": {
        "id": "szV-SQyIlybR",
        "colab_type": "text"
      },
      "source": [
        "4. Write a Python's user defined function that removes all the additional characters from the string\n",
        "and converts it finally to lower case using built-in lower(). eg: If the string is \"Dr. Darshan Ingle\n",
        "@AI-ML Trainer\", then the output be \"drdarshaningleaimltrainer\"."
      ]
    },
    {
      "cell_type": "code",
      "metadata": {
        "id": "MAmeqn9xoA0R",
        "colab_type": "code",
        "colab": {
          "base_uri": "https://localhost:8080/",
          "height": 34
        },
        "outputId": "a6781841-d161-48a4-cb89-a4165182e963"
      },
      "source": [
        "s = \"Dr. Darshan Ingle @AI-ML Trainer\"\n",
        "rem_chars = [\".\",\"@\",\"-\",\" \"]\n",
        "for i in rem_chars:\n",
        "  s =s.replace(i,\"\")\n",
        "\n",
        "print(str(s.lower()))"
      ],
      "execution_count": 3,
      "outputs": [
        {
          "output_type": "stream",
          "text": [
            "drdarshaningleaimltrainer\n"
          ],
          "name": "stdout"
        }
      ]
    }
  ]
}