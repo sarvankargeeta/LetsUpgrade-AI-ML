{
  "nbformat": 4,
  "nbformat_minor": 0,
  "metadata": {
    "colab": {
      "name": "Day_14_15_Assignment.ipynb",
      "provenance": [],
      "collapsed_sections": []
    },
    "kernelspec": {
      "name": "python3",
      "display_name": "Python 3"
    }
  },
  "cells": [
    {
      "cell_type": "markdown",
      "metadata": {
        "id": "xNY-n7Kcz4Hg",
        "colab_type": "text"
      },
      "source": [
        "**1. Create a 3x3x3 array with random values**"
      ]
    },
    {
      "cell_type": "code",
      "metadata": {
        "id": "wa5FN7CFziej",
        "colab_type": "code",
        "colab": {
          "base_uri": "https://localhost:8080/",
          "height": 102
        },
        "outputId": "fea5940f-5cb9-493c-dd99-18d1fff79680"
      },
      "source": [
        "import numpy as np\n",
        "a = np.random.random((3,3,3))\n",
        "print(a)"
      ],
      "execution_count": 5,
      "outputs": [
        {
          "output_type": "stream",
          "text": [
            "[[0 0 0 0 0]\n",
            " [1 0 0 0 0]\n",
            " [0 2 0 0 0]\n",
            " [0 0 3 0 0]\n",
            " [0 0 0 4 0]]\n"
          ],
          "name": "stdout"
        }
      ]
    },
    {
      "cell_type": "markdown",
      "metadata": {
        "id": "UnDxFEVbN8VY",
        "colab_type": "text"
      },
      "source": [
        "**2.Create a 5x5 matrix with values 1,2,3,4 just below the diagonal**"
      ]
    },
    {
      "cell_type": "code",
      "metadata": {
        "id": "iLZ4kwkoOBwC",
        "colab_type": "code",
        "colab": {
          "base_uri": "https://localhost:8080/",
          "height": 102
        },
        "outputId": "aa8ed4eb-1ce4-430b-a109-5538e1b469b4"
      },
      "source": [
        "import numpy as np\n",
        "a = np.diag([1,2,3,4],k=-1)\n",
        "print(a)"
      ],
      "execution_count": 6,
      "outputs": [
        {
          "output_type": "stream",
          "text": [
            "[[0 0 0 0 0]\n",
            " [1 0 0 0 0]\n",
            " [0 2 0 0 0]\n",
            " [0 0 3 0 0]\n",
            " [0 0 0 4 0]]\n"
          ],
          "name": "stdout"
        }
      ]
    },
    {
      "cell_type": "markdown",
      "metadata": {
        "id": "0UMbomdXOo0V",
        "colab_type": "text"
      },
      "source": [
        "**3.Create a 8x8 matrix and fill it with a checkerboard pattern**"
      ]
    },
    {
      "cell_type": "code",
      "metadata": {
        "id": "8Jnn7RWwOsgM",
        "colab_type": "code",
        "colab": {
          "base_uri": "https://localhost:8080/",
          "height": 170
        },
        "outputId": "493898a1-d7d7-4d44-f029-1280a5747c1a"
      },
      "source": [
        "import numpy as np\n",
        "x = np.ones((3,3))\n",
        "print(\"Checkboard Pattern:\")\n",
        "x = np.zeros((8,8),dtype=int)\n",
        "x[1::2,::2] = 1\n",
        "x[::2,1::2] = 1\n",
        "print(x)"
      ],
      "execution_count": 7,
      "outputs": [
        {
          "output_type": "stream",
          "text": [
            "Checkboard Pattern:\n",
            "[[0 1 0 1 0 1 0 1]\n",
            " [1 0 1 0 1 0 1 0]\n",
            " [0 1 0 1 0 1 0 1]\n",
            " [1 0 1 0 1 0 1 0]\n",
            " [0 1 0 1 0 1 0 1]\n",
            " [1 0 1 0 1 0 1 0]\n",
            " [0 1 0 1 0 1 0 1]\n",
            " [1 0 1 0 1 0 1 0]]\n"
          ],
          "name": "stdout"
        }
      ]
    },
    {
      "cell_type": "markdown",
      "metadata": {
        "id": "TIirUopNPuzo",
        "colab_type": "text"
      },
      "source": [
        "**4. Normalize a 5x5 random matrix**"
      ]
    },
    {
      "cell_type": "code",
      "metadata": {
        "id": "Vg5zSh3vPvx2",
        "colab_type": "code",
        "colab": {
          "base_uri": "https://localhost:8080/",
          "height": 272
        },
        "outputId": "9750662d-5886-4cc8-8043-421971784a16"
      },
      "source": [
        "import numpy as np\n",
        "a = np.random.random((5,5))\n",
        "print(\"Original Matrix:\")\n",
        "print(a)\n",
        "xmax,xmin = x.max(),x.min()\n",
        "a = (x-xmin)/(xmax-xmin)\n",
        "print(\"Matrix After Normalisation:\")\n",
        "print(a)"
      ],
      "execution_count": 8,
      "outputs": [
        {
          "output_type": "stream",
          "text": [
            "Original Matrix:\n",
            "[[0.28956131 0.73677469 0.84821436 0.59606402 0.94275697]\n",
            " [0.13546804 0.22448836 0.95725276 0.33233024 0.50564876]\n",
            " [0.11339075 0.89247627 0.29666833 0.90532557 0.61206009]\n",
            " [0.75673795 0.63160913 0.72581613 0.23423637 0.68799845]\n",
            " [0.07403047 0.76030539 0.48596779 0.8000492  0.29209008]]\n",
            "Matrix After Normalisation:\n",
            "[[0. 1. 0. 1. 0. 1. 0. 1.]\n",
            " [1. 0. 1. 0. 1. 0. 1. 0.]\n",
            " [0. 1. 0. 1. 0. 1. 0. 1.]\n",
            " [1. 0. 1. 0. 1. 0. 1. 0.]\n",
            " [0. 1. 0. 1. 0. 1. 0. 1.]\n",
            " [1. 0. 1. 0. 1. 0. 1. 0.]\n",
            " [0. 1. 0. 1. 0. 1. 0. 1.]\n",
            " [1. 0. 1. 0. 1. 0. 1. 0.]]\n"
          ],
          "name": "stdout"
        }
      ]
    },
    {
      "cell_type": "markdown",
      "metadata": {
        "id": "d6uM539wQg7o",
        "colab_type": "text"
      },
      "source": [
        "** 5.  How to find common values between two arrays?**"
      ]
    },
    {
      "cell_type": "code",
      "metadata": {
        "id": "OyxLoSPGQlS6",
        "colab_type": "code",
        "colab": {
          "base_uri": "https://localhost:8080/",
          "height": 85
        },
        "outputId": "b09b88dc-43af-4b11-c785-df96c69a6539"
      },
      "source": [
        "import numpy as np\n",
        "arr1 = np.array([10,20,30,40,50])\n",
        "print(\"First Array:\", arr1)\n",
        "arr2 = [10,30,60]\n",
        "print(\"Second Array:\", arr2)\n",
        "print(\"Common values between two arrays:\")\n",
        "print(np.intersect1d(arr1,arr2))"
      ],
      "execution_count": 10,
      "outputs": [
        {
          "output_type": "stream",
          "text": [
            "First Array: [10 20 30 40 50]\n",
            "Second Array: [10, 30, 60]\n",
            "Common values between two arrays:\n",
            "[10 30]\n"
          ],
          "name": "stdout"
        }
      ]
    },
    {
      "cell_type": "markdown",
      "metadata": {
        "id": "Gh70gGloRZ-U",
        "colab_type": "text"
      },
      "source": [
        "**6.How to get the dates of yesterday, today and tomorrow?**"
      ]
    },
    {
      "cell_type": "code",
      "metadata": {
        "id": "eHhYKNGjRfIg",
        "colab_type": "code",
        "colab": {
          "base_uri": "https://localhost:8080/",
          "height": 68
        },
        "outputId": "e0b6bc5f-be2a-4475-f52d-c5dc2cfa443d"
      },
      "source": [
        "import numpy as np\n",
        "yesterday = np.datetime64('today', 'D') - np.timedelta64(1, 'D')\n",
        "print(\"Yestraday: \",yesterday)\n",
        "today     = np.datetime64('today', 'D')\n",
        "print(\"Today: \",today)\n",
        "tomorrow  = np.datetime64('today', 'D') + np.timedelta64(1, 'D')\n",
        "print(\"Tomorrow: \",tomorrow)"
      ],
      "execution_count": 3,
      "outputs": [
        {
          "output_type": "stream",
          "text": [
            "Yestraday:  2020-07-27\n",
            "Today:  2020-07-28\n",
            "Tomorrow:  2020-07-29\n"
          ],
          "name": "stdout"
        }
      ]
    },
    {
      "cell_type": "markdown",
      "metadata": {
        "id": "yj3rzBizNR6X",
        "colab_type": "text"
      },
      "source": [
        "**7. Consider two random array A and B, check if they are equal**"
      ]
    },
    {
      "cell_type": "code",
      "metadata": {
        "id": "-K_xT-d7QDxo",
        "colab_type": "code",
        "colab": {
          "base_uri": "https://localhost:8080/",
          "height": 68
        },
        "outputId": "0b00b7ca-24fa-44cd-9fea-a3973299570c"
      },
      "source": [
        "import numpy as np\n",
        "a = np.random.randint(0,2,4)\n",
        "print(\"First Array: \",a)\n",
        "b = np.random.randint(0,2,4)\n",
        "print(\"Second Array: \",b)\n",
        "array_equality = np.allclose(a,b)\n",
        "print(\"Array Equality: \",array_equality)"
      ],
      "execution_count": 5,
      "outputs": [
        {
          "output_type": "stream",
          "text": [
            "First Array:  [1 1 1 1]\n",
            "Second Array:  [1 0 1 1]\n",
            "Array Equality:  False\n"
          ],
          "name": "stdout"
        }
      ]
    },
    {
      "cell_type": "markdown",
      "metadata": {
        "id": "KMM6I6TiRwfs",
        "colab_type": "text"
      },
      "source": [
        "**8.Create random vector of size 10 and replace the maximum value by 0**"
      ]
    },
    {
      "cell_type": "code",
      "metadata": {
        "id": "kKuW0B9RR_nO",
        "colab_type": "code",
        "colab": {
          "base_uri": "https://localhost:8080/",
          "height": 122
        },
        "outputId": "a19b349e-5f9a-45c7-b512-122110f918e0"
      },
      "source": [
        "import numpy as np\n",
        "a = np.random.random(10)\n",
        "print(\"Original Array:\", a)\n",
        "a[a.argmax()] = 0\n",
        "print(\"After replacing max value by 0, array is:\")\n",
        "print(a)"
      ],
      "execution_count": 6,
      "outputs": [
        {
          "output_type": "stream",
          "text": [
            "Original Array: [0.50243986 0.82164219 0.30907511 0.19596226 0.68432977 0.32394702\n",
            " 0.11935861 0.58779298 0.57307978 0.7208602 ]\n",
            "After replacing max value by 0, array is:\n",
            "[0.50243986 0.         0.30907511 0.19596226 0.68432977 0.32394702\n",
            " 0.11935861 0.58779298 0.57307978 0.7208602 ]\n"
          ],
          "name": "stdout"
        }
      ]
    },
    {
      "cell_type": "markdown",
      "metadata": {
        "id": "xLpAnPEhSo8W",
        "colab_type": "text"
      },
      "source": [
        "**9. How to print all the values of an array?**"
      ]
    },
    {
      "cell_type": "code",
      "metadata": {
        "id": "u_yeSQ3TTIno",
        "colab_type": "code",
        "colab": {
          "base_uri": "https://localhost:8080/",
          "height": 85
        },
        "outputId": "d5ed9368-e911-489a-c7a6-6fd07bc1ed8f"
      },
      "source": [
        "import numpy as np\n",
        "import sys\n",
        "np.set_printoptions(threshold=sys.maxsize)\n",
        "x = np.ones((4, 4))\n",
        "print(x)"
      ],
      "execution_count": 14,
      "outputs": [
        {
          "output_type": "stream",
          "text": [
            "[[1. 1. 1. 1.]\n",
            " [1. 1. 1. 1.]\n",
            " [1. 1. 1. 1.]\n",
            " [1. 1. 1. 1.]]\n"
          ],
          "name": "stdout"
        }
      ]
    },
    {
      "cell_type": "markdown",
      "metadata": {
        "id": "NFGLN-4_Vt5I",
        "colab_type": "text"
      },
      "source": [
        "**10.Subtract the mean of each row of a matrix\"**"
      ]
    },
    {
      "cell_type": "code",
      "metadata": {
        "id": "XByy68WSVvd0",
        "colab_type": "code",
        "colab": {
          "base_uri": "https://localhost:8080/",
          "height": 238
        },
        "outputId": "13de4f53-66b8-457a-d9d9-199b6476dbf2"
      },
      "source": [
        "import numpy as np\n",
        "print(\"Original Matrix:\")\n",
        "a = np.random.rand(5,10)\n",
        "print(a)\n",
        "res = a - a.mean(axis=1,keepdims =  True)\n",
        "print(\"After subtracting the mean of each row of the matrix:\")\n",
        "print(b)"
      ],
      "execution_count": 15,
      "outputs": [
        {
          "output_type": "stream",
          "text": [
            "Original Matrix:\n",
            "[[0.855761   0.25722817 0.38029925 0.62046061 0.88210461 0.02973214\n",
            "  0.4226166  0.51623801 0.90008834 0.83727476]\n",
            " [0.75408786 0.48434643 0.9774515  0.62239244 0.07349158 0.69884408\n",
            "  0.30022979 0.81369517 0.17600725 0.35260395]\n",
            " [0.39252163 0.09189484 0.74833209 0.65794384 0.12908929 0.55573657\n",
            "  0.89790388 0.18160528 0.4538517  0.81610778]\n",
            " [0.32891642 0.67073841 0.50353501 0.01485807 0.09310973 0.94325159\n",
            "  0.62684816 0.460432   0.8392989  0.31939795]\n",
            " [0.4353958  0.82830501 0.82876191 0.20756657 0.31890276 0.43171448\n",
            "  0.29210379 0.50158154 0.68658088 0.98070194]]\n",
            "After subtracting the mean of each row of the matrix:\n",
            "[1 0 1 1]\n"
          ],
          "name": "stdout"
        }
      ]
    },
    {
      "cell_type": "markdown",
      "metadata": {
        "id": "3R1SLu6fuOlh",
        "colab_type": "text"
      },
      "source": [
        "**11.Consider a given vector, how to add 1 to each element indexed by a second vector (be careful with repeated indices)?**"
      ]
    },
    {
      "cell_type": "code",
      "metadata": {
        "id": "uNzj7Q4KumRg",
        "colab_type": "code",
        "colab": {
          "base_uri": "https://localhost:8080/",
          "height": 119
        },
        "outputId": "d65f84de-1e63-4678-dd8a-9ec3aa0435a1"
      },
      "source": [
        "import numpy as np\n",
        "a = np.ones(10)\n",
        "b = np.random.randint(0,len(a),20)\n",
        "print(\"Original matrix:\")\n",
        "print(a)\n",
        "print(\"Matrix B:\")\n",
        "print(b)\n",
        "a +=np.bincount(b,minlength=len(a))\n",
        "print(a)\n",
        "np.add.at(a,b,1)\n",
        "print(a)"
      ],
      "execution_count": 17,
      "outputs": [
        {
          "output_type": "stream",
          "text": [
            "Original matrix:\n",
            "[1. 1. 1. 1. 1. 1. 1. 1. 1. 1.]\n",
            "Matrix B:\n",
            "[1 3 0 4 9 0 2 6 5 9 2 4 1 7 4 0 5 9 9 8]\n",
            "[4. 3. 3. 2. 4. 3. 2. 2. 2. 5.]\n",
            "[7. 5. 5. 3. 7. 5. 3. 3. 3. 9.]\n"
          ],
          "name": "stdout"
        }
      ]
    },
    {
      "cell_type": "markdown",
      "metadata": {
        "id": "E1U0bWfJwvsn",
        "colab_type": "text"
      },
      "source": [
        "**12.How to get the diagonal of a dot product?**"
      ]
    },
    {
      "cell_type": "code",
      "metadata": {
        "id": "9kRD9ICmwwxz",
        "colab_type": "code",
        "colab": {
          "base_uri": "https://localhost:8080/",
          "height": 204
        },
        "outputId": "f7c7eeeb-66f7-4ed9-b2e7-10eec7514bd1"
      },
      "source": [
        "import numpy as np\n",
        "a = np.asarray([[2,4,2,6],\n",
        "                [3,7,2,8],\n",
        "                [1,7,2,6],\n",
        "                [9,2,0,1]])\n",
        "\n",
        "b = np.asarray([[3,4,2,6],\n",
        "                [3,7,2,8],\n",
        "                [1,7,3,6],\n",
        "                [9,2,0,2]])\n",
        "\n",
        "c = np.dot(a,b)\n",
        "ans = np.diag(np.dot(a,b),k=0)\n",
        "print(\"Dot product of the matrices:\\n\")\n",
        "print (c)\n",
        "print(\"\\n\")\n",
        "print(\"Diagonal of the dot product of the matrices:\\n\")\n",
        "print(ans)\n"
      ],
      "execution_count": 28,
      "outputs": [
        {
          "output_type": "stream",
          "text": [
            "Dot product of the matrices:\n",
            "\n",
            "[[ 74  62  18  68]\n",
            " [104  91  26 102]\n",
            " [ 80  79  22  86]\n",
            " [ 42  52  22  72]]\n",
            "\n",
            "\n",
            "Diagonal of the dot product of the matrices:\n",
            "\n",
            "[74 91 22 72]\n"
          ],
          "name": "stdout"
        }
      ]
    },
    {
      "cell_type": "markdown",
      "metadata": {
        "id": "0kR1ULuizzEp",
        "colab_type": "text"
      },
      "source": [
        "**13.How to find the most frequent value in an array?**"
      ]
    },
    {
      "cell_type": "code",
      "metadata": {
        "id": "Sv6qAIOoz048",
        "colab_type": "code",
        "colab": {
          "base_uri": "https://localhost:8080/",
          "height": 85
        },
        "outputId": "0ab3d985-b446-4328-ded3-9c40c8e229ef"
      },
      "source": [
        "import numpy as np\n",
        "a = np.random.randint(0,10,20)\n",
        "print(\"Original Array:\")\n",
        "print(a)\n",
        "print(\"Most frequent value in the array: \")\n",
        "print(np.bincount(a).argmax())\n"
      ],
      "execution_count": 31,
      "outputs": [
        {
          "output_type": "stream",
          "text": [
            "Original Array:\n",
            "[3 6 3 3 9 5 1 5 8 3 0 7 4 3 7 9 6 7 5 8]\n",
            "Most frequent value in the array: \n",
            "3\n"
          ],
          "name": "stdout"
        }
      ]
    },
    {
      "cell_type": "markdown",
      "metadata": {
        "id": "Xh93302b1MrV",
        "colab_type": "text"
      },
      "source": [
        "**14.How to get the n largest values of an array**"
      ]
    },
    {
      "cell_type": "code",
      "metadata": {
        "id": "FYe1PHfV1YvF",
        "colab_type": "code",
        "colab": {
          "base_uri": "https://localhost:8080/",
          "height": 85
        },
        "outputId": "3241d5f1-345c-4620-c7e4-df77c192fb89"
      },
      "source": [
        "import numpy as np\n",
        "a = np.arange(25)\n",
        "print(\"Original Array:\")\n",
        "print(a)\n",
        "np.random.shuffle(a)\n",
        "n = 1\n",
        "print(a[np.argsort(a)[-n:]])"
      ],
      "execution_count": 34,
      "outputs": [
        {
          "output_type": "stream",
          "text": [
            "Original Array:\n",
            "[ 0  1  2  3  4  5  6  7  8  9 10 11 12 13 14 15 16 17 18 19 20 21 22 23\n",
            " 24]\n",
            "[24]\n"
          ],
          "name": "stdout"
        }
      ]
    },
    {
      "cell_type": "markdown",
      "metadata": {
        "id": "2-9j-7fO2Gue",
        "colab_type": "text"
      },
      "source": [
        " **15.How to create a record array from a regular array?**\n",
        "\n"
      ]
    },
    {
      "cell_type": "code",
      "metadata": {
        "id": "TlCVPHocggnQ",
        "colab_type": "code",
        "colab": {
          "base_uri": "https://localhost:8080/",
          "height": 153
        },
        "outputId": "7bdb20b2-8983-4ca2-a641-014cef7fede5"
      },
      "source": [
        "import numpy as np\n",
        "arr1 = np.array([(\"Geeta Sarvankar\",65,165),\n",
        "                 (\"Rohidas Koyande\",90,171),\n",
        "                 (\"Santosh Rane\",72,168)])\n",
        "print(\"Original Array:\")\n",
        "print(arr1)\n",
        "print(\"\\nRecord Array:\")\n",
        "res = np.core.records.fromarrays(arr1.T,names='col1, col2, col3',formats='S80, f8,i8')\n",
        "print(res)"
      ],
      "execution_count": 3,
      "outputs": [
        {
          "output_type": "stream",
          "text": [
            "Original Array:\n",
            "[['Geeta Sarvankar' '65' '165']\n",
            " ['Rohidas Koyande' '90' '171']\n",
            " ['Santosh Rane' '72' '168']]\n",
            "\n",
            "Record Array:\n",
            "[(b'Geeta Sarvankar', 65., 165) (b'Rohidas Koyande', 90., 171)\n",
            " (b'Santosh Rane', 72., 168)]\n"
          ],
          "name": "stdout"
        }
      ]
    }
  ]
}