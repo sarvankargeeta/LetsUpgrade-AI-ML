{
  "nbformat": 4,
  "nbformat_minor": 0,
  "metadata": {
    "colab": {
      "name": "Day_3_Assignment.ipynb",
      "provenance": [],
      "collapsed_sections": []
    },
    "kernelspec": {
      "name": "python3",
      "display_name": "Python 3"
    }
  },
  "cells": [
    {
      "cell_type": "markdown",
      "metadata": {
        "id": "gr9rSIM7h0Xj",
        "colab_type": "text"
      },
      "source": [
        "1. Write a program to subtract two complex numbers in Python.\n"
      ]
    },
    {
      "cell_type": "code",
      "metadata": {
        "id": "euR3y3zwh8xP",
        "colab_type": "code",
        "colab": {
          "base_uri": "https://localhost:8080/",
          "height": 34
        },
        "outputId": "9b776488-46a3-4ceb-cb89-9b3fa0e6ce59"
      },
      "source": [
        "first_no = 13+9j\n",
        "second_no = 8+6j\n",
        "subtract = first_no - second_no\n",
        "print(\"Subtraction = \",subtract)"
      ],
      "execution_count": null,
      "outputs": [
        {
          "output_type": "stream",
          "text": [
            "Subtraction =  (5+3j)\n"
          ],
          "name": "stdout"
        }
      ]
    },
    {
      "cell_type": "markdown",
      "metadata": {
        "id": "impmbAJki2sa",
        "colab_type": "text"
      },
      "source": [
        "2. Write a program to find the fourth root of a number"
      ]
    },
    {
      "cell_type": "code",
      "metadata": {
        "id": "nWKTUTtUjEL6",
        "colab_type": "code",
        "colab": {
          "base_uri": "https://localhost:8080/",
          "height": 34
        },
        "outputId": "15c845dd-34fa-42ba-acc2-2d9442e30b1b"
      },
      "source": [
        "number = 8\n",
        "answer = number ** 1/4\n",
        "print (\"Fourth root of \",number,\" is \",answer)"
      ],
      "execution_count": null,
      "outputs": [
        {
          "output_type": "stream",
          "text": [
            "Fourth root of  8  is  2.0\n"
          ],
          "name": "stdout"
        }
      ]
    },
    {
      "cell_type": "markdown",
      "metadata": {
        "id": "FTbTOgvykQlX",
        "colab_type": "text"
      },
      "source": [
        "3. Write a program to swap two numbers in Python with the help of a temporary variable."
      ]
    },
    {
      "cell_type": "code",
      "metadata": {
        "id": "eUm7Wcj1kUSn",
        "colab_type": "code",
        "colab": {
          "base_uri": "https://localhost:8080/",
          "height": 85
        },
        "outputId": "b57608b0-8a17-4d48-d2e3-39408919c8eb"
      },
      "source": [
        "x = 10\n",
        "y = 22\n",
        "print (\"Values of x and y before swapping:\")\n",
        "print(\"X = \",x,\"Y = \",y)\n",
        "temp = x\n",
        "x = y\n",
        "y = temp\n",
        "print (\"Values of x and y after swapping:\")\n",
        "print(\"X = \",x,\"Y = \",y)"
      ],
      "execution_count": null,
      "outputs": [
        {
          "output_type": "stream",
          "text": [
            "Values of x and y before swapping:\n",
            "X =  10 Y =  22\n",
            "Values of x and y after swapping:\n",
            "X =  22 Y =  10\n"
          ],
          "name": "stdout"
        }
      ]
    },
    {
      "cell_type": "markdown",
      "metadata": {
        "id": "_07gjNU6k-yC",
        "colab_type": "text"
      },
      "source": [
        "4. Write a program to swap two numbers in Python without using a temporary variable."
      ]
    },
    {
      "cell_type": "code",
      "metadata": {
        "id": "FBUkFUxnlAg_",
        "colab_type": "code",
        "colab": {
          "base_uri": "https://localhost:8080/",
          "height": 85
        },
        "outputId": "f2c522fa-c88c-493e-da3c-9d43a5bfa830"
      },
      "source": [
        "x= 11\n",
        "y= 20\n",
        "print (\"Values of x and y before swapping:\")\n",
        "print(\"X = \",x,\"Y = \",y)\n",
        "x=x+y\n",
        "y=x-y\n",
        "x=x-y\n",
        "print (\"Values of x and y after swapping:\")\n",
        "print(\"X = \",x,\"Y = \",y)"
      ],
      "execution_count": null,
      "outputs": [
        {
          "output_type": "stream",
          "text": [
            "Values of x and y before swapping:\n",
            "X =  11 Y =  20\n",
            "Values of x and y after swapping:\n",
            "X =  20 Y =  11\n"
          ],
          "name": "stdout"
        }
      ]
    },
    {
      "cell_type": "markdown",
      "metadata": {
        "id": "puCCKXykluHn",
        "colab_type": "text"
      },
      "source": [
        "5. Write a program to convert fahrenheit to kelvin and celsius both.\n"
      ]
    },
    {
      "cell_type": "code",
      "metadata": {
        "id": "GoKDE8n0xlzi",
        "colab_type": "code",
        "colab": {
          "base_uri": "https://localhost:8080/",
          "height": 85
        },
        "outputId": "d6a59119-7d88-480b-8232-80b583e9b755"
      },
      "source": [
        "#Convert Fahrenheit to Kelvin\n",
        "temp_far = 75\n",
        "temp_kelvin = (temp_far + 459.67)*5/9\n",
        "print(\"Temperature in Fahrenheit = \",temp_far)\n",
        "print(\"Temperature in Kelvin = \",temp_kelvin)\n",
        "\n",
        "#Convert Fahrenheit to Celsius\n",
        "temp_far = 98.6\n",
        "temp_cel = (temp_far -32)/1.800\n",
        "print(\"Temperature in Fahrenheit = \",temp_far)\n",
        "print(\"Temperature in Celsius=\", temp_cel)"
      ],
      "execution_count": null,
      "outputs": [
        {
          "output_type": "stream",
          "text": [
            "Temperature in Fahrenheit =  75\n",
            "Temperature in Kelvin =  297.03888888888895\n",
            "Temperature in Fahrenheit =  98.6\n",
            "Temperature in Celsius= 36.99999999999999\n"
          ],
          "name": "stdout"
        }
      ]
    },
    {
      "cell_type": "markdown",
      "metadata": {
        "id": "9Ew2RH5q1ugR",
        "colab_type": "text"
      },
      "source": [
        "6. Write a program to demonstrate all the available data types in Python. Hint: Use type() function"
      ]
    },
    {
      "cell_type": "code",
      "metadata": {
        "id": "WYNQvllF17Wb",
        "colab_type": "code",
        "colab": {
          "base_uri": "https://localhost:8080/",
          "height": 136
        },
        "outputId": "d5534b17-1b5c-49e2-b8ef-6363e7a46caf"
      },
      "source": [
        "print(type(10))  #integer\n",
        "print(type(11.09))  #float\n",
        "print(type(6+12j))  #complex\n",
        "print(type(\"This is string\"))   #String\n",
        "x=('abcd', 232, 1.90,'vyx',8.99)    #tuple\n",
        "print(type(x))    \n",
        "y = ['abcd', 232, 1.90,'vyx',8.99]    #list\n",
        "print(type(y))\n",
        "one ={'name': 'john','code':6734, 'dept': 'sales'}    #dict\n",
        "print(type(one))"
      ],
      "execution_count": null,
      "outputs": [
        {
          "output_type": "stream",
          "text": [
            "<class 'int'>\n",
            "<class 'float'>\n",
            "<class 'complex'>\n",
            "<class 'str'>\n",
            "<class 'tuple'>\n",
            "<class 'list'>\n",
            "<class 'dict'>\n"
          ],
          "name": "stdout"
        }
      ]
    },
    {
      "cell_type": "markdown",
      "metadata": {
        "id": "NYIhng6Wo7g2",
        "colab_type": "text"
      },
      "source": [
        "7. Create a Markdown cell in jupyter and list the steps discussed in the session by Dr. Darshan\n",
        "Ingle sir to create Github profile and upload Githubs Assignment link."
      ]
    },
    {
      "cell_type": "markdown",
      "metadata": {
        "id": "8DHB9wqbpCHx",
        "colab_type": "text"
      },
      "source": [
        "GitHub is the place where programmers uploaad their work. It is also used to build a profile, by signing using gmail id.\n",
        "\n",
        "\n",
        "After completion of the lecture, each day assignments will be given.\n",
        "Save those assignments in Daywise format on your local drive.\n",
        "\n",
        "\n",
        "We have to write the assignment and save the file in ipynb format.\n",
        "On Github, create a new repository named as \"LetsUpgrade AI-ML\" and save it.\n",
        "\n",
        "\n",
        "On site, click on upload existing file link, and drag and drop the folder in which the assignment has been saved.\n",
        "\n",
        "\n",
        "Upload the assignment on Google form provided by the LetsUpgrade team and fill the form and submit.\n"
      ]
    }
  ]
}