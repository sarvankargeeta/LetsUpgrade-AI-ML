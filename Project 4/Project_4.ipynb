{
  "nbformat": 4,
  "nbformat_minor": 0,
  "metadata": {
    "colab": {
      "name": "Project 4.ipynb",
      "provenance": [],
      "collapsed_sections": []
    },
    "kernelspec": {
      "name": "python3",
      "display_name": "Python 3"
    }
  },
  "cells": [
    {
      "cell_type": "code",
      "metadata": {
        "id": "sniHaRg7_pbs"
      },
      "source": [
        ""
      ],
      "execution_count": null,
      "outputs": []
    },
    {
      "cell_type": "markdown",
      "metadata": {
        "id": "637GEbIS_4Zg"
      },
      "source": [
        "# Collecting Text Data using Twitter API"
      ]
    },
    {
      "cell_type": "code",
      "metadata": {
        "id": "s896L3BmACgI"
      },
      "source": [
        "import numpy as np\n",
        "import pandas as pd\n",
        "import tweepy\n",
        "import json\n",
        "from tweepy import OAuthHandler"
      ],
      "execution_count": 1,
      "outputs": []
    },
    {
      "cell_type": "code",
      "metadata": {
        "id": "H3zSajot-dpJ"
      },
      "source": [
        "consumer_key = \"kiiqIyYDM1LIpW1niRszMSVDE\"\n",
        "consumer_secret = \"LxNoYOvbCocnTTb2oQnWFZgxQlDmgxFaG0jYf5xmXXYSS8s4YO\"\n",
        "access_token = \"1245903768635322374-KQLSbIjZui9xcsAMBHaMs8mR5MWvsO\"\n",
        "access_token_secret = \"4TIZboocLKBDrjGrPbMur6uc0Osk1ZhduefykBUAUQ01B\""
      ],
      "execution_count": 2,
      "outputs": []
    },
    {
      "cell_type": "code",
      "metadata": {
        "id": "eyTA3oxG-_mK"
      },
      "source": [
        "auth = tweepy.OAuthHandler( consumer_key , consumer_secret )\n",
        "auth.set_access_token( access_token , access_token_secret )\n",
        "api = tweepy.API(auth)"
      ],
      "execution_count": 4,
      "outputs": []
    },
    {
      "cell_type": "code",
      "metadata": {
        "id": "_I4l7pqM_DMo"
      },
      "source": [
        "query = \"schools open in Maharashtra\""
      ],
      "execution_count": 5,
      "outputs": []
    },
    {
      "cell_type": "code",
      "metadata": {
        "colab": {
          "base_uri": "https://localhost:8080/"
        },
        "id": "gp9zMgJb_V2E",
        "outputId": "1a72a7fb-0037-4668-eb18-b91e056cd7db"
      },
      "source": [
        "Tweets = api.search( query , count=10 , lang='en' , exclude='retweets' , tweet_mode='extended' )\n",
        "# tweet_mode='extended'\n",
        "# tweet_mode='compat'\n",
        "\n",
        "for tweet in Tweets:\n",
        "    print(tweet,\"\\n\")\n",
        "    print(\".....................................\\n\")"
      ],
      "execution_count": 6,
      "outputs": [
        {
          "output_type": "stream",
          "text": [
            "Status(_api=<tweepy.api.API object at 0x7f2c0552dc18>, _json={'created_at': 'Sat Nov 21 02:15:19 +0000 2020', 'id': 1329971624196534272, 'id_str': '1329971624196534272', 'full_text': \"Maharashtra: Schools won't open on Monday, to remain shut till year-end https://t.co/a5Q7hCen5W\", 'truncated': False, 'display_text_range': [0, 95], 'entities': {'hashtags': [], 'symbols': [], 'user_mentions': [], 'urls': [{'url': 'https://t.co/a5Q7hCen5W', 'expanded_url': 'http://toi.in/wmCyJa38', 'display_url': 'toi.in/wmCyJa38', 'indices': [72, 95]}]}, 'metadata': {'iso_language_code': 'en', 'result_type': 'recent'}, 'source': '<a href=\"http://www.toi.in\" rel=\"nofollow\">cmssocialservice</a>', 'in_reply_to_status_id': None, 'in_reply_to_status_id_str': None, 'in_reply_to_user_id': None, 'in_reply_to_user_id_str': None, 'in_reply_to_screen_name': None, 'user': {'id': 30846824, 'id_str': '30846824', 'name': 'TOI Cities', 'screen_name': 'TOICitiesNews', 'location': '', 'description': 'Unmatched coverage from over 60 cities across India brought to you by https://t.co/VSKi1mkZBr', 'url': 'https://t.co/JcPDiuuhoz', 'entities': {'url': {'urls': [{'url': 'https://t.co/JcPDiuuhoz', 'expanded_url': 'http://timesofindia.indiatimes.com/city', 'display_url': 'timesofindia.indiatimes.com/city', 'indices': [0, 23]}]}, 'description': {'urls': [{'url': 'https://t.co/VSKi1mkZBr', 'expanded_url': 'http://timesofindia.com', 'display_url': 'timesofindia.com', 'indices': [70, 93]}]}}, 'protected': False, 'followers_count': 21523, 'friends_count': 96, 'listed_count': 226, 'created_at': 'Mon Apr 13 11:14:45 +0000 2009', 'favourites_count': 199, 'utc_offset': None, 'time_zone': None, 'geo_enabled': False, 'verified': True, 'statuses_count': 818382, 'lang': None, 'contributors_enabled': False, 'is_translator': False, 'is_translation_enabled': False, 'profile_background_color': 'C0DEED', 'profile_background_image_url': 'http://abs.twimg.com/images/themes/theme1/bg.png', 'profile_background_image_url_https': 'https://abs.twimg.com/images/themes/theme1/bg.png', 'profile_background_tile': False, 'profile_image_url': 'http://pbs.twimg.com/profile_images/906649119/TOI_normal.jpg', 'profile_image_url_https': 'https://pbs.twimg.com/profile_images/906649119/TOI_normal.jpg', 'profile_banner_url': 'https://pbs.twimg.com/profile_banners/30846824/1461150913', 'profile_link_color': '0084B4', 'profile_sidebar_border_color': 'C0DEED', 'profile_sidebar_fill_color': 'DDEEF6', 'profile_text_color': '333333', 'profile_use_background_image': True, 'has_extended_profile': False, 'default_profile': False, 'default_profile_image': False, 'following': False, 'follow_request_sent': False, 'notifications': False, 'translator_type': 'none'}, 'geo': None, 'coordinates': None, 'place': None, 'contributors': None, 'is_quote_status': False, 'retweet_count': 0, 'favorite_count': 0, 'favorited': False, 'retweeted': False, 'possibly_sensitive': False, 'lang': 'en'}, created_at=datetime.datetime(2020, 11, 21, 2, 15, 19), id=1329971624196534272, id_str='1329971624196534272', full_text=\"Maharashtra: Schools won't open on Monday, to remain shut till year-end https://t.co/a5Q7hCen5W\", truncated=False, display_text_range=[0, 95], entities={'hashtags': [], 'symbols': [], 'user_mentions': [], 'urls': [{'url': 'https://t.co/a5Q7hCen5W', 'expanded_url': 'http://toi.in/wmCyJa38', 'display_url': 'toi.in/wmCyJa38', 'indices': [72, 95]}]}, metadata={'iso_language_code': 'en', 'result_type': 'recent'}, source='cmssocialservice', source_url='http://www.toi.in', in_reply_to_status_id=None, in_reply_to_status_id_str=None, in_reply_to_user_id=None, in_reply_to_user_id_str=None, in_reply_to_screen_name=None, author=User(_api=<tweepy.api.API object at 0x7f2c0552dc18>, _json={'id': 30846824, 'id_str': '30846824', 'name': 'TOI Cities', 'screen_name': 'TOICitiesNews', 'location': '', 'description': 'Unmatched coverage from over 60 cities across India brought to you by https://t.co/VSKi1mkZBr', 'url': 'https://t.co/JcPDiuuhoz', 'entities': {'url': {'urls': [{'url': 'https://t.co/JcPDiuuhoz', 'expanded_url': 'http://timesofindia.indiatimes.com/city', 'display_url': 'timesofindia.indiatimes.com/city', 'indices': [0, 23]}]}, 'description': {'urls': [{'url': 'https://t.co/VSKi1mkZBr', 'expanded_url': 'http://timesofindia.com', 'display_url': 'timesofindia.com', 'indices': [70, 93]}]}}, 'protected': False, 'followers_count': 21523, 'friends_count': 96, 'listed_count': 226, 'created_at': 'Mon Apr 13 11:14:45 +0000 2009', 'favourites_count': 199, 'utc_offset': None, 'time_zone': None, 'geo_enabled': False, 'verified': True, 'statuses_count': 818382, 'lang': None, 'contributors_enabled': False, 'is_translator': False, 'is_translation_enabled': False, 'profile_background_color': 'C0DEED', 'profile_background_image_url': 'http://abs.twimg.com/images/themes/theme1/bg.png', 'profile_background_image_url_https': 'https://abs.twimg.com/images/themes/theme1/bg.png', 'profile_background_tile': False, 'profile_image_url': 'http://pbs.twimg.com/profile_images/906649119/TOI_normal.jpg', 'profile_image_url_https': 'https://pbs.twimg.com/profile_images/906649119/TOI_normal.jpg', 'profile_banner_url': 'https://pbs.twimg.com/profile_banners/30846824/1461150913', 'profile_link_color': '0084B4', 'profile_sidebar_border_color': 'C0DEED', 'profile_sidebar_fill_color': 'DDEEF6', 'profile_text_color': '333333', 'profile_use_background_image': True, 'has_extended_profile': False, 'default_profile': False, 'default_profile_image': False, 'following': False, 'follow_request_sent': False, 'notifications': False, 'translator_type': 'none'}, id=30846824, id_str='30846824', name='TOI Cities', screen_name='TOICitiesNews', location='', description='Unmatched coverage from over 60 cities across India brought to you by https://t.co/VSKi1mkZBr', url='https://t.co/JcPDiuuhoz', entities={'url': {'urls': [{'url': 'https://t.co/JcPDiuuhoz', 'expanded_url': 'http://timesofindia.indiatimes.com/city', 'display_url': 'timesofindia.indiatimes.com/city', 'indices': [0, 23]}]}, 'description': {'urls': [{'url': 'https://t.co/VSKi1mkZBr', 'expanded_url': 'http://timesofindia.com', 'display_url': 'timesofindia.com', 'indices': [70, 93]}]}}, protected=False, followers_count=21523, friends_count=96, listed_count=226, created_at=datetime.datetime(2009, 4, 13, 11, 14, 45), favourites_count=199, utc_offset=None, time_zone=None, geo_enabled=False, verified=True, statuses_count=818382, lang=None, contributors_enabled=False, is_translator=False, is_translation_enabled=False, profile_background_color='C0DEED', profile_background_image_url='http://abs.twimg.com/images/themes/theme1/bg.png', profile_background_image_url_https='https://abs.twimg.com/images/themes/theme1/bg.png', profile_background_tile=False, profile_image_url='http://pbs.twimg.com/profile_images/906649119/TOI_normal.jpg', profile_image_url_https='https://pbs.twimg.com/profile_images/906649119/TOI_normal.jpg', profile_banner_url='https://pbs.twimg.com/profile_banners/30846824/1461150913', profile_link_color='0084B4', profile_sidebar_border_color='C0DEED', profile_sidebar_fill_color='DDEEF6', profile_text_color='333333', profile_use_background_image=True, has_extended_profile=False, default_profile=False, default_profile_image=False, following=False, follow_request_sent=False, notifications=False, translator_type='none'), user=User(_api=<tweepy.api.API object at 0x7f2c0552dc18>, _json={'id': 30846824, 'id_str': '30846824', 'name': 'TOI Cities', 'screen_name': 'TOICitiesNews', 'location': '', 'description': 'Unmatched coverage from over 60 cities across India brought to you by https://t.co/VSKi1mkZBr', 'url': 'https://t.co/JcPDiuuhoz', 'entities': {'url': {'urls': [{'url': 'https://t.co/JcPDiuuhoz', 'expanded_url': 'http://timesofindia.indiatimes.com/city', 'display_url': 'timesofindia.indiatimes.com/city', 'indices': [0, 23]}]}, 'description': {'urls': [{'url': 'https://t.co/VSKi1mkZBr', 'expanded_url': 'http://timesofindia.com', 'display_url': 'timesofindia.com', 'indices': [70, 93]}]}}, 'protected': False, 'followers_count': 21523, 'friends_count': 96, 'listed_count': 226, 'created_at': 'Mon Apr 13 11:14:45 +0000 2009', 'favourites_count': 199, 'utc_offset': None, 'time_zone': None, 'geo_enabled': False, 'verified': True, 'statuses_count': 818382, 'lang': None, 'contributors_enabled': False, 'is_translator': False, 'is_translation_enabled': False, 'profile_background_color': 'C0DEED', 'profile_background_image_url': 'http://abs.twimg.com/images/themes/theme1/bg.png', 'profile_background_image_url_https': 'https://abs.twimg.com/images/themes/theme1/bg.png', 'profile_background_tile': False, 'profile_image_url': 'http://pbs.twimg.com/profile_images/906649119/TOI_normal.jpg', 'profile_image_url_https': 'https://pbs.twimg.com/profile_images/906649119/TOI_normal.jpg', 'profile_banner_url': 'https://pbs.twimg.com/profile_banners/30846824/1461150913', 'profile_link_color': '0084B4', 'profile_sidebar_border_color': 'C0DEED', 'profile_sidebar_fill_color': 'DDEEF6', 'profile_text_color': '333333', 'profile_use_background_image': True, 'has_extended_profile': False, 'default_profile': False, 'default_profile_image': False, 'following': False, 'follow_request_sent': False, 'notifications': False, 'translator_type': 'none'}, id=30846824, id_str='30846824', name='TOI Cities', screen_name='TOICitiesNews', location='', description='Unmatched coverage from over 60 cities across India brought to you by https://t.co/VSKi1mkZBr', url='https://t.co/JcPDiuuhoz', entities={'url': {'urls': [{'url': 'https://t.co/JcPDiuuhoz', 'expanded_url': 'http://timesofindia.indiatimes.com/city', 'display_url': 'timesofindia.indiatimes.com/city', 'indices': [0, 23]}]}, 'description': {'urls': [{'url': 'https://t.co/VSKi1mkZBr', 'expanded_url': 'http://timesofindia.com', 'display_url': 'timesofindia.com', 'indices': [70, 93]}]}}, protected=False, followers_count=21523, friends_count=96, listed_count=226, created_at=datetime.datetime(2009, 4, 13, 11, 14, 45), favourites_count=199, utc_offset=None, time_zone=None, geo_enabled=False, verified=True, statuses_count=818382, lang=None, contributors_enabled=False, is_translator=False, is_translation_enabled=False, profile_background_color='C0DEED', profile_background_image_url='http://abs.twimg.com/images/themes/theme1/bg.png', profile_background_image_url_https='https://abs.twimg.com/images/themes/theme1/bg.png', profile_background_tile=False, profile_image_url='http://pbs.twimg.com/profile_images/906649119/TOI_normal.jpg', profile_image_url_https='https://pbs.twimg.com/profile_images/906649119/TOI_normal.jpg', profile_banner_url='https://pbs.twimg.com/profile_banners/30846824/1461150913', profile_link_color='0084B4', profile_sidebar_border_color='C0DEED', profile_sidebar_fill_color='DDEEF6', profile_text_color='333333', profile_use_background_image=True, has_extended_profile=False, default_profile=False, default_profile_image=False, following=False, follow_request_sent=False, notifications=False, translator_type='none'), geo=None, coordinates=None, place=None, contributors=None, is_quote_status=False, retweet_count=0, favorite_count=0, favorited=False, retweeted=False, possibly_sensitive=False, lang='en') \n",
            "\n",
            ".....................................\n",
            "\n",
            "Status(_api=<tweepy.api.API object at 0x7f2c0552dc18>, _json={'created_at': 'Sat Nov 21 02:14:49 +0000 2020', 'id': 1329971496274432001, 'id_str': '1329971496274432001', 'full_text': \"Maharashtra: Schools won't open on Monday, to remain shut till year-end https://t.co/mDcam6tGzG\", 'truncated': False, 'display_text_range': [0, 95], 'entities': {'hashtags': [], 'symbols': [], 'user_mentions': [], 'urls': [{'url': 'https://t.co/mDcam6tGzG', 'expanded_url': 'http://toi.in/5mz1pb', 'display_url': 'toi.in/5mz1pb', 'indices': [72, 95]}]}, 'metadata': {'iso_language_code': 'en', 'result_type': 'recent'}, 'source': '<a href=\"http://www.toi.in\" rel=\"nofollow\">cmssocialservice</a>', 'in_reply_to_status_id': None, 'in_reply_to_status_id_str': None, 'in_reply_to_user_id': None, 'in_reply_to_user_id_str': None, 'in_reply_to_screen_name': None, 'user': {'id': 30846824, 'id_str': '30846824', 'name': 'TOI Cities', 'screen_name': 'TOICitiesNews', 'location': '', 'description': 'Unmatched coverage from over 60 cities across India brought to you by https://t.co/VSKi1mkZBr', 'url': 'https://t.co/JcPDiuuhoz', 'entities': {'url': {'urls': [{'url': 'https://t.co/JcPDiuuhoz', 'expanded_url': 'http://timesofindia.indiatimes.com/city', 'display_url': 'timesofindia.indiatimes.com/city', 'indices': [0, 23]}]}, 'description': {'urls': [{'url': 'https://t.co/VSKi1mkZBr', 'expanded_url': 'http://timesofindia.com', 'display_url': 'timesofindia.com', 'indices': [70, 93]}]}}, 'protected': False, 'followers_count': 21523, 'friends_count': 96, 'listed_count': 226, 'created_at': 'Mon Apr 13 11:14:45 +0000 2009', 'favourites_count': 199, 'utc_offset': None, 'time_zone': None, 'geo_enabled': False, 'verified': True, 'statuses_count': 818382, 'lang': None, 'contributors_enabled': False, 'is_translator': False, 'is_translation_enabled': False, 'profile_background_color': 'C0DEED', 'profile_background_image_url': 'http://abs.twimg.com/images/themes/theme1/bg.png', 'profile_background_image_url_https': 'https://abs.twimg.com/images/themes/theme1/bg.png', 'profile_background_tile': False, 'profile_image_url': 'http://pbs.twimg.com/profile_images/906649119/TOI_normal.jpg', 'profile_image_url_https': 'https://pbs.twimg.com/profile_images/906649119/TOI_normal.jpg', 'profile_banner_url': 'https://pbs.twimg.com/profile_banners/30846824/1461150913', 'profile_link_color': '0084B4', 'profile_sidebar_border_color': 'C0DEED', 'profile_sidebar_fill_color': 'DDEEF6', 'profile_text_color': '333333', 'profile_use_background_image': True, 'has_extended_profile': False, 'default_profile': False, 'default_profile_image': False, 'following': False, 'follow_request_sent': False, 'notifications': False, 'translator_type': 'none'}, 'geo': None, 'coordinates': None, 'place': None, 'contributors': None, 'is_quote_status': False, 'retweet_count': 0, 'favorite_count': 0, 'favorited': False, 'retweeted': False, 'possibly_sensitive': False, 'lang': 'en'}, created_at=datetime.datetime(2020, 11, 21, 2, 14, 49), id=1329971496274432001, id_str='1329971496274432001', full_text=\"Maharashtra: Schools won't open on Monday, to remain shut till year-end https://t.co/mDcam6tGzG\", truncated=False, display_text_range=[0, 95], entities={'hashtags': [], 'symbols': [], 'user_mentions': [], 'urls': [{'url': 'https://t.co/mDcam6tGzG', 'expanded_url': 'http://toi.in/5mz1pb', 'display_url': 'toi.in/5mz1pb', 'indices': [72, 95]}]}, metadata={'iso_language_code': 'en', 'result_type': 'recent'}, source='cmssocialservice', source_url='http://www.toi.in', in_reply_to_status_id=None, in_reply_to_status_id_str=None, in_reply_to_user_id=None, in_reply_to_user_id_str=None, in_reply_to_screen_name=None, author=User(_api=<tweepy.api.API object at 0x7f2c0552dc18>, _json={'id': 30846824, 'id_str': '30846824', 'name': 'TOI Cities', 'screen_name': 'TOICitiesNews', 'location': '', 'description': 'Unmatched coverage from over 60 cities across India brought to you by https://t.co/VSKi1mkZBr', 'url': 'https://t.co/JcPDiuuhoz', 'entities': {'url': {'urls': [{'url': 'https://t.co/JcPDiuuhoz', 'expanded_url': 'http://timesofindia.indiatimes.com/city', 'display_url': 'timesofindia.indiatimes.com/city', 'indices': [0, 23]}]}, 'description': {'urls': [{'url': 'https://t.co/VSKi1mkZBr', 'expanded_url': 'http://timesofindia.com', 'display_url': 'timesofindia.com', 'indices': [70, 93]}]}}, 'protected': False, 'followers_count': 21523, 'friends_count': 96, 'listed_count': 226, 'created_at': 'Mon Apr 13 11:14:45 +0000 2009', 'favourites_count': 199, 'utc_offset': None, 'time_zone': None, 'geo_enabled': False, 'verified': True, 'statuses_count': 818382, 'lang': None, 'contributors_enabled': False, 'is_translator': False, 'is_translation_enabled': False, 'profile_background_color': 'C0DEED', 'profile_background_image_url': 'http://abs.twimg.com/images/themes/theme1/bg.png', 'profile_background_image_url_https': 'https://abs.twimg.com/images/themes/theme1/bg.png', 'profile_background_tile': False, 'profile_image_url': 'http://pbs.twimg.com/profile_images/906649119/TOI_normal.jpg', 'profile_image_url_https': 'https://pbs.twimg.com/profile_images/906649119/TOI_normal.jpg', 'profile_banner_url': 'https://pbs.twimg.com/profile_banners/30846824/1461150913', 'profile_link_color': '0084B4', 'profile_sidebar_border_color': 'C0DEED', 'profile_sidebar_fill_color': 'DDEEF6', 'profile_text_color': '333333', 'profile_use_background_image': True, 'has_extended_profile': False, 'default_profile': False, 'default_profile_image': False, 'following': False, 'follow_request_sent': False, 'notifications': False, 'translator_type': 'none'}, id=30846824, id_str='30846824', name='TOI Cities', screen_name='TOICitiesNews', location='', description='Unmatched coverage from over 60 cities across India brought to you by https://t.co/VSKi1mkZBr', url='https://t.co/JcPDiuuhoz', entities={'url': {'urls': [{'url': 'https://t.co/JcPDiuuhoz', 'expanded_url': 'http://timesofindia.indiatimes.com/city', 'display_url': 'timesofindia.indiatimes.com/city', 'indices': [0, 23]}]}, 'description': {'urls': [{'url': 'https://t.co/VSKi1mkZBr', 'expanded_url': 'http://timesofindia.com', 'display_url': 'timesofindia.com', 'indices': [70, 93]}]}}, protected=False, followers_count=21523, friends_count=96, listed_count=226, created_at=datetime.datetime(2009, 4, 13, 11, 14, 45), favourites_count=199, utc_offset=None, time_zone=None, geo_enabled=False, verified=True, statuses_count=818382, lang=None, contributors_enabled=False, is_translator=False, is_translation_enabled=False, profile_background_color='C0DEED', profile_background_image_url='http://abs.twimg.com/images/themes/theme1/bg.png', profile_background_image_url_https='https://abs.twimg.com/images/themes/theme1/bg.png', profile_background_tile=False, profile_image_url='http://pbs.twimg.com/profile_images/906649119/TOI_normal.jpg', profile_image_url_https='https://pbs.twimg.com/profile_images/906649119/TOI_normal.jpg', profile_banner_url='https://pbs.twimg.com/profile_banners/30846824/1461150913', profile_link_color='0084B4', profile_sidebar_border_color='C0DEED', profile_sidebar_fill_color='DDEEF6', profile_text_color='333333', profile_use_background_image=True, has_extended_profile=False, default_profile=False, default_profile_image=False, following=False, follow_request_sent=False, notifications=False, translator_type='none'), user=User(_api=<tweepy.api.API object at 0x7f2c0552dc18>, _json={'id': 30846824, 'id_str': '30846824', 'name': 'TOI Cities', 'screen_name': 'TOICitiesNews', 'location': '', 'description': 'Unmatched coverage from over 60 cities across India brought to you by https://t.co/VSKi1mkZBr', 'url': 'https://t.co/JcPDiuuhoz', 'entities': {'url': {'urls': [{'url': 'https://t.co/JcPDiuuhoz', 'expanded_url': 'http://timesofindia.indiatimes.com/city', 'display_url': 'timesofindia.indiatimes.com/city', 'indices': [0, 23]}]}, 'description': {'urls': [{'url': 'https://t.co/VSKi1mkZBr', 'expanded_url': 'http://timesofindia.com', 'display_url': 'timesofindia.com', 'indices': [70, 93]}]}}, 'protected': False, 'followers_count': 21523, 'friends_count': 96, 'listed_count': 226, 'created_at': 'Mon Apr 13 11:14:45 +0000 2009', 'favourites_count': 199, 'utc_offset': None, 'time_zone': None, 'geo_enabled': False, 'verified': True, 'statuses_count': 818382, 'lang': None, 'contributors_enabled': False, 'is_translator': False, 'is_translation_enabled': False, 'profile_background_color': 'C0DEED', 'profile_background_image_url': 'http://abs.twimg.com/images/themes/theme1/bg.png', 'profile_background_image_url_https': 'https://abs.twimg.com/images/themes/theme1/bg.png', 'profile_background_tile': False, 'profile_image_url': 'http://pbs.twimg.com/profile_images/906649119/TOI_normal.jpg', 'profile_image_url_https': 'https://pbs.twimg.com/profile_images/906649119/TOI_normal.jpg', 'profile_banner_url': 'https://pbs.twimg.com/profile_banners/30846824/1461150913', 'profile_link_color': '0084B4', 'profile_sidebar_border_color': 'C0DEED', 'profile_sidebar_fill_color': 'DDEEF6', 'profile_text_color': '333333', 'profile_use_background_image': True, 'has_extended_profile': False, 'default_profile': False, 'default_profile_image': False, 'following': False, 'follow_request_sent': False, 'notifications': False, 'translator_type': 'none'}, id=30846824, id_str='30846824', name='TOI Cities', screen_name='TOICitiesNews', location='', description='Unmatched coverage from over 60 cities across India brought to you by https://t.co/VSKi1mkZBr', url='https://t.co/JcPDiuuhoz', entities={'url': {'urls': [{'url': 'https://t.co/JcPDiuuhoz', 'expanded_url': 'http://timesofindia.indiatimes.com/city', 'display_url': 'timesofindia.indiatimes.com/city', 'indices': [0, 23]}]}, 'description': {'urls': [{'url': 'https://t.co/VSKi1mkZBr', 'expanded_url': 'http://timesofindia.com', 'display_url': 'timesofindia.com', 'indices': [70, 93]}]}}, protected=False, followers_count=21523, friends_count=96, listed_count=226, created_at=datetime.datetime(2009, 4, 13, 11, 14, 45), favourites_count=199, utc_offset=None, time_zone=None, geo_enabled=False, verified=True, statuses_count=818382, lang=None, contributors_enabled=False, is_translator=False, is_translation_enabled=False, profile_background_color='C0DEED', profile_background_image_url='http://abs.twimg.com/images/themes/theme1/bg.png', profile_background_image_url_https='https://abs.twimg.com/images/themes/theme1/bg.png', profile_background_tile=False, profile_image_url='http://pbs.twimg.com/profile_images/906649119/TOI_normal.jpg', profile_image_url_https='https://pbs.twimg.com/profile_images/906649119/TOI_normal.jpg', profile_banner_url='https://pbs.twimg.com/profile_banners/30846824/1461150913', profile_link_color='0084B4', profile_sidebar_border_color='C0DEED', profile_sidebar_fill_color='DDEEF6', profile_text_color='333333', profile_use_background_image=True, has_extended_profile=False, default_profile=False, default_profile_image=False, following=False, follow_request_sent=False, notifications=False, translator_type='none'), geo=None, coordinates=None, place=None, contributors=None, is_quote_status=False, retweet_count=0, favorite_count=0, favorited=False, retweeted=False, possibly_sensitive=False, lang='en') \n",
            "\n",
            ".....................................\n",
            "\n",
            "Status(_api=<tweepy.api.API object at 0x7f2c0552dc18>, _json={'created_at': 'Sat Nov 21 02:14:18 +0000 2020', 'id': 1329971368343965698, 'id_str': '1329971368343965698', 'full_text': \"Maharashtra: Schools won't open on Monday, to remain shut till year-end https://t.co/0fRCVXLDwl\", 'truncated': False, 'display_text_range': [0, 95], 'entities': {'hashtags': [], 'symbols': [], 'user_mentions': [], 'urls': [{'url': 'https://t.co/0fRCVXLDwl', 'expanded_url': 'http://toi.in/MgIlNa', 'display_url': 'toi.in/MgIlNa', 'indices': [72, 95]}]}, 'metadata': {'iso_language_code': 'en', 'result_type': 'recent'}, 'source': '<a href=\"http://www.toi.in\" rel=\"nofollow\">cmssocialservice</a>', 'in_reply_to_status_id': None, 'in_reply_to_status_id_str': None, 'in_reply_to_user_id': None, 'in_reply_to_user_id_str': None, 'in_reply_to_screen_name': None, 'user': {'id': 30846824, 'id_str': '30846824', 'name': 'TOI Cities', 'screen_name': 'TOICitiesNews', 'location': '', 'description': 'Unmatched coverage from over 60 cities across India brought to you by https://t.co/VSKi1mkZBr', 'url': 'https://t.co/JcPDiuuhoz', 'entities': {'url': {'urls': [{'url': 'https://t.co/JcPDiuuhoz', 'expanded_url': 'http://timesofindia.indiatimes.com/city', 'display_url': 'timesofindia.indiatimes.com/city', 'indices': [0, 23]}]}, 'description': {'urls': [{'url': 'https://t.co/VSKi1mkZBr', 'expanded_url': 'http://timesofindia.com', 'display_url': 'timesofindia.com', 'indices': [70, 93]}]}}, 'protected': False, 'followers_count': 21523, 'friends_count': 96, 'listed_count': 226, 'created_at': 'Mon Apr 13 11:14:45 +0000 2009', 'favourites_count': 199, 'utc_offset': None, 'time_zone': None, 'geo_enabled': False, 'verified': True, 'statuses_count': 818382, 'lang': None, 'contributors_enabled': False, 'is_translator': False, 'is_translation_enabled': False, 'profile_background_color': 'C0DEED', 'profile_background_image_url': 'http://abs.twimg.com/images/themes/theme1/bg.png', 'profile_background_image_url_https': 'https://abs.twimg.com/images/themes/theme1/bg.png', 'profile_background_tile': False, 'profile_image_url': 'http://pbs.twimg.com/profile_images/906649119/TOI_normal.jpg', 'profile_image_url_https': 'https://pbs.twimg.com/profile_images/906649119/TOI_normal.jpg', 'profile_banner_url': 'https://pbs.twimg.com/profile_banners/30846824/1461150913', 'profile_link_color': '0084B4', 'profile_sidebar_border_color': 'C0DEED', 'profile_sidebar_fill_color': 'DDEEF6', 'profile_text_color': '333333', 'profile_use_background_image': True, 'has_extended_profile': False, 'default_profile': False, 'default_profile_image': False, 'following': False, 'follow_request_sent': False, 'notifications': False, 'translator_type': 'none'}, 'geo': None, 'coordinates': None, 'place': None, 'contributors': None, 'is_quote_status': False, 'retweet_count': 0, 'favorite_count': 0, 'favorited': False, 'retweeted': False, 'possibly_sensitive': False, 'lang': 'en'}, created_at=datetime.datetime(2020, 11, 21, 2, 14, 18), id=1329971368343965698, id_str='1329971368343965698', full_text=\"Maharashtra: Schools won't open on Monday, to remain shut till year-end https://t.co/0fRCVXLDwl\", truncated=False, display_text_range=[0, 95], entities={'hashtags': [], 'symbols': [], 'user_mentions': [], 'urls': [{'url': 'https://t.co/0fRCVXLDwl', 'expanded_url': 'http://toi.in/MgIlNa', 'display_url': 'toi.in/MgIlNa', 'indices': [72, 95]}]}, metadata={'iso_language_code': 'en', 'result_type': 'recent'}, source='cmssocialservice', source_url='http://www.toi.in', in_reply_to_status_id=None, in_reply_to_status_id_str=None, in_reply_to_user_id=None, in_reply_to_user_id_str=None, in_reply_to_screen_name=None, author=User(_api=<tweepy.api.API object at 0x7f2c0552dc18>, _json={'id': 30846824, 'id_str': '30846824', 'name': 'TOI Cities', 'screen_name': 'TOICitiesNews', 'location': '', 'description': 'Unmatched coverage from over 60 cities across India brought to you by https://t.co/VSKi1mkZBr', 'url': 'https://t.co/JcPDiuuhoz', 'entities': {'url': {'urls': [{'url': 'https://t.co/JcPDiuuhoz', 'expanded_url': 'http://timesofindia.indiatimes.com/city', 'display_url': 'timesofindia.indiatimes.com/city', 'indices': [0, 23]}]}, 'description': {'urls': [{'url': 'https://t.co/VSKi1mkZBr', 'expanded_url': 'http://timesofindia.com', 'display_url': 'timesofindia.com', 'indices': [70, 93]}]}}, 'protected': False, 'followers_count': 21523, 'friends_count': 96, 'listed_count': 226, 'created_at': 'Mon Apr 13 11:14:45 +0000 2009', 'favourites_count': 199, 'utc_offset': None, 'time_zone': None, 'geo_enabled': False, 'verified': True, 'statuses_count': 818382, 'lang': None, 'contributors_enabled': False, 'is_translator': False, 'is_translation_enabled': False, 'profile_background_color': 'C0DEED', 'profile_background_image_url': 'http://abs.twimg.com/images/themes/theme1/bg.png', 'profile_background_image_url_https': 'https://abs.twimg.com/images/themes/theme1/bg.png', 'profile_background_tile': False, 'profile_image_url': 'http://pbs.twimg.com/profile_images/906649119/TOI_normal.jpg', 'profile_image_url_https': 'https://pbs.twimg.com/profile_images/906649119/TOI_normal.jpg', 'profile_banner_url': 'https://pbs.twimg.com/profile_banners/30846824/1461150913', 'profile_link_color': '0084B4', 'profile_sidebar_border_color': 'C0DEED', 'profile_sidebar_fill_color': 'DDEEF6', 'profile_text_color': '333333', 'profile_use_background_image': True, 'has_extended_profile': False, 'default_profile': False, 'default_profile_image': False, 'following': False, 'follow_request_sent': False, 'notifications': False, 'translator_type': 'none'}, id=30846824, id_str='30846824', name='TOI Cities', screen_name='TOICitiesNews', location='', description='Unmatched coverage from over 60 cities across India brought to you by https://t.co/VSKi1mkZBr', url='https://t.co/JcPDiuuhoz', entities={'url': {'urls': [{'url': 'https://t.co/JcPDiuuhoz', 'expanded_url': 'http://timesofindia.indiatimes.com/city', 'display_url': 'timesofindia.indiatimes.com/city', 'indices': [0, 23]}]}, 'description': {'urls': [{'url': 'https://t.co/VSKi1mkZBr', 'expanded_url': 'http://timesofindia.com', 'display_url': 'timesofindia.com', 'indices': [70, 93]}]}}, protected=False, followers_count=21523, friends_count=96, listed_count=226, created_at=datetime.datetime(2009, 4, 13, 11, 14, 45), favourites_count=199, utc_offset=None, time_zone=None, geo_enabled=False, verified=True, statuses_count=818382, lang=None, contributors_enabled=False, is_translator=False, is_translation_enabled=False, profile_background_color='C0DEED', profile_background_image_url='http://abs.twimg.com/images/themes/theme1/bg.png', profile_background_image_url_https='https://abs.twimg.com/images/themes/theme1/bg.png', profile_background_tile=False, profile_image_url='http://pbs.twimg.com/profile_images/906649119/TOI_normal.jpg', profile_image_url_https='https://pbs.twimg.com/profile_images/906649119/TOI_normal.jpg', profile_banner_url='https://pbs.twimg.com/profile_banners/30846824/1461150913', profile_link_color='0084B4', profile_sidebar_border_color='C0DEED', profile_sidebar_fill_color='DDEEF6', profile_text_color='333333', profile_use_background_image=True, has_extended_profile=False, default_profile=False, default_profile_image=False, following=False, follow_request_sent=False, notifications=False, translator_type='none'), user=User(_api=<tweepy.api.API object at 0x7f2c0552dc18>, _json={'id': 30846824, 'id_str': '30846824', 'name': 'TOI Cities', 'screen_name': 'TOICitiesNews', 'location': '', 'description': 'Unmatched coverage from over 60 cities across India brought to you by https://t.co/VSKi1mkZBr', 'url': 'https://t.co/JcPDiuuhoz', 'entities': {'url': {'urls': [{'url': 'https://t.co/JcPDiuuhoz', 'expanded_url': 'http://timesofindia.indiatimes.com/city', 'display_url': 'timesofindia.indiatimes.com/city', 'indices': [0, 23]}]}, 'description': {'urls': [{'url': 'https://t.co/VSKi1mkZBr', 'expanded_url': 'http://timesofindia.com', 'display_url': 'timesofindia.com', 'indices': [70, 93]}]}}, 'protected': False, 'followers_count': 21523, 'friends_count': 96, 'listed_count': 226, 'created_at': 'Mon Apr 13 11:14:45 +0000 2009', 'favourites_count': 199, 'utc_offset': None, 'time_zone': None, 'geo_enabled': False, 'verified': True, 'statuses_count': 818382, 'lang': None, 'contributors_enabled': False, 'is_translator': False, 'is_translation_enabled': False, 'profile_background_color': 'C0DEED', 'profile_background_image_url': 'http://abs.twimg.com/images/themes/theme1/bg.png', 'profile_background_image_url_https': 'https://abs.twimg.com/images/themes/theme1/bg.png', 'profile_background_tile': False, 'profile_image_url': 'http://pbs.twimg.com/profile_images/906649119/TOI_normal.jpg', 'profile_image_url_https': 'https://pbs.twimg.com/profile_images/906649119/TOI_normal.jpg', 'profile_banner_url': 'https://pbs.twimg.com/profile_banners/30846824/1461150913', 'profile_link_color': '0084B4', 'profile_sidebar_border_color': 'C0DEED', 'profile_sidebar_fill_color': 'DDEEF6', 'profile_text_color': '333333', 'profile_use_background_image': True, 'has_extended_profile': False, 'default_profile': False, 'default_profile_image': False, 'following': False, 'follow_request_sent': False, 'notifications': False, 'translator_type': 'none'}, id=30846824, id_str='30846824', name='TOI Cities', screen_name='TOICitiesNews', location='', description='Unmatched coverage from over 60 cities across India brought to you by https://t.co/VSKi1mkZBr', url='https://t.co/JcPDiuuhoz', entities={'url': {'urls': [{'url': 'https://t.co/JcPDiuuhoz', 'expanded_url': 'http://timesofindia.indiatimes.com/city', 'display_url': 'timesofindia.indiatimes.com/city', 'indices': [0, 23]}]}, 'description': {'urls': [{'url': 'https://t.co/VSKi1mkZBr', 'expanded_url': 'http://timesofindia.com', 'display_url': 'timesofindia.com', 'indices': [70, 93]}]}}, protected=False, followers_count=21523, friends_count=96, listed_count=226, created_at=datetime.datetime(2009, 4, 13, 11, 14, 45), favourites_count=199, utc_offset=None, time_zone=None, geo_enabled=False, verified=True, statuses_count=818382, lang=None, contributors_enabled=False, is_translator=False, is_translation_enabled=False, profile_background_color='C0DEED', profile_background_image_url='http://abs.twimg.com/images/themes/theme1/bg.png', profile_background_image_url_https='https://abs.twimg.com/images/themes/theme1/bg.png', profile_background_tile=False, profile_image_url='http://pbs.twimg.com/profile_images/906649119/TOI_normal.jpg', profile_image_url_https='https://pbs.twimg.com/profile_images/906649119/TOI_normal.jpg', profile_banner_url='https://pbs.twimg.com/profile_banners/30846824/1461150913', profile_link_color='0084B4', profile_sidebar_border_color='C0DEED', profile_sidebar_fill_color='DDEEF6', profile_text_color='333333', profile_use_background_image=True, has_extended_profile=False, default_profile=False, default_profile_image=False, following=False, follow_request_sent=False, notifications=False, translator_type='none'), geo=None, coordinates=None, place=None, contributors=None, is_quote_status=False, retweet_count=0, favorite_count=0, favorited=False, retweeted=False, possibly_sensitive=False, lang='en') \n",
            "\n",
            ".....................................\n",
            "\n",
            "Status(_api=<tweepy.api.API object at 0x7f2c0552dc18>, _json={'created_at': 'Sat Nov 21 01:50:45 +0000 2020', 'id': 1329965443205894144, 'id_str': '1329965443205894144', 'full_text': \"Maharashtra: Schools won't open on Monday, to remain shut till year-end https://t.co/j3VEtC5AKI\", 'truncated': False, 'display_text_range': [0, 95], 'entities': {'hashtags': [], 'symbols': [], 'user_mentions': [], 'urls': [{'url': 'https://t.co/j3VEtC5AKI', 'expanded_url': 'http://toi.in/nnXAfY', 'display_url': 'toi.in/nnXAfY', 'indices': [72, 95]}]}, 'metadata': {'iso_language_code': 'en', 'result_type': 'recent'}, 'source': '<a href=\"http://www.toi.in\" rel=\"nofollow\">cmssocialservice</a>', 'in_reply_to_status_id': None, 'in_reply_to_status_id_str': None, 'in_reply_to_user_id': None, 'in_reply_to_user_id_str': None, 'in_reply_to_screen_name': None, 'user': {'id': 30859231, 'id_str': '30859231', 'name': 'TOI Mumbai', 'screen_name': 'TOIMumbai', 'location': 'Mumbai', 'description': 'Your city. Your neighborhood. Your block. Covered for you by https://t.co/VSKi1mkZBr', 'url': 'https://t.co/DVY3ELA2qv', 'entities': {'url': {'urls': [{'url': 'https://t.co/DVY3ELA2qv', 'expanded_url': 'http://timesofindia.indiatimes.com/city/mumbai', 'display_url': 'timesofindia.indiatimes.com/city/mumbai', 'indices': [0, 23]}]}, 'description': {'urls': [{'url': 'https://t.co/VSKi1mkZBr', 'expanded_url': 'http://timesofindia.com', 'display_url': 'timesofindia.com', 'indices': [61, 84]}]}}, 'protected': False, 'followers_count': 221400, 'friends_count': 82, 'listed_count': 478, 'created_at': 'Mon Apr 13 12:56:14 +0000 2009', 'favourites_count': 27, 'utc_offset': None, 'time_zone': None, 'geo_enabled': True, 'verified': True, 'statuses_count': 136168, 'lang': None, 'contributors_enabled': False, 'is_translator': False, 'is_translation_enabled': False, 'profile_background_color': 'C0DEED', 'profile_background_image_url': 'http://abs.twimg.com/images/themes/theme1/bg.png', 'profile_background_image_url_https': 'https://abs.twimg.com/images/themes/theme1/bg.png', 'profile_background_tile': False, 'profile_image_url': 'http://pbs.twimg.com/profile_images/1282401595/icon_512_normal.png', 'profile_image_url_https': 'https://pbs.twimg.com/profile_images/1282401595/icon_512_normal.png', 'profile_banner_url': 'https://pbs.twimg.com/profile_banners/30859231/1400156510', 'profile_link_color': '0084B4', 'profile_sidebar_border_color': 'C0DEED', 'profile_sidebar_fill_color': 'DDEEF6', 'profile_text_color': '333333', 'profile_use_background_image': True, 'has_extended_profile': False, 'default_profile': False, 'default_profile_image': False, 'following': False, 'follow_request_sent': False, 'notifications': False, 'translator_type': 'none'}, 'geo': None, 'coordinates': None, 'place': None, 'contributors': None, 'is_quote_status': False, 'retweet_count': 4, 'favorite_count': 28, 'favorited': False, 'retweeted': False, 'possibly_sensitive': False, 'lang': 'en'}, created_at=datetime.datetime(2020, 11, 21, 1, 50, 45), id=1329965443205894144, id_str='1329965443205894144', full_text=\"Maharashtra: Schools won't open on Monday, to remain shut till year-end https://t.co/j3VEtC5AKI\", truncated=False, display_text_range=[0, 95], entities={'hashtags': [], 'symbols': [], 'user_mentions': [], 'urls': [{'url': 'https://t.co/j3VEtC5AKI', 'expanded_url': 'http://toi.in/nnXAfY', 'display_url': 'toi.in/nnXAfY', 'indices': [72, 95]}]}, metadata={'iso_language_code': 'en', 'result_type': 'recent'}, source='cmssocialservice', source_url='http://www.toi.in', in_reply_to_status_id=None, in_reply_to_status_id_str=None, in_reply_to_user_id=None, in_reply_to_user_id_str=None, in_reply_to_screen_name=None, author=User(_api=<tweepy.api.API object at 0x7f2c0552dc18>, _json={'id': 30859231, 'id_str': '30859231', 'name': 'TOI Mumbai', 'screen_name': 'TOIMumbai', 'location': 'Mumbai', 'description': 'Your city. Your neighborhood. Your block. Covered for you by https://t.co/VSKi1mkZBr', 'url': 'https://t.co/DVY3ELA2qv', 'entities': {'url': {'urls': [{'url': 'https://t.co/DVY3ELA2qv', 'expanded_url': 'http://timesofindia.indiatimes.com/city/mumbai', 'display_url': 'timesofindia.indiatimes.com/city/mumbai', 'indices': [0, 23]}]}, 'description': {'urls': [{'url': 'https://t.co/VSKi1mkZBr', 'expanded_url': 'http://timesofindia.com', 'display_url': 'timesofindia.com', 'indices': [61, 84]}]}}, 'protected': False, 'followers_count': 221400, 'friends_count': 82, 'listed_count': 478, 'created_at': 'Mon Apr 13 12:56:14 +0000 2009', 'favourites_count': 27, 'utc_offset': None, 'time_zone': None, 'geo_enabled': True, 'verified': True, 'statuses_count': 136168, 'lang': None, 'contributors_enabled': False, 'is_translator': False, 'is_translation_enabled': False, 'profile_background_color': 'C0DEED', 'profile_background_image_url': 'http://abs.twimg.com/images/themes/theme1/bg.png', 'profile_background_image_url_https': 'https://abs.twimg.com/images/themes/theme1/bg.png', 'profile_background_tile': False, 'profile_image_url': 'http://pbs.twimg.com/profile_images/1282401595/icon_512_normal.png', 'profile_image_url_https': 'https://pbs.twimg.com/profile_images/1282401595/icon_512_normal.png', 'profile_banner_url': 'https://pbs.twimg.com/profile_banners/30859231/1400156510', 'profile_link_color': '0084B4', 'profile_sidebar_border_color': 'C0DEED', 'profile_sidebar_fill_color': 'DDEEF6', 'profile_text_color': '333333', 'profile_use_background_image': True, 'has_extended_profile': False, 'default_profile': False, 'default_profile_image': False, 'following': False, 'follow_request_sent': False, 'notifications': False, 'translator_type': 'none'}, id=30859231, id_str='30859231', name='TOI Mumbai', screen_name='TOIMumbai', location='Mumbai', description='Your city. Your neighborhood. Your block. Covered for you by https://t.co/VSKi1mkZBr', url='https://t.co/DVY3ELA2qv', entities={'url': {'urls': [{'url': 'https://t.co/DVY3ELA2qv', 'expanded_url': 'http://timesofindia.indiatimes.com/city/mumbai', 'display_url': 'timesofindia.indiatimes.com/city/mumbai', 'indices': [0, 23]}]}, 'description': {'urls': [{'url': 'https://t.co/VSKi1mkZBr', 'expanded_url': 'http://timesofindia.com', 'display_url': 'timesofindia.com', 'indices': [61, 84]}]}}, protected=False, followers_count=221400, friends_count=82, listed_count=478, created_at=datetime.datetime(2009, 4, 13, 12, 56, 14), favourites_count=27, utc_offset=None, time_zone=None, geo_enabled=True, verified=True, statuses_count=136168, lang=None, contributors_enabled=False, is_translator=False, is_translation_enabled=False, profile_background_color='C0DEED', profile_background_image_url='http://abs.twimg.com/images/themes/theme1/bg.png', profile_background_image_url_https='https://abs.twimg.com/images/themes/theme1/bg.png', profile_background_tile=False, profile_image_url='http://pbs.twimg.com/profile_images/1282401595/icon_512_normal.png', profile_image_url_https='https://pbs.twimg.com/profile_images/1282401595/icon_512_normal.png', profile_banner_url='https://pbs.twimg.com/profile_banners/30859231/1400156510', profile_link_color='0084B4', profile_sidebar_border_color='C0DEED', profile_sidebar_fill_color='DDEEF6', profile_text_color='333333', profile_use_background_image=True, has_extended_profile=False, default_profile=False, default_profile_image=False, following=False, follow_request_sent=False, notifications=False, translator_type='none'), user=User(_api=<tweepy.api.API object at 0x7f2c0552dc18>, _json={'id': 30859231, 'id_str': '30859231', 'name': 'TOI Mumbai', 'screen_name': 'TOIMumbai', 'location': 'Mumbai', 'description': 'Your city. Your neighborhood. Your block. Covered for you by https://t.co/VSKi1mkZBr', 'url': 'https://t.co/DVY3ELA2qv', 'entities': {'url': {'urls': [{'url': 'https://t.co/DVY3ELA2qv', 'expanded_url': 'http://timesofindia.indiatimes.com/city/mumbai', 'display_url': 'timesofindia.indiatimes.com/city/mumbai', 'indices': [0, 23]}]}, 'description': {'urls': [{'url': 'https://t.co/VSKi1mkZBr', 'expanded_url': 'http://timesofindia.com', 'display_url': 'timesofindia.com', 'indices': [61, 84]}]}}, 'protected': False, 'followers_count': 221400, 'friends_count': 82, 'listed_count': 478, 'created_at': 'Mon Apr 13 12:56:14 +0000 2009', 'favourites_count': 27, 'utc_offset': None, 'time_zone': None, 'geo_enabled': True, 'verified': True, 'statuses_count': 136168, 'lang': None, 'contributors_enabled': False, 'is_translator': False, 'is_translation_enabled': False, 'profile_background_color': 'C0DEED', 'profile_background_image_url': 'http://abs.twimg.com/images/themes/theme1/bg.png', 'profile_background_image_url_https': 'https://abs.twimg.com/images/themes/theme1/bg.png', 'profile_background_tile': False, 'profile_image_url': 'http://pbs.twimg.com/profile_images/1282401595/icon_512_normal.png', 'profile_image_url_https': 'https://pbs.twimg.com/profile_images/1282401595/icon_512_normal.png', 'profile_banner_url': 'https://pbs.twimg.com/profile_banners/30859231/1400156510', 'profile_link_color': '0084B4', 'profile_sidebar_border_color': 'C0DEED', 'profile_sidebar_fill_color': 'DDEEF6', 'profile_text_color': '333333', 'profile_use_background_image': True, 'has_extended_profile': False, 'default_profile': False, 'default_profile_image': False, 'following': False, 'follow_request_sent': False, 'notifications': False, 'translator_type': 'none'}, id=30859231, id_str='30859231', name='TOI Mumbai', screen_name='TOIMumbai', location='Mumbai', description='Your city. Your neighborhood. Your block. Covered for you by https://t.co/VSKi1mkZBr', url='https://t.co/DVY3ELA2qv', entities={'url': {'urls': [{'url': 'https://t.co/DVY3ELA2qv', 'expanded_url': 'http://timesofindia.indiatimes.com/city/mumbai', 'display_url': 'timesofindia.indiatimes.com/city/mumbai', 'indices': [0, 23]}]}, 'description': {'urls': [{'url': 'https://t.co/VSKi1mkZBr', 'expanded_url': 'http://timesofindia.com', 'display_url': 'timesofindia.com', 'indices': [61, 84]}]}}, protected=False, followers_count=221400, friends_count=82, listed_count=478, created_at=datetime.datetime(2009, 4, 13, 12, 56, 14), favourites_count=27, utc_offset=None, time_zone=None, geo_enabled=True, verified=True, statuses_count=136168, lang=None, contributors_enabled=False, is_translator=False, is_translation_enabled=False, profile_background_color='C0DEED', profile_background_image_url='http://abs.twimg.com/images/themes/theme1/bg.png', profile_background_image_url_https='https://abs.twimg.com/images/themes/theme1/bg.png', profile_background_tile=False, profile_image_url='http://pbs.twimg.com/profile_images/1282401595/icon_512_normal.png', profile_image_url_https='https://pbs.twimg.com/profile_images/1282401595/icon_512_normal.png', profile_banner_url='https://pbs.twimg.com/profile_banners/30859231/1400156510', profile_link_color='0084B4', profile_sidebar_border_color='C0DEED', profile_sidebar_fill_color='DDEEF6', profile_text_color='333333', profile_use_background_image=True, has_extended_profile=False, default_profile=False, default_profile_image=False, following=False, follow_request_sent=False, notifications=False, translator_type='none'), geo=None, coordinates=None, place=None, contributors=None, is_quote_status=False, retweet_count=4, favorite_count=28, favorited=False, retweeted=False, possibly_sensitive=False, lang='en') \n",
            "\n",
            ".....................................\n",
            "\n",
            "Status(_api=<tweepy.api.API object at 0x7f2c0552dc18>, _json={'created_at': 'Sat Nov 21 01:01:33 +0000 2020', 'id': 1329953060425232384, 'id_str': '1329953060425232384', 'full_text': 'test3 Schools in MMR to remain shut till year-end https://t.co/LIRLvsGcGG', 'truncated': False, 'display_text_range': [0, 73], 'entities': {'hashtags': [], 'symbols': [], 'user_mentions': [], 'urls': [{'url': 'https://t.co/LIRLvsGcGG', 'expanded_url': 'https://bit.ly/36Sp30x', 'display_url': 'bit.ly/36Sp30x', 'indices': [50, 73]}]}, 'metadata': {'iso_language_code': 'en', 'result_type': 'recent'}, 'source': '<a href=\"https://sproutsocial.com\" rel=\"nofollow\">Sprout Social</a>', 'in_reply_to_status_id': None, 'in_reply_to_status_id_str': None, 'in_reply_to_user_id': None, 'in_reply_to_user_id_str': None, 'in_reply_to_screen_name': None, 'user': {'id': 740819687022428160, 'id_str': '740819687022428160', 'name': 'Test_Sherlock acc', 'screen_name': 'Testrisha', 'location': '', 'description': '', 'url': None, 'entities': {'description': {'urls': []}}, 'protected': False, 'followers_count': 19, 'friends_count': 74, 'listed_count': 0, 'created_at': 'Thu Jun 09 08:15:51 +0000 2016', 'favourites_count': 13, 'utc_offset': None, 'time_zone': None, 'geo_enabled': False, 'verified': False, 'statuses_count': 22378, 'lang': None, 'contributors_enabled': False, 'is_translator': False, 'is_translation_enabled': False, 'profile_background_color': 'F5F8FA', 'profile_background_image_url': None, 'profile_background_image_url_https': None, 'profile_background_tile': False, 'profile_image_url': 'http://abs.twimg.com/sticky/default_profile_images/default_profile_normal.png', 'profile_image_url_https': 'https://abs.twimg.com/sticky/default_profile_images/default_profile_normal.png', 'profile_link_color': '1DA1F2', 'profile_sidebar_border_color': 'C0DEED', 'profile_sidebar_fill_color': 'DDEEF6', 'profile_text_color': '333333', 'profile_use_background_image': True, 'has_extended_profile': False, 'default_profile': True, 'default_profile_image': True, 'following': False, 'follow_request_sent': False, 'notifications': False, 'translator_type': 'none'}, 'geo': None, 'coordinates': None, 'place': None, 'contributors': None, 'is_quote_status': False, 'retweet_count': 0, 'favorite_count': 0, 'favorited': False, 'retweeted': False, 'possibly_sensitive': False, 'lang': 'en'}, created_at=datetime.datetime(2020, 11, 21, 1, 1, 33), id=1329953060425232384, id_str='1329953060425232384', full_text='test3 Schools in MMR to remain shut till year-end https://t.co/LIRLvsGcGG', truncated=False, display_text_range=[0, 73], entities={'hashtags': [], 'symbols': [], 'user_mentions': [], 'urls': [{'url': 'https://t.co/LIRLvsGcGG', 'expanded_url': 'https://bit.ly/36Sp30x', 'display_url': 'bit.ly/36Sp30x', 'indices': [50, 73]}]}, metadata={'iso_language_code': 'en', 'result_type': 'recent'}, source='Sprout Social', source_url='https://sproutsocial.com', in_reply_to_status_id=None, in_reply_to_status_id_str=None, in_reply_to_user_id=None, in_reply_to_user_id_str=None, in_reply_to_screen_name=None, author=User(_api=<tweepy.api.API object at 0x7f2c0552dc18>, _json={'id': 740819687022428160, 'id_str': '740819687022428160', 'name': 'Test_Sherlock acc', 'screen_name': 'Testrisha', 'location': '', 'description': '', 'url': None, 'entities': {'description': {'urls': []}}, 'protected': False, 'followers_count': 19, 'friends_count': 74, 'listed_count': 0, 'created_at': 'Thu Jun 09 08:15:51 +0000 2016', 'favourites_count': 13, 'utc_offset': None, 'time_zone': None, 'geo_enabled': False, 'verified': False, 'statuses_count': 22378, 'lang': None, 'contributors_enabled': False, 'is_translator': False, 'is_translation_enabled': False, 'profile_background_color': 'F5F8FA', 'profile_background_image_url': None, 'profile_background_image_url_https': None, 'profile_background_tile': False, 'profile_image_url': 'http://abs.twimg.com/sticky/default_profile_images/default_profile_normal.png', 'profile_image_url_https': 'https://abs.twimg.com/sticky/default_profile_images/default_profile_normal.png', 'profile_link_color': '1DA1F2', 'profile_sidebar_border_color': 'C0DEED', 'profile_sidebar_fill_color': 'DDEEF6', 'profile_text_color': '333333', 'profile_use_background_image': True, 'has_extended_profile': False, 'default_profile': True, 'default_profile_image': True, 'following': False, 'follow_request_sent': False, 'notifications': False, 'translator_type': 'none'}, id=740819687022428160, id_str='740819687022428160', name='Test_Sherlock acc', screen_name='Testrisha', location='', description='', url=None, entities={'description': {'urls': []}}, protected=False, followers_count=19, friends_count=74, listed_count=0, created_at=datetime.datetime(2016, 6, 9, 8, 15, 51), favourites_count=13, utc_offset=None, time_zone=None, geo_enabled=False, verified=False, statuses_count=22378, lang=None, contributors_enabled=False, is_translator=False, is_translation_enabled=False, profile_background_color='F5F8FA', profile_background_image_url=None, profile_background_image_url_https=None, profile_background_tile=False, profile_image_url='http://abs.twimg.com/sticky/default_profile_images/default_profile_normal.png', profile_image_url_https='https://abs.twimg.com/sticky/default_profile_images/default_profile_normal.png', profile_link_color='1DA1F2', profile_sidebar_border_color='C0DEED', profile_sidebar_fill_color='DDEEF6', profile_text_color='333333', profile_use_background_image=True, has_extended_profile=False, default_profile=True, default_profile_image=True, following=False, follow_request_sent=False, notifications=False, translator_type='none'), user=User(_api=<tweepy.api.API object at 0x7f2c0552dc18>, _json={'id': 740819687022428160, 'id_str': '740819687022428160', 'name': 'Test_Sherlock acc', 'screen_name': 'Testrisha', 'location': '', 'description': '', 'url': None, 'entities': {'description': {'urls': []}}, 'protected': False, 'followers_count': 19, 'friends_count': 74, 'listed_count': 0, 'created_at': 'Thu Jun 09 08:15:51 +0000 2016', 'favourites_count': 13, 'utc_offset': None, 'time_zone': None, 'geo_enabled': False, 'verified': False, 'statuses_count': 22378, 'lang': None, 'contributors_enabled': False, 'is_translator': False, 'is_translation_enabled': False, 'profile_background_color': 'F5F8FA', 'profile_background_image_url': None, 'profile_background_image_url_https': None, 'profile_background_tile': False, 'profile_image_url': 'http://abs.twimg.com/sticky/default_profile_images/default_profile_normal.png', 'profile_image_url_https': 'https://abs.twimg.com/sticky/default_profile_images/default_profile_normal.png', 'profile_link_color': '1DA1F2', 'profile_sidebar_border_color': 'C0DEED', 'profile_sidebar_fill_color': 'DDEEF6', 'profile_text_color': '333333', 'profile_use_background_image': True, 'has_extended_profile': False, 'default_profile': True, 'default_profile_image': True, 'following': False, 'follow_request_sent': False, 'notifications': False, 'translator_type': 'none'}, id=740819687022428160, id_str='740819687022428160', name='Test_Sherlock acc', screen_name='Testrisha', location='', description='', url=None, entities={'description': {'urls': []}}, protected=False, followers_count=19, friends_count=74, listed_count=0, created_at=datetime.datetime(2016, 6, 9, 8, 15, 51), favourites_count=13, utc_offset=None, time_zone=None, geo_enabled=False, verified=False, statuses_count=22378, lang=None, contributors_enabled=False, is_translator=False, is_translation_enabled=False, profile_background_color='F5F8FA', profile_background_image_url=None, profile_background_image_url_https=None, profile_background_tile=False, profile_image_url='http://abs.twimg.com/sticky/default_profile_images/default_profile_normal.png', profile_image_url_https='https://abs.twimg.com/sticky/default_profile_images/default_profile_normal.png', profile_link_color='1DA1F2', profile_sidebar_border_color='C0DEED', profile_sidebar_fill_color='DDEEF6', profile_text_color='333333', profile_use_background_image=True, has_extended_profile=False, default_profile=True, default_profile_image=True, following=False, follow_request_sent=False, notifications=False, translator_type='none'), geo=None, coordinates=None, place=None, contributors=None, is_quote_status=False, retweet_count=0, favorite_count=0, favorited=False, retweeted=False, possibly_sensitive=False, lang='en') \n",
            "\n",
            ".....................................\n",
            "\n",
            "Status(_api=<tweepy.api.API object at 0x7f2c0552dc18>, _json={'created_at': 'Fri Nov 20 23:45:08 +0000 2020', 'id': 1329933830053007362, 'id_str': '1329933830053007362', 'full_text': \"Maharashtra: Schools won't open on Monday, to remain shut till year-end https://t.co/SeD7T58hY1\", 'truncated': False, 'display_text_range': [0, 95], 'entities': {'hashtags': [], 'symbols': [], 'user_mentions': [], 'urls': [{'url': 'https://t.co/SeD7T58hY1', 'expanded_url': 'http://toi.in/XAoptY58', 'display_url': 'toi.in/XAoptY58', 'indices': [72, 95]}]}, 'metadata': {'iso_language_code': 'en', 'result_type': 'recent'}, 'source': '<a href=\"http://www.toi.in\" rel=\"nofollow\">cmssocialservice</a>', 'in_reply_to_status_id': None, 'in_reply_to_status_id_str': None, 'in_reply_to_user_id': None, 'in_reply_to_user_id_str': None, 'in_reply_to_screen_name': None, 'user': {'id': 876772084399054848, 'id_str': '876772084399054848', 'name': 'TOI Navi Mumbai', 'screen_name': 'TOINaviMumbai', 'location': '', 'description': 'Your city. Your neighborhood. Your block. Covered for you by https://t.co/VSKi1mCAsZ', 'url': 'https://t.co/LkZgmh2jle', 'entities': {'url': {'urls': [{'url': 'https://t.co/LkZgmh2jle', 'expanded_url': 'http://timesofindia.indiatimes.com/city/navi-mumbai', 'display_url': 'timesofindia.indiatimes.com/city/navi-mumb…', 'indices': [0, 23]}]}, 'description': {'urls': [{'url': 'https://t.co/VSKi1mCAsZ', 'expanded_url': 'http://timesofindia.com', 'display_url': 'timesofindia.com', 'indices': [61, 84]}]}}, 'protected': False, 'followers_count': 5674, 'friends_count': 22, 'listed_count': 10, 'created_at': 'Mon Jun 19 12:02:09 +0000 2017', 'favourites_count': 0, 'utc_offset': None, 'time_zone': None, 'geo_enabled': False, 'verified': True, 'statuses_count': 2557, 'lang': None, 'contributors_enabled': False, 'is_translator': False, 'is_translation_enabled': False, 'profile_background_color': 'F5F8FA', 'profile_background_image_url': None, 'profile_background_image_url_https': None, 'profile_background_tile': False, 'profile_image_url': 'http://pbs.twimg.com/profile_images/876774016941342720/RH_NSrnB_normal.jpg', 'profile_image_url_https': 'https://pbs.twimg.com/profile_images/876774016941342720/RH_NSrnB_normal.jpg', 'profile_banner_url': 'https://pbs.twimg.com/profile_banners/876772084399054848/1497874277', 'profile_link_color': '1DA1F2', 'profile_sidebar_border_color': 'C0DEED', 'profile_sidebar_fill_color': 'DDEEF6', 'profile_text_color': '333333', 'profile_use_background_image': True, 'has_extended_profile': False, 'default_profile': True, 'default_profile_image': False, 'following': False, 'follow_request_sent': False, 'notifications': False, 'translator_type': 'none'}, 'geo': None, 'coordinates': None, 'place': None, 'contributors': None, 'is_quote_status': False, 'retweet_count': 0, 'favorite_count': 8, 'favorited': False, 'retweeted': False, 'possibly_sensitive': False, 'lang': 'en'}, created_at=datetime.datetime(2020, 11, 20, 23, 45, 8), id=1329933830053007362, id_str='1329933830053007362', full_text=\"Maharashtra: Schools won't open on Monday, to remain shut till year-end https://t.co/SeD7T58hY1\", truncated=False, display_text_range=[0, 95], entities={'hashtags': [], 'symbols': [], 'user_mentions': [], 'urls': [{'url': 'https://t.co/SeD7T58hY1', 'expanded_url': 'http://toi.in/XAoptY58', 'display_url': 'toi.in/XAoptY58', 'indices': [72, 95]}]}, metadata={'iso_language_code': 'en', 'result_type': 'recent'}, source='cmssocialservice', source_url='http://www.toi.in', in_reply_to_status_id=None, in_reply_to_status_id_str=None, in_reply_to_user_id=None, in_reply_to_user_id_str=None, in_reply_to_screen_name=None, author=User(_api=<tweepy.api.API object at 0x7f2c0552dc18>, _json={'id': 876772084399054848, 'id_str': '876772084399054848', 'name': 'TOI Navi Mumbai', 'screen_name': 'TOINaviMumbai', 'location': '', 'description': 'Your city. Your neighborhood. Your block. Covered for you by https://t.co/VSKi1mCAsZ', 'url': 'https://t.co/LkZgmh2jle', 'entities': {'url': {'urls': [{'url': 'https://t.co/LkZgmh2jle', 'expanded_url': 'http://timesofindia.indiatimes.com/city/navi-mumbai', 'display_url': 'timesofindia.indiatimes.com/city/navi-mumb…', 'indices': [0, 23]}]}, 'description': {'urls': [{'url': 'https://t.co/VSKi1mCAsZ', 'expanded_url': 'http://timesofindia.com', 'display_url': 'timesofindia.com', 'indices': [61, 84]}]}}, 'protected': False, 'followers_count': 5674, 'friends_count': 22, 'listed_count': 10, 'created_at': 'Mon Jun 19 12:02:09 +0000 2017', 'favourites_count': 0, 'utc_offset': None, 'time_zone': None, 'geo_enabled': False, 'verified': True, 'statuses_count': 2557, 'lang': None, 'contributors_enabled': False, 'is_translator': False, 'is_translation_enabled': False, 'profile_background_color': 'F5F8FA', 'profile_background_image_url': None, 'profile_background_image_url_https': None, 'profile_background_tile': False, 'profile_image_url': 'http://pbs.twimg.com/profile_images/876774016941342720/RH_NSrnB_normal.jpg', 'profile_image_url_https': 'https://pbs.twimg.com/profile_images/876774016941342720/RH_NSrnB_normal.jpg', 'profile_banner_url': 'https://pbs.twimg.com/profile_banners/876772084399054848/1497874277', 'profile_link_color': '1DA1F2', 'profile_sidebar_border_color': 'C0DEED', 'profile_sidebar_fill_color': 'DDEEF6', 'profile_text_color': '333333', 'profile_use_background_image': True, 'has_extended_profile': False, 'default_profile': True, 'default_profile_image': False, 'following': False, 'follow_request_sent': False, 'notifications': False, 'translator_type': 'none'}, id=876772084399054848, id_str='876772084399054848', name='TOI Navi Mumbai', screen_name='TOINaviMumbai', location='', description='Your city. Your neighborhood. Your block. Covered for you by https://t.co/VSKi1mCAsZ', url='https://t.co/LkZgmh2jle', entities={'url': {'urls': [{'url': 'https://t.co/LkZgmh2jle', 'expanded_url': 'http://timesofindia.indiatimes.com/city/navi-mumbai', 'display_url': 'timesofindia.indiatimes.com/city/navi-mumb…', 'indices': [0, 23]}]}, 'description': {'urls': [{'url': 'https://t.co/VSKi1mCAsZ', 'expanded_url': 'http://timesofindia.com', 'display_url': 'timesofindia.com', 'indices': [61, 84]}]}}, protected=False, followers_count=5674, friends_count=22, listed_count=10, created_at=datetime.datetime(2017, 6, 19, 12, 2, 9), favourites_count=0, utc_offset=None, time_zone=None, geo_enabled=False, verified=True, statuses_count=2557, lang=None, contributors_enabled=False, is_translator=False, is_translation_enabled=False, profile_background_color='F5F8FA', profile_background_image_url=None, profile_background_image_url_https=None, profile_background_tile=False, profile_image_url='http://pbs.twimg.com/profile_images/876774016941342720/RH_NSrnB_normal.jpg', profile_image_url_https='https://pbs.twimg.com/profile_images/876774016941342720/RH_NSrnB_normal.jpg', profile_banner_url='https://pbs.twimg.com/profile_banners/876772084399054848/1497874277', profile_link_color='1DA1F2', profile_sidebar_border_color='C0DEED', profile_sidebar_fill_color='DDEEF6', profile_text_color='333333', profile_use_background_image=True, has_extended_profile=False, default_profile=True, default_profile_image=False, following=False, follow_request_sent=False, notifications=False, translator_type='none'), user=User(_api=<tweepy.api.API object at 0x7f2c0552dc18>, _json={'id': 876772084399054848, 'id_str': '876772084399054848', 'name': 'TOI Navi Mumbai', 'screen_name': 'TOINaviMumbai', 'location': '', 'description': 'Your city. Your neighborhood. Your block. Covered for you by https://t.co/VSKi1mCAsZ', 'url': 'https://t.co/LkZgmh2jle', 'entities': {'url': {'urls': [{'url': 'https://t.co/LkZgmh2jle', 'expanded_url': 'http://timesofindia.indiatimes.com/city/navi-mumbai', 'display_url': 'timesofindia.indiatimes.com/city/navi-mumb…', 'indices': [0, 23]}]}, 'description': {'urls': [{'url': 'https://t.co/VSKi1mCAsZ', 'expanded_url': 'http://timesofindia.com', 'display_url': 'timesofindia.com', 'indices': [61, 84]}]}}, 'protected': False, 'followers_count': 5674, 'friends_count': 22, 'listed_count': 10, 'created_at': 'Mon Jun 19 12:02:09 +0000 2017', 'favourites_count': 0, 'utc_offset': None, 'time_zone': None, 'geo_enabled': False, 'verified': True, 'statuses_count': 2557, 'lang': None, 'contributors_enabled': False, 'is_translator': False, 'is_translation_enabled': False, 'profile_background_color': 'F5F8FA', 'profile_background_image_url': None, 'profile_background_image_url_https': None, 'profile_background_tile': False, 'profile_image_url': 'http://pbs.twimg.com/profile_images/876774016941342720/RH_NSrnB_normal.jpg', 'profile_image_url_https': 'https://pbs.twimg.com/profile_images/876774016941342720/RH_NSrnB_normal.jpg', 'profile_banner_url': 'https://pbs.twimg.com/profile_banners/876772084399054848/1497874277', 'profile_link_color': '1DA1F2', 'profile_sidebar_border_color': 'C0DEED', 'profile_sidebar_fill_color': 'DDEEF6', 'profile_text_color': '333333', 'profile_use_background_image': True, 'has_extended_profile': False, 'default_profile': True, 'default_profile_image': False, 'following': False, 'follow_request_sent': False, 'notifications': False, 'translator_type': 'none'}, id=876772084399054848, id_str='876772084399054848', name='TOI Navi Mumbai', screen_name='TOINaviMumbai', location='', description='Your city. Your neighborhood. Your block. Covered for you by https://t.co/VSKi1mCAsZ', url='https://t.co/LkZgmh2jle', entities={'url': {'urls': [{'url': 'https://t.co/LkZgmh2jle', 'expanded_url': 'http://timesofindia.indiatimes.com/city/navi-mumbai', 'display_url': 'timesofindia.indiatimes.com/city/navi-mumb…', 'indices': [0, 23]}]}, 'description': {'urls': [{'url': 'https://t.co/VSKi1mCAsZ', 'expanded_url': 'http://timesofindia.com', 'display_url': 'timesofindia.com', 'indices': [61, 84]}]}}, protected=False, followers_count=5674, friends_count=22, listed_count=10, created_at=datetime.datetime(2017, 6, 19, 12, 2, 9), favourites_count=0, utc_offset=None, time_zone=None, geo_enabled=False, verified=True, statuses_count=2557, lang=None, contributors_enabled=False, is_translator=False, is_translation_enabled=False, profile_background_color='F5F8FA', profile_background_image_url=None, profile_background_image_url_https=None, profile_background_tile=False, profile_image_url='http://pbs.twimg.com/profile_images/876774016941342720/RH_NSrnB_normal.jpg', profile_image_url_https='https://pbs.twimg.com/profile_images/876774016941342720/RH_NSrnB_normal.jpg', profile_banner_url='https://pbs.twimg.com/profile_banners/876772084399054848/1497874277', profile_link_color='1DA1F2', profile_sidebar_border_color='C0DEED', profile_sidebar_fill_color='DDEEF6', profile_text_color='333333', profile_use_background_image=True, has_extended_profile=False, default_profile=True, default_profile_image=False, following=False, follow_request_sent=False, notifications=False, translator_type='none'), geo=None, coordinates=None, place=None, contributors=None, is_quote_status=False, retweet_count=0, favorite_count=8, favorited=False, retweeted=False, possibly_sensitive=False, lang='en') \n",
            "\n",
            ".....................................\n",
            "\n",
            "Status(_api=<tweepy.api.API object at 0x7f2c0552dc18>, _json={'created_at': 'Fri Nov 20 17:42:36 +0000 2020', 'id': 1329842593337810945, 'id_str': '1329842593337810945', 'full_text': '@RohanKhaunte @goacm @OfficeofUT Schools in Maharashtra are going to open. Let’s see how many cases Maharashtra contributes. We have been on top already earlier in terms of cases. So Maharashtra is not doing anything good. Trains are closed, most of them have already lost their livelihood due to this.', 'truncated': False, 'display_text_range': [33, 302], 'entities': {'hashtags': [], 'symbols': [], 'user_mentions': [{'screen_name': 'RohanKhaunte', 'name': 'Rohan Khaunte', 'id': 722603028, 'id_str': '722603028', 'indices': [0, 13]}, {'screen_name': 'goacm', 'name': 'CMO Goa', 'id': 3241053882, 'id_str': '3241053882', 'indices': [14, 20]}, {'screen_name': 'OfficeofUT', 'name': 'Office of Uddhav Thackeray', 'id': 1144169755672113155, 'id_str': '1144169755672113155', 'indices': [21, 32]}], 'urls': []}, 'metadata': {'iso_language_code': 'en', 'result_type': 'recent'}, 'source': '<a href=\"http://twitter.com/download/iphone\" rel=\"nofollow\">Twitter for iPhone</a>', 'in_reply_to_status_id': 1329792854374268928, 'in_reply_to_status_id_str': '1329792854374268928', 'in_reply_to_user_id': 722603028, 'in_reply_to_user_id_str': '722603028', 'in_reply_to_screen_name': 'RohanKhaunte', 'user': {'id': 102414077, 'id_str': '102414077', 'name': 'Hemanshu', 'screen_name': 'hemanshu20', 'location': '', 'description': '', 'url': None, 'entities': {'description': {'urls': []}}, 'protected': False, 'followers_count': 30, 'friends_count': 450, 'listed_count': 0, 'created_at': 'Wed Jan 06 16:29:44 +0000 2010', 'favourites_count': 1127, 'utc_offset': None, 'time_zone': None, 'geo_enabled': True, 'verified': False, 'statuses_count': 2008, 'lang': None, 'contributors_enabled': False, 'is_translator': False, 'is_translation_enabled': False, 'profile_background_color': 'C0DEED', 'profile_background_image_url': 'http://abs.twimg.com/images/themes/theme1/bg.png', 'profile_background_image_url_https': 'https://abs.twimg.com/images/themes/theme1/bg.png', 'profile_background_tile': False, 'profile_image_url': 'http://pbs.twimg.com/profile_images/1110778492587778049/tof-nZaw_normal.jpg', 'profile_image_url_https': 'https://pbs.twimg.com/profile_images/1110778492587778049/tof-nZaw_normal.jpg', 'profile_link_color': '1DA1F2', 'profile_sidebar_border_color': 'C0DEED', 'profile_sidebar_fill_color': 'DDEEF6', 'profile_text_color': '333333', 'profile_use_background_image': True, 'has_extended_profile': False, 'default_profile': True, 'default_profile_image': False, 'following': False, 'follow_request_sent': False, 'notifications': False, 'translator_type': 'none'}, 'geo': None, 'coordinates': None, 'place': None, 'contributors': None, 'is_quote_status': False, 'retweet_count': 0, 'favorite_count': 3, 'favorited': False, 'retweeted': False, 'lang': 'en'}, created_at=datetime.datetime(2020, 11, 20, 17, 42, 36), id=1329842593337810945, id_str='1329842593337810945', full_text='@RohanKhaunte @goacm @OfficeofUT Schools in Maharashtra are going to open. Let’s see how many cases Maharashtra contributes. We have been on top already earlier in terms of cases. So Maharashtra is not doing anything good. Trains are closed, most of them have already lost their livelihood due to this.', truncated=False, display_text_range=[33, 302], entities={'hashtags': [], 'symbols': [], 'user_mentions': [{'screen_name': 'RohanKhaunte', 'name': 'Rohan Khaunte', 'id': 722603028, 'id_str': '722603028', 'indices': [0, 13]}, {'screen_name': 'goacm', 'name': 'CMO Goa', 'id': 3241053882, 'id_str': '3241053882', 'indices': [14, 20]}, {'screen_name': 'OfficeofUT', 'name': 'Office of Uddhav Thackeray', 'id': 1144169755672113155, 'id_str': '1144169755672113155', 'indices': [21, 32]}], 'urls': []}, metadata={'iso_language_code': 'en', 'result_type': 'recent'}, source='Twitter for iPhone', source_url='http://twitter.com/download/iphone', in_reply_to_status_id=1329792854374268928, in_reply_to_status_id_str='1329792854374268928', in_reply_to_user_id=722603028, in_reply_to_user_id_str='722603028', in_reply_to_screen_name='RohanKhaunte', author=User(_api=<tweepy.api.API object at 0x7f2c0552dc18>, _json={'id': 102414077, 'id_str': '102414077', 'name': 'Hemanshu', 'screen_name': 'hemanshu20', 'location': '', 'description': '', 'url': None, 'entities': {'description': {'urls': []}}, 'protected': False, 'followers_count': 30, 'friends_count': 450, 'listed_count': 0, 'created_at': 'Wed Jan 06 16:29:44 +0000 2010', 'favourites_count': 1127, 'utc_offset': None, 'time_zone': None, 'geo_enabled': True, 'verified': False, 'statuses_count': 2008, 'lang': None, 'contributors_enabled': False, 'is_translator': False, 'is_translation_enabled': False, 'profile_background_color': 'C0DEED', 'profile_background_image_url': 'http://abs.twimg.com/images/themes/theme1/bg.png', 'profile_background_image_url_https': 'https://abs.twimg.com/images/themes/theme1/bg.png', 'profile_background_tile': False, 'profile_image_url': 'http://pbs.twimg.com/profile_images/1110778492587778049/tof-nZaw_normal.jpg', 'profile_image_url_https': 'https://pbs.twimg.com/profile_images/1110778492587778049/tof-nZaw_normal.jpg', 'profile_link_color': '1DA1F2', 'profile_sidebar_border_color': 'C0DEED', 'profile_sidebar_fill_color': 'DDEEF6', 'profile_text_color': '333333', 'profile_use_background_image': True, 'has_extended_profile': False, 'default_profile': True, 'default_profile_image': False, 'following': False, 'follow_request_sent': False, 'notifications': False, 'translator_type': 'none'}, id=102414077, id_str='102414077', name='Hemanshu', screen_name='hemanshu20', location='', description='', url=None, entities={'description': {'urls': []}}, protected=False, followers_count=30, friends_count=450, listed_count=0, created_at=datetime.datetime(2010, 1, 6, 16, 29, 44), favourites_count=1127, utc_offset=None, time_zone=None, geo_enabled=True, verified=False, statuses_count=2008, lang=None, contributors_enabled=False, is_translator=False, is_translation_enabled=False, profile_background_color='C0DEED', profile_background_image_url='http://abs.twimg.com/images/themes/theme1/bg.png', profile_background_image_url_https='https://abs.twimg.com/images/themes/theme1/bg.png', profile_background_tile=False, profile_image_url='http://pbs.twimg.com/profile_images/1110778492587778049/tof-nZaw_normal.jpg', profile_image_url_https='https://pbs.twimg.com/profile_images/1110778492587778049/tof-nZaw_normal.jpg', profile_link_color='1DA1F2', profile_sidebar_border_color='C0DEED', profile_sidebar_fill_color='DDEEF6', profile_text_color='333333', profile_use_background_image=True, has_extended_profile=False, default_profile=True, default_profile_image=False, following=False, follow_request_sent=False, notifications=False, translator_type='none'), user=User(_api=<tweepy.api.API object at 0x7f2c0552dc18>, _json={'id': 102414077, 'id_str': '102414077', 'name': 'Hemanshu', 'screen_name': 'hemanshu20', 'location': '', 'description': '', 'url': None, 'entities': {'description': {'urls': []}}, 'protected': False, 'followers_count': 30, 'friends_count': 450, 'listed_count': 0, 'created_at': 'Wed Jan 06 16:29:44 +0000 2010', 'favourites_count': 1127, 'utc_offset': None, 'time_zone': None, 'geo_enabled': True, 'verified': False, 'statuses_count': 2008, 'lang': None, 'contributors_enabled': False, 'is_translator': False, 'is_translation_enabled': False, 'profile_background_color': 'C0DEED', 'profile_background_image_url': 'http://abs.twimg.com/images/themes/theme1/bg.png', 'profile_background_image_url_https': 'https://abs.twimg.com/images/themes/theme1/bg.png', 'profile_background_tile': False, 'profile_image_url': 'http://pbs.twimg.com/profile_images/1110778492587778049/tof-nZaw_normal.jpg', 'profile_image_url_https': 'https://pbs.twimg.com/profile_images/1110778492587778049/tof-nZaw_normal.jpg', 'profile_link_color': '1DA1F2', 'profile_sidebar_border_color': 'C0DEED', 'profile_sidebar_fill_color': 'DDEEF6', 'profile_text_color': '333333', 'profile_use_background_image': True, 'has_extended_profile': False, 'default_profile': True, 'default_profile_image': False, 'following': False, 'follow_request_sent': False, 'notifications': False, 'translator_type': 'none'}, id=102414077, id_str='102414077', name='Hemanshu', screen_name='hemanshu20', location='', description='', url=None, entities={'description': {'urls': []}}, protected=False, followers_count=30, friends_count=450, listed_count=0, created_at=datetime.datetime(2010, 1, 6, 16, 29, 44), favourites_count=1127, utc_offset=None, time_zone=None, geo_enabled=True, verified=False, statuses_count=2008, lang=None, contributors_enabled=False, is_translator=False, is_translation_enabled=False, profile_background_color='C0DEED', profile_background_image_url='http://abs.twimg.com/images/themes/theme1/bg.png', profile_background_image_url_https='https://abs.twimg.com/images/themes/theme1/bg.png', profile_background_tile=False, profile_image_url='http://pbs.twimg.com/profile_images/1110778492587778049/tof-nZaw_normal.jpg', profile_image_url_https='https://pbs.twimg.com/profile_images/1110778492587778049/tof-nZaw_normal.jpg', profile_link_color='1DA1F2', profile_sidebar_border_color='C0DEED', profile_sidebar_fill_color='DDEEF6', profile_text_color='333333', profile_use_background_image=True, has_extended_profile=False, default_profile=True, default_profile_image=False, following=False, follow_request_sent=False, notifications=False, translator_type='none'), geo=None, coordinates=None, place=None, contributors=None, is_quote_status=False, retweet_count=0, favorite_count=3, favorited=False, retweeted=False, lang='en') \n",
            "\n",
            ".....................................\n",
            "\n",
            "Status(_api=<tweepy.api.API object at 0x7f2c0552dc18>, _json={'created_at': 'Fri Nov 20 16:51:44 +0000 2020', 'id': 1329829791743299587, 'id_str': '1329829791743299587', 'full_text': 'When and how schools will open in Maharashtra, local authorities will\\xa0decide https://t.co/hm7JiGss7g', 'truncated': False, 'display_text_range': [0, 100], 'entities': {'hashtags': [], 'symbols': [], 'user_mentions': [], 'urls': [{'url': 'https://t.co/hm7JiGss7g', 'expanded_url': 'https://granthshala.com/when-and-how-schools-will-open-in-maharashtra-local-authorities-will-decide/', 'display_url': 'granthshala.com/when-and-how-s…', 'indices': [77, 100]}]}, 'metadata': {'iso_language_code': 'en', 'result_type': 'recent'}, 'source': '<a href=\"http://publicize.wp.com/\" rel=\"nofollow\">WordPress.com</a>', 'in_reply_to_status_id': None, 'in_reply_to_status_id_str': None, 'in_reply_to_user_id': None, 'in_reply_to_user_id_str': None, 'in_reply_to_screen_name': None, 'user': {'id': 1225494365566644228, 'id_str': '1225494365566644228', 'name': 'Granthshala News', 'screen_name': 'GranthshalaNews', 'location': '', 'description': 'Granthshala news is an news and media website. we provide all the latest and trending news and updates of world including everything', 'url': 'https://t.co/4CKNfNvhHk', 'entities': {'url': {'urls': [{'url': 'https://t.co/4CKNfNvhHk', 'expanded_url': 'http://granthshala.com', 'display_url': 'granthshala.com', 'indices': [0, 23]}]}, 'description': {'urls': []}}, 'protected': False, 'followers_count': 159, 'friends_count': 5, 'listed_count': 0, 'created_at': 'Thu Feb 06 19:00:18 +0000 2020', 'favourites_count': 286, 'utc_offset': None, 'time_zone': None, 'geo_enabled': False, 'verified': False, 'statuses_count': 6332, 'lang': None, 'contributors_enabled': False, 'is_translator': False, 'is_translation_enabled': False, 'profile_background_color': 'F5F8FA', 'profile_background_image_url': None, 'profile_background_image_url_https': None, 'profile_background_tile': False, 'profile_image_url': 'http://pbs.twimg.com/profile_images/1289587345671348226/6yg-tR-v_normal.jpg', 'profile_image_url_https': 'https://pbs.twimg.com/profile_images/1289587345671348226/6yg-tR-v_normal.jpg', 'profile_banner_url': 'https://pbs.twimg.com/profile_banners/1225494365566644228/1604640826', 'profile_link_color': '1DA1F2', 'profile_sidebar_border_color': 'C0DEED', 'profile_sidebar_fill_color': 'DDEEF6', 'profile_text_color': '333333', 'profile_use_background_image': True, 'has_extended_profile': False, 'default_profile': True, 'default_profile_image': False, 'following': False, 'follow_request_sent': False, 'notifications': False, 'translator_type': 'none'}, 'geo': None, 'coordinates': None, 'place': None, 'contributors': None, 'is_quote_status': False, 'retweet_count': 0, 'favorite_count': 0, 'favorited': False, 'retweeted': False, 'possibly_sensitive': False, 'lang': 'en'}, created_at=datetime.datetime(2020, 11, 20, 16, 51, 44), id=1329829791743299587, id_str='1329829791743299587', full_text='When and how schools will open in Maharashtra, local authorities will\\xa0decide https://t.co/hm7JiGss7g', truncated=False, display_text_range=[0, 100], entities={'hashtags': [], 'symbols': [], 'user_mentions': [], 'urls': [{'url': 'https://t.co/hm7JiGss7g', 'expanded_url': 'https://granthshala.com/when-and-how-schools-will-open-in-maharashtra-local-authorities-will-decide/', 'display_url': 'granthshala.com/when-and-how-s…', 'indices': [77, 100]}]}, metadata={'iso_language_code': 'en', 'result_type': 'recent'}, source='WordPress.com', source_url='http://publicize.wp.com/', in_reply_to_status_id=None, in_reply_to_status_id_str=None, in_reply_to_user_id=None, in_reply_to_user_id_str=None, in_reply_to_screen_name=None, author=User(_api=<tweepy.api.API object at 0x7f2c0552dc18>, _json={'id': 1225494365566644228, 'id_str': '1225494365566644228', 'name': 'Granthshala News', 'screen_name': 'GranthshalaNews', 'location': '', 'description': 'Granthshala news is an news and media website. we provide all the latest and trending news and updates of world including everything', 'url': 'https://t.co/4CKNfNvhHk', 'entities': {'url': {'urls': [{'url': 'https://t.co/4CKNfNvhHk', 'expanded_url': 'http://granthshala.com', 'display_url': 'granthshala.com', 'indices': [0, 23]}]}, 'description': {'urls': []}}, 'protected': False, 'followers_count': 159, 'friends_count': 5, 'listed_count': 0, 'created_at': 'Thu Feb 06 19:00:18 +0000 2020', 'favourites_count': 286, 'utc_offset': None, 'time_zone': None, 'geo_enabled': False, 'verified': False, 'statuses_count': 6332, 'lang': None, 'contributors_enabled': False, 'is_translator': False, 'is_translation_enabled': False, 'profile_background_color': 'F5F8FA', 'profile_background_image_url': None, 'profile_background_image_url_https': None, 'profile_background_tile': False, 'profile_image_url': 'http://pbs.twimg.com/profile_images/1289587345671348226/6yg-tR-v_normal.jpg', 'profile_image_url_https': 'https://pbs.twimg.com/profile_images/1289587345671348226/6yg-tR-v_normal.jpg', 'profile_banner_url': 'https://pbs.twimg.com/profile_banners/1225494365566644228/1604640826', 'profile_link_color': '1DA1F2', 'profile_sidebar_border_color': 'C0DEED', 'profile_sidebar_fill_color': 'DDEEF6', 'profile_text_color': '333333', 'profile_use_background_image': True, 'has_extended_profile': False, 'default_profile': True, 'default_profile_image': False, 'following': False, 'follow_request_sent': False, 'notifications': False, 'translator_type': 'none'}, id=1225494365566644228, id_str='1225494365566644228', name='Granthshala News', screen_name='GranthshalaNews', location='', description='Granthshala news is an news and media website. we provide all the latest and trending news and updates of world including everything', url='https://t.co/4CKNfNvhHk', entities={'url': {'urls': [{'url': 'https://t.co/4CKNfNvhHk', 'expanded_url': 'http://granthshala.com', 'display_url': 'granthshala.com', 'indices': [0, 23]}]}, 'description': {'urls': []}}, protected=False, followers_count=159, friends_count=5, listed_count=0, created_at=datetime.datetime(2020, 2, 6, 19, 0, 18), favourites_count=286, utc_offset=None, time_zone=None, geo_enabled=False, verified=False, statuses_count=6332, lang=None, contributors_enabled=False, is_translator=False, is_translation_enabled=False, profile_background_color='F5F8FA', profile_background_image_url=None, profile_background_image_url_https=None, profile_background_tile=False, profile_image_url='http://pbs.twimg.com/profile_images/1289587345671348226/6yg-tR-v_normal.jpg', profile_image_url_https='https://pbs.twimg.com/profile_images/1289587345671348226/6yg-tR-v_normal.jpg', profile_banner_url='https://pbs.twimg.com/profile_banners/1225494365566644228/1604640826', profile_link_color='1DA1F2', profile_sidebar_border_color='C0DEED', profile_sidebar_fill_color='DDEEF6', profile_text_color='333333', profile_use_background_image=True, has_extended_profile=False, default_profile=True, default_profile_image=False, following=False, follow_request_sent=False, notifications=False, translator_type='none'), user=User(_api=<tweepy.api.API object at 0x7f2c0552dc18>, _json={'id': 1225494365566644228, 'id_str': '1225494365566644228', 'name': 'Granthshala News', 'screen_name': 'GranthshalaNews', 'location': '', 'description': 'Granthshala news is an news and media website. we provide all the latest and trending news and updates of world including everything', 'url': 'https://t.co/4CKNfNvhHk', 'entities': {'url': {'urls': [{'url': 'https://t.co/4CKNfNvhHk', 'expanded_url': 'http://granthshala.com', 'display_url': 'granthshala.com', 'indices': [0, 23]}]}, 'description': {'urls': []}}, 'protected': False, 'followers_count': 159, 'friends_count': 5, 'listed_count': 0, 'created_at': 'Thu Feb 06 19:00:18 +0000 2020', 'favourites_count': 286, 'utc_offset': None, 'time_zone': None, 'geo_enabled': False, 'verified': False, 'statuses_count': 6332, 'lang': None, 'contributors_enabled': False, 'is_translator': False, 'is_translation_enabled': False, 'profile_background_color': 'F5F8FA', 'profile_background_image_url': None, 'profile_background_image_url_https': None, 'profile_background_tile': False, 'profile_image_url': 'http://pbs.twimg.com/profile_images/1289587345671348226/6yg-tR-v_normal.jpg', 'profile_image_url_https': 'https://pbs.twimg.com/profile_images/1289587345671348226/6yg-tR-v_normal.jpg', 'profile_banner_url': 'https://pbs.twimg.com/profile_banners/1225494365566644228/1604640826', 'profile_link_color': '1DA1F2', 'profile_sidebar_border_color': 'C0DEED', 'profile_sidebar_fill_color': 'DDEEF6', 'profile_text_color': '333333', 'profile_use_background_image': True, 'has_extended_profile': False, 'default_profile': True, 'default_profile_image': False, 'following': False, 'follow_request_sent': False, 'notifications': False, 'translator_type': 'none'}, id=1225494365566644228, id_str='1225494365566644228', name='Granthshala News', screen_name='GranthshalaNews', location='', description='Granthshala news is an news and media website. we provide all the latest and trending news and updates of world including everything', url='https://t.co/4CKNfNvhHk', entities={'url': {'urls': [{'url': 'https://t.co/4CKNfNvhHk', 'expanded_url': 'http://granthshala.com', 'display_url': 'granthshala.com', 'indices': [0, 23]}]}, 'description': {'urls': []}}, protected=False, followers_count=159, friends_count=5, listed_count=0, created_at=datetime.datetime(2020, 2, 6, 19, 0, 18), favourites_count=286, utc_offset=None, time_zone=None, geo_enabled=False, verified=False, statuses_count=6332, lang=None, contributors_enabled=False, is_translator=False, is_translation_enabled=False, profile_background_color='F5F8FA', profile_background_image_url=None, profile_background_image_url_https=None, profile_background_tile=False, profile_image_url='http://pbs.twimg.com/profile_images/1289587345671348226/6yg-tR-v_normal.jpg', profile_image_url_https='https://pbs.twimg.com/profile_images/1289587345671348226/6yg-tR-v_normal.jpg', profile_banner_url='https://pbs.twimg.com/profile_banners/1225494365566644228/1604640826', profile_link_color='1DA1F2', profile_sidebar_border_color='C0DEED', profile_sidebar_fill_color='DDEEF6', profile_text_color='333333', profile_use_background_image=True, has_extended_profile=False, default_profile=True, default_profile_image=False, following=False, follow_request_sent=False, notifications=False, translator_type='none'), geo=None, coordinates=None, place=None, contributors=None, is_quote_status=False, retweet_count=0, favorite_count=0, favorited=False, retweeted=False, possibly_sensitive=False, lang='en') \n",
            "\n",
            ".....................................\n",
            "\n",
            "Status(_api=<tweepy.api.API object at 0x7f2c0552dc18>, _json={'created_at': 'Fri Nov 20 09:17:44 +0000 2020', 'id': 1329715540697354242, 'id_str': '1329715540697354242', 'full_text': '@SATISHBHISHMA @Manshreepathak @abpmajhatv @mybmc Bro,it is not compulsory to start schools in other parts of Maharashtra also.\\nEvery district has authority to decide whether they want to open schools or not..Ani tithe schools chalu zaale tari students na compulsory nahiy school attend karne, they can attend online also..', 'truncated': False, 'display_text_range': [50, 323], 'entities': {'hashtags': [], 'symbols': [], 'user_mentions': [{'screen_name': 'SATISHBHISHMA', 'name': '🇮🇳 सतीष भीष्म 🇮🇳', 'id': 289436233, 'id_str': '289436233', 'indices': [0, 14]}, {'screen_name': 'Manshreepathak', 'name': 'Manashree Pathak', 'id': 1897361834, 'id_str': '1897361834', 'indices': [15, 30]}, {'screen_name': 'abpmajhatv', 'name': 'ABP माझा', 'id': 52121743, 'id_str': '52121743', 'indices': [31, 42]}, {'screen_name': 'mybmc', 'name': 'माझी Mumbai, आपली BMC', 'id': 1200214398, 'id_str': '1200214398', 'indices': [43, 49]}], 'urls': []}, 'metadata': {'iso_language_code': 'en', 'result_type': 'recent'}, 'source': '<a href=\"http://twitter.com/download/android\" rel=\"nofollow\">Twitter for Android</a>', 'in_reply_to_status_id': 1329685680578994178, 'in_reply_to_status_id_str': '1329685680578994178', 'in_reply_to_user_id': 289436233, 'in_reply_to_user_id_str': '289436233', 'in_reply_to_screen_name': 'SATISHBHISHMA', 'user': {'id': 848857445279686657, 'id_str': '848857445279686657', 'name': 'Aarati S', 'screen_name': 'AaratiS_14', 'location': 'Mumbai, India', 'description': 'Not a supporter of any political party..\\njust a supporter of We- The Common People...\\nSarkare aati jaati rahengi, Hum hai wahi, Hum hai Jaha..\\nso STAY UNITED..', 'url': None, 'entities': {'description': {'urls': []}}, 'protected': False, 'followers_count': 11, 'friends_count': 21, 'listed_count': 0, 'created_at': 'Mon Apr 03 11:19:20 +0000 2017', 'favourites_count': 1225, 'utc_offset': None, 'time_zone': None, 'geo_enabled': False, 'verified': False, 'statuses_count': 761, 'lang': None, 'contributors_enabled': False, 'is_translator': False, 'is_translation_enabled': False, 'profile_background_color': 'F5F8FA', 'profile_background_image_url': None, 'profile_background_image_url_https': None, 'profile_background_tile': False, 'profile_image_url': 'http://abs.twimg.com/sticky/default_profile_images/default_profile_normal.png', 'profile_image_url_https': 'https://abs.twimg.com/sticky/default_profile_images/default_profile_normal.png', 'profile_link_color': '1DA1F2', 'profile_sidebar_border_color': 'C0DEED', 'profile_sidebar_fill_color': 'DDEEF6', 'profile_text_color': '333333', 'profile_use_background_image': True, 'has_extended_profile': False, 'default_profile': True, 'default_profile_image': True, 'following': False, 'follow_request_sent': False, 'notifications': False, 'translator_type': 'none'}, 'geo': None, 'coordinates': None, 'place': None, 'contributors': None, 'is_quote_status': False, 'retweet_count': 0, 'favorite_count': 1, 'favorited': False, 'retweeted': False, 'lang': 'en'}, created_at=datetime.datetime(2020, 11, 20, 9, 17, 44), id=1329715540697354242, id_str='1329715540697354242', full_text='@SATISHBHISHMA @Manshreepathak @abpmajhatv @mybmc Bro,it is not compulsory to start schools in other parts of Maharashtra also.\\nEvery district has authority to decide whether they want to open schools or not..Ani tithe schools chalu zaale tari students na compulsory nahiy school attend karne, they can attend online also..', truncated=False, display_text_range=[50, 323], entities={'hashtags': [], 'symbols': [], 'user_mentions': [{'screen_name': 'SATISHBHISHMA', 'name': '🇮🇳 सतीष भीष्म 🇮🇳', 'id': 289436233, 'id_str': '289436233', 'indices': [0, 14]}, {'screen_name': 'Manshreepathak', 'name': 'Manashree Pathak', 'id': 1897361834, 'id_str': '1897361834', 'indices': [15, 30]}, {'screen_name': 'abpmajhatv', 'name': 'ABP माझा', 'id': 52121743, 'id_str': '52121743', 'indices': [31, 42]}, {'screen_name': 'mybmc', 'name': 'माझी Mumbai, आपली BMC', 'id': 1200214398, 'id_str': '1200214398', 'indices': [43, 49]}], 'urls': []}, metadata={'iso_language_code': 'en', 'result_type': 'recent'}, source='Twitter for Android', source_url='http://twitter.com/download/android', in_reply_to_status_id=1329685680578994178, in_reply_to_status_id_str='1329685680578994178', in_reply_to_user_id=289436233, in_reply_to_user_id_str='289436233', in_reply_to_screen_name='SATISHBHISHMA', author=User(_api=<tweepy.api.API object at 0x7f2c0552dc18>, _json={'id': 848857445279686657, 'id_str': '848857445279686657', 'name': 'Aarati S', 'screen_name': 'AaratiS_14', 'location': 'Mumbai, India', 'description': 'Not a supporter of any political party..\\njust a supporter of We- The Common People...\\nSarkare aati jaati rahengi, Hum hai wahi, Hum hai Jaha..\\nso STAY UNITED..', 'url': None, 'entities': {'description': {'urls': []}}, 'protected': False, 'followers_count': 11, 'friends_count': 21, 'listed_count': 0, 'created_at': 'Mon Apr 03 11:19:20 +0000 2017', 'favourites_count': 1225, 'utc_offset': None, 'time_zone': None, 'geo_enabled': False, 'verified': False, 'statuses_count': 761, 'lang': None, 'contributors_enabled': False, 'is_translator': False, 'is_translation_enabled': False, 'profile_background_color': 'F5F8FA', 'profile_background_image_url': None, 'profile_background_image_url_https': None, 'profile_background_tile': False, 'profile_image_url': 'http://abs.twimg.com/sticky/default_profile_images/default_profile_normal.png', 'profile_image_url_https': 'https://abs.twimg.com/sticky/default_profile_images/default_profile_normal.png', 'profile_link_color': '1DA1F2', 'profile_sidebar_border_color': 'C0DEED', 'profile_sidebar_fill_color': 'DDEEF6', 'profile_text_color': '333333', 'profile_use_background_image': True, 'has_extended_profile': False, 'default_profile': True, 'default_profile_image': True, 'following': False, 'follow_request_sent': False, 'notifications': False, 'translator_type': 'none'}, id=848857445279686657, id_str='848857445279686657', name='Aarati S', screen_name='AaratiS_14', location='Mumbai, India', description='Not a supporter of any political party..\\njust a supporter of We- The Common People...\\nSarkare aati jaati rahengi, Hum hai wahi, Hum hai Jaha..\\nso STAY UNITED..', url=None, entities={'description': {'urls': []}}, protected=False, followers_count=11, friends_count=21, listed_count=0, created_at=datetime.datetime(2017, 4, 3, 11, 19, 20), favourites_count=1225, utc_offset=None, time_zone=None, geo_enabled=False, verified=False, statuses_count=761, lang=None, contributors_enabled=False, is_translator=False, is_translation_enabled=False, profile_background_color='F5F8FA', profile_background_image_url=None, profile_background_image_url_https=None, profile_background_tile=False, profile_image_url='http://abs.twimg.com/sticky/default_profile_images/default_profile_normal.png', profile_image_url_https='https://abs.twimg.com/sticky/default_profile_images/default_profile_normal.png', profile_link_color='1DA1F2', profile_sidebar_border_color='C0DEED', profile_sidebar_fill_color='DDEEF6', profile_text_color='333333', profile_use_background_image=True, has_extended_profile=False, default_profile=True, default_profile_image=True, following=False, follow_request_sent=False, notifications=False, translator_type='none'), user=User(_api=<tweepy.api.API object at 0x7f2c0552dc18>, _json={'id': 848857445279686657, 'id_str': '848857445279686657', 'name': 'Aarati S', 'screen_name': 'AaratiS_14', 'location': 'Mumbai, India', 'description': 'Not a supporter of any political party..\\njust a supporter of We- The Common People...\\nSarkare aati jaati rahengi, Hum hai wahi, Hum hai Jaha..\\nso STAY UNITED..', 'url': None, 'entities': {'description': {'urls': []}}, 'protected': False, 'followers_count': 11, 'friends_count': 21, 'listed_count': 0, 'created_at': 'Mon Apr 03 11:19:20 +0000 2017', 'favourites_count': 1225, 'utc_offset': None, 'time_zone': None, 'geo_enabled': False, 'verified': False, 'statuses_count': 761, 'lang': None, 'contributors_enabled': False, 'is_translator': False, 'is_translation_enabled': False, 'profile_background_color': 'F5F8FA', 'profile_background_image_url': None, 'profile_background_image_url_https': None, 'profile_background_tile': False, 'profile_image_url': 'http://abs.twimg.com/sticky/default_profile_images/default_profile_normal.png', 'profile_image_url_https': 'https://abs.twimg.com/sticky/default_profile_images/default_profile_normal.png', 'profile_link_color': '1DA1F2', 'profile_sidebar_border_color': 'C0DEED', 'profile_sidebar_fill_color': 'DDEEF6', 'profile_text_color': '333333', 'profile_use_background_image': True, 'has_extended_profile': False, 'default_profile': True, 'default_profile_image': True, 'following': False, 'follow_request_sent': False, 'notifications': False, 'translator_type': 'none'}, id=848857445279686657, id_str='848857445279686657', name='Aarati S', screen_name='AaratiS_14', location='Mumbai, India', description='Not a supporter of any political party..\\njust a supporter of We- The Common People...\\nSarkare aati jaati rahengi, Hum hai wahi, Hum hai Jaha..\\nso STAY UNITED..', url=None, entities={'description': {'urls': []}}, protected=False, followers_count=11, friends_count=21, listed_count=0, created_at=datetime.datetime(2017, 4, 3, 11, 19, 20), favourites_count=1225, utc_offset=None, time_zone=None, geo_enabled=False, verified=False, statuses_count=761, lang=None, contributors_enabled=False, is_translator=False, is_translation_enabled=False, profile_background_color='F5F8FA', profile_background_image_url=None, profile_background_image_url_https=None, profile_background_tile=False, profile_image_url='http://abs.twimg.com/sticky/default_profile_images/default_profile_normal.png', profile_image_url_https='https://abs.twimg.com/sticky/default_profile_images/default_profile_normal.png', profile_link_color='1DA1F2', profile_sidebar_border_color='C0DEED', profile_sidebar_fill_color='DDEEF6', profile_text_color='333333', profile_use_background_image=True, has_extended_profile=False, default_profile=True, default_profile_image=True, following=False, follow_request_sent=False, notifications=False, translator_type='none'), geo=None, coordinates=None, place=None, contributors=None, is_quote_status=False, retweet_count=0, favorite_count=1, favorited=False, retweeted=False, lang='en') \n",
            "\n",
            ".....................................\n",
            "\n",
            "Status(_api=<tweepy.api.API object at 0x7f2c0552dc18>, _json={'created_at': 'Fri Nov 20 08:18:06 +0000 2020', 'id': 1329700534501011456, 'id_str': '1329700534501011456', 'full_text': 'Schools in Mumbai to remain shut till December 31, says BMC  | via @IndiaTVNews https://t.co/VUEVM3mES0', 'truncated': False, 'display_text_range': [0, 103], 'entities': {'hashtags': [], 'symbols': [], 'user_mentions': [{'screen_name': 'indiatvnews', 'name': 'India TV', 'id': 34245009, 'id_str': '34245009', 'indices': [67, 79]}], 'urls': [{'url': 'https://t.co/VUEVM3mES0', 'expanded_url': 'https://www.indiatvnews.com/news/india/mumbai-schools-close-till-december-31-mumbai-schools-not-to-open-maharashtra-coronavirus-cases-666190', 'display_url': 'indiatvnews.com/news/india/mum…', 'indices': [80, 103]}]}, 'metadata': {'iso_language_code': 'en', 'result_type': 'recent'}, 'source': '<a href=\"https://mobile.twitter.com\" rel=\"nofollow\">Twitter Web App</a>', 'in_reply_to_status_id': None, 'in_reply_to_status_id_str': None, 'in_reply_to_user_id': None, 'in_reply_to_user_id_str': None, 'in_reply_to_screen_name': None, 'user': {'id': 1329135338296537088, 'id_str': '1329135338296537088', 'name': 'CAVidyarthi', 'screen_name': 'CAVidyarthi2', 'location': '', 'description': '', 'url': None, 'entities': {'description': {'urls': []}}, 'protected': False, 'followers_count': 0, 'friends_count': 3, 'listed_count': 0, 'created_at': 'Wed Nov 18 18:52:31 +0000 2020', 'favourites_count': 92, 'utc_offset': None, 'time_zone': None, 'geo_enabled': False, 'verified': False, 'statuses_count': 103, 'lang': None, 'contributors_enabled': False, 'is_translator': False, 'is_translation_enabled': False, 'profile_background_color': 'F5F8FA', 'profile_background_image_url': None, 'profile_background_image_url_https': None, 'profile_background_tile': False, 'profile_image_url': 'http://pbs.twimg.com/profile_images/1329349415551655939/Ao9ilA_k_normal.jpg', 'profile_image_url_https': 'https://pbs.twimg.com/profile_images/1329349415551655939/Ao9ilA_k_normal.jpg', 'profile_link_color': '1DA1F2', 'profile_sidebar_border_color': 'C0DEED', 'profile_sidebar_fill_color': 'DDEEF6', 'profile_text_color': '333333', 'profile_use_background_image': True, 'has_extended_profile': True, 'default_profile': True, 'default_profile_image': False, 'following': False, 'follow_request_sent': False, 'notifications': False, 'translator_type': 'none'}, 'geo': None, 'coordinates': None, 'place': None, 'contributors': None, 'is_quote_status': False, 'retweet_count': 0, 'favorite_count': 0, 'favorited': False, 'retweeted': False, 'possibly_sensitive': False, 'lang': 'en'}, created_at=datetime.datetime(2020, 11, 20, 8, 18, 6), id=1329700534501011456, id_str='1329700534501011456', full_text='Schools in Mumbai to remain shut till December 31, says BMC  | via @IndiaTVNews https://t.co/VUEVM3mES0', truncated=False, display_text_range=[0, 103], entities={'hashtags': [], 'symbols': [], 'user_mentions': [{'screen_name': 'indiatvnews', 'name': 'India TV', 'id': 34245009, 'id_str': '34245009', 'indices': [67, 79]}], 'urls': [{'url': 'https://t.co/VUEVM3mES0', 'expanded_url': 'https://www.indiatvnews.com/news/india/mumbai-schools-close-till-december-31-mumbai-schools-not-to-open-maharashtra-coronavirus-cases-666190', 'display_url': 'indiatvnews.com/news/india/mum…', 'indices': [80, 103]}]}, metadata={'iso_language_code': 'en', 'result_type': 'recent'}, source='Twitter Web App', source_url='https://mobile.twitter.com', in_reply_to_status_id=None, in_reply_to_status_id_str=None, in_reply_to_user_id=None, in_reply_to_user_id_str=None, in_reply_to_screen_name=None, author=User(_api=<tweepy.api.API object at 0x7f2c0552dc18>, _json={'id': 1329135338296537088, 'id_str': '1329135338296537088', 'name': 'CAVidyarthi', 'screen_name': 'CAVidyarthi2', 'location': '', 'description': '', 'url': None, 'entities': {'description': {'urls': []}}, 'protected': False, 'followers_count': 0, 'friends_count': 3, 'listed_count': 0, 'created_at': 'Wed Nov 18 18:52:31 +0000 2020', 'favourites_count': 92, 'utc_offset': None, 'time_zone': None, 'geo_enabled': False, 'verified': False, 'statuses_count': 103, 'lang': None, 'contributors_enabled': False, 'is_translator': False, 'is_translation_enabled': False, 'profile_background_color': 'F5F8FA', 'profile_background_image_url': None, 'profile_background_image_url_https': None, 'profile_background_tile': False, 'profile_image_url': 'http://pbs.twimg.com/profile_images/1329349415551655939/Ao9ilA_k_normal.jpg', 'profile_image_url_https': 'https://pbs.twimg.com/profile_images/1329349415551655939/Ao9ilA_k_normal.jpg', 'profile_link_color': '1DA1F2', 'profile_sidebar_border_color': 'C0DEED', 'profile_sidebar_fill_color': 'DDEEF6', 'profile_text_color': '333333', 'profile_use_background_image': True, 'has_extended_profile': True, 'default_profile': True, 'default_profile_image': False, 'following': False, 'follow_request_sent': False, 'notifications': False, 'translator_type': 'none'}, id=1329135338296537088, id_str='1329135338296537088', name='CAVidyarthi', screen_name='CAVidyarthi2', location='', description='', url=None, entities={'description': {'urls': []}}, protected=False, followers_count=0, friends_count=3, listed_count=0, created_at=datetime.datetime(2020, 11, 18, 18, 52, 31), favourites_count=92, utc_offset=None, time_zone=None, geo_enabled=False, verified=False, statuses_count=103, lang=None, contributors_enabled=False, is_translator=False, is_translation_enabled=False, profile_background_color='F5F8FA', profile_background_image_url=None, profile_background_image_url_https=None, profile_background_tile=False, profile_image_url='http://pbs.twimg.com/profile_images/1329349415551655939/Ao9ilA_k_normal.jpg', profile_image_url_https='https://pbs.twimg.com/profile_images/1329349415551655939/Ao9ilA_k_normal.jpg', profile_link_color='1DA1F2', profile_sidebar_border_color='C0DEED', profile_sidebar_fill_color='DDEEF6', profile_text_color='333333', profile_use_background_image=True, has_extended_profile=True, default_profile=True, default_profile_image=False, following=False, follow_request_sent=False, notifications=False, translator_type='none'), user=User(_api=<tweepy.api.API object at 0x7f2c0552dc18>, _json={'id': 1329135338296537088, 'id_str': '1329135338296537088', 'name': 'CAVidyarthi', 'screen_name': 'CAVidyarthi2', 'location': '', 'description': '', 'url': None, 'entities': {'description': {'urls': []}}, 'protected': False, 'followers_count': 0, 'friends_count': 3, 'listed_count': 0, 'created_at': 'Wed Nov 18 18:52:31 +0000 2020', 'favourites_count': 92, 'utc_offset': None, 'time_zone': None, 'geo_enabled': False, 'verified': False, 'statuses_count': 103, 'lang': None, 'contributors_enabled': False, 'is_translator': False, 'is_translation_enabled': False, 'profile_background_color': 'F5F8FA', 'profile_background_image_url': None, 'profile_background_image_url_https': None, 'profile_background_tile': False, 'profile_image_url': 'http://pbs.twimg.com/profile_images/1329349415551655939/Ao9ilA_k_normal.jpg', 'profile_image_url_https': 'https://pbs.twimg.com/profile_images/1329349415551655939/Ao9ilA_k_normal.jpg', 'profile_link_color': '1DA1F2', 'profile_sidebar_border_color': 'C0DEED', 'profile_sidebar_fill_color': 'DDEEF6', 'profile_text_color': '333333', 'profile_use_background_image': True, 'has_extended_profile': True, 'default_profile': True, 'default_profile_image': False, 'following': False, 'follow_request_sent': False, 'notifications': False, 'translator_type': 'none'}, id=1329135338296537088, id_str='1329135338296537088', name='CAVidyarthi', screen_name='CAVidyarthi2', location='', description='', url=None, entities={'description': {'urls': []}}, protected=False, followers_count=0, friends_count=3, listed_count=0, created_at=datetime.datetime(2020, 11, 18, 18, 52, 31), favourites_count=92, utc_offset=None, time_zone=None, geo_enabled=False, verified=False, statuses_count=103, lang=None, contributors_enabled=False, is_translator=False, is_translation_enabled=False, profile_background_color='F5F8FA', profile_background_image_url=None, profile_background_image_url_https=None, profile_background_tile=False, profile_image_url='http://pbs.twimg.com/profile_images/1329349415551655939/Ao9ilA_k_normal.jpg', profile_image_url_https='https://pbs.twimg.com/profile_images/1329349415551655939/Ao9ilA_k_normal.jpg', profile_link_color='1DA1F2', profile_sidebar_border_color='C0DEED', profile_sidebar_fill_color='DDEEF6', profile_text_color='333333', profile_use_background_image=True, has_extended_profile=True, default_profile=True, default_profile_image=False, following=False, follow_request_sent=False, notifications=False, translator_type='none'), geo=None, coordinates=None, place=None, contributors=None, is_quote_status=False, retweet_count=0, favorite_count=0, favorited=False, retweeted=False, possibly_sensitive=False, lang='en') \n",
            "\n",
            ".....................................\n",
            "\n"
          ],
          "name": "stdout"
        }
      ]
    },
    {
      "cell_type": "markdown",
      "metadata": {
        "id": "7i3R6vyM_aT9"
      },
      "source": [
        "# Getting the Tweets and its attributes"
      ]
    },
    {
      "cell_type": "code",
      "metadata": {
        "colab": {
          "base_uri": "https://localhost:8080/"
        },
        "id": "jcuXXOPj_e2J",
        "outputId": "82fbebe2-d3c3-473f-8a5d-cf93b3c9493c"
      },
      "source": [
        "df = pd.DataFrame(columns = ['Tweets' , 'User' , 'User_statuses_count' , \n",
        "                            'user_followers' , 'User_location' , 'User_verified' ,\n",
        "                            'fav_count' , 'rt_count' , 'tweet_date'] )\n",
        "print(df)"
      ],
      "execution_count": 7,
      "outputs": [
        {
          "output_type": "stream",
          "text": [
            "Empty DataFrame\n",
            "Columns: [Tweets, User, User_statuses_count, user_followers, User_location, User_verified, fav_count, rt_count, tweet_date]\n",
            "Index: []\n"
          ],
          "name": "stdout"
        }
      ]
    },
    {
      "cell_type": "code",
      "metadata": {
        "id": "XCmc2Erx_kUh"
      },
      "source": [
        "def stream(data, file_name):\n",
        "    i = 0\n",
        "    for tweet in tweepy.Cursor(api.search, q=data, count=100, lang='en').items():\n",
        "        print(i, end='\\r')\n",
        "        df.loc[i, 'Tweets'] = tweet.text\n",
        "        df.loc[i, 'User'] = tweet.user.name\n",
        "        df.loc[i, 'User_statuses_count'] = tweet.user.statuses_count\n",
        "        df.loc[i, 'user_followers'] = tweet.user.followers_count\n",
        "        df.loc[i, 'User_location'] = tweet.user.location\n",
        "        df.loc[i, 'User_verified'] = tweet.user.verified\n",
        "        df.loc[i, 'fav_count'] = tweet.favorite_count\n",
        "        df.loc[i, 'rt_count'] = tweet.retweet_count\n",
        "        df.loc[i, 'tweet_date'] = tweet.created_at\n",
        "        df.to_excel('{}.xlsx'.format(file_name))\n",
        "        i = i+1\n",
        "        if i == 1000:\n",
        "            break\n",
        "        else:\n",
        "            pass"
      ],
      "execution_count": 8,
      "outputs": []
    },
    {
      "cell_type": "code",
      "metadata": {
        "colab": {
          "base_uri": "https://localhost:8080/"
        },
        "id": "0Hr9FxPM_pcq",
        "outputId": "b4ef01b3-7cfb-41a7-fdec-afe66d827b40"
      },
      "source": [
        "stream(data=[ \"schools open in Maharashtra\"], file_name='my_tweets')"
      ],
      "execution_count": 9,
      "outputs": [
        {
          "output_type": "stream",
          "text": [
            ""
          ],
          "name": "stdout"
        }
      ]
    },
    {
      "cell_type": "code",
      "metadata": {
        "colab": {
          "base_uri": "https://localhost:8080/",
          "height": 513
        },
        "id": "DoQFIbCH_3Ob",
        "outputId": "5e68c12b-2e78-4b3a-a2f1-813393e66077"
      },
      "source": [
        "df.head()"
      ],
      "execution_count": 10,
      "outputs": [
        {
          "output_type": "execute_result",
          "data": {
            "text/html": [
              "<div>\n",
              "<style scoped>\n",
              "    .dataframe tbody tr th:only-of-type {\n",
              "        vertical-align: middle;\n",
              "    }\n",
              "\n",
              "    .dataframe tbody tr th {\n",
              "        vertical-align: top;\n",
              "    }\n",
              "\n",
              "    .dataframe thead th {\n",
              "        text-align: right;\n",
              "    }\n",
              "</style>\n",
              "<table border=\"1\" class=\"dataframe\">\n",
              "  <thead>\n",
              "    <tr style=\"text-align: right;\">\n",
              "      <th></th>\n",
              "      <th>Tweets</th>\n",
              "      <th>User</th>\n",
              "      <th>User_statuses_count</th>\n",
              "      <th>user_followers</th>\n",
              "      <th>User_location</th>\n",
              "      <th>User_verified</th>\n",
              "      <th>fav_count</th>\n",
              "      <th>rt_count</th>\n",
              "      <th>tweet_date</th>\n",
              "    </tr>\n",
              "  </thead>\n",
              "  <tbody>\n",
              "    <tr>\n",
              "      <th>0</th>\n",
              "      <td>RT @TOIMumbai: Maharashtra: Schools won't open...</td>\n",
              "      <td>Reshma Mutha</td>\n",
              "      <td>426</td>\n",
              "      <td>28</td>\n",
              "      <td>Mumbai, India</td>\n",
              "      <td>False</td>\n",
              "      <td>0</td>\n",
              "      <td>4</td>\n",
              "      <td>2020-11-21 16:41:48</td>\n",
              "    </tr>\n",
              "    <tr>\n",
              "      <th>1</th>\n",
              "      <td>RT @TOIMumbai: Maharashtra: Schools won't open...</td>\n",
              "      <td>Laxman Sharma</td>\n",
              "      <td>59291</td>\n",
              "      <td>5255</td>\n",
              "      <td>India</td>\n",
              "      <td>False</td>\n",
              "      <td>0</td>\n",
              "      <td>4</td>\n",
              "      <td>2020-11-21 02:37:14</td>\n",
              "    </tr>\n",
              "    <tr>\n",
              "      <th>2</th>\n",
              "      <td>Maharashtra: Schools won't open on Monday, to ...</td>\n",
              "      <td>TOI Cities</td>\n",
              "      <td>818382</td>\n",
              "      <td>21524</td>\n",
              "      <td></td>\n",
              "      <td>True</td>\n",
              "      <td>0</td>\n",
              "      <td>0</td>\n",
              "      <td>2020-11-21 02:15:19</td>\n",
              "    </tr>\n",
              "    <tr>\n",
              "      <th>3</th>\n",
              "      <td>Maharashtra: Schools won't open on Monday, to ...</td>\n",
              "      <td>TOI Cities</td>\n",
              "      <td>818382</td>\n",
              "      <td>21524</td>\n",
              "      <td></td>\n",
              "      <td>True</td>\n",
              "      <td>0</td>\n",
              "      <td>0</td>\n",
              "      <td>2020-11-21 02:14:49</td>\n",
              "    </tr>\n",
              "    <tr>\n",
              "      <th>4</th>\n",
              "      <td>Maharashtra: Schools won't open on Monday, to ...</td>\n",
              "      <td>TOI Cities</td>\n",
              "      <td>818382</td>\n",
              "      <td>21524</td>\n",
              "      <td></td>\n",
              "      <td>True</td>\n",
              "      <td>0</td>\n",
              "      <td>0</td>\n",
              "      <td>2020-11-21 02:14:18</td>\n",
              "    </tr>\n",
              "  </tbody>\n",
              "</table>\n",
              "</div>"
            ],
            "text/plain": [
              "                                              Tweets  ...           tweet_date\n",
              "0  RT @TOIMumbai: Maharashtra: Schools won't open...  ...  2020-11-21 16:41:48\n",
              "1  RT @TOIMumbai: Maharashtra: Schools won't open...  ...  2020-11-21 02:37:14\n",
              "2  Maharashtra: Schools won't open on Monday, to ...  ...  2020-11-21 02:15:19\n",
              "3  Maharashtra: Schools won't open on Monday, to ...  ...  2020-11-21 02:14:49\n",
              "4  Maharashtra: Schools won't open on Monday, to ...  ...  2020-11-21 02:14:18\n",
              "\n",
              "[5 rows x 9 columns]"
            ]
          },
          "metadata": {
            "tags": []
          },
          "execution_count": 10
        }
      ]
    },
    {
      "cell_type": "code",
      "metadata": {
        "colab": {
          "base_uri": "https://localhost:8080/"
        },
        "id": "HFoYEoKC_-rI",
        "outputId": "9e5f6964-f323-4901-dc65-b998ae8fe454"
      },
      "source": [
        "!pip install textblob"
      ],
      "execution_count": 11,
      "outputs": [
        {
          "output_type": "stream",
          "text": [
            "Requirement already satisfied: textblob in /usr/local/lib/python3.6/dist-packages (0.15.3)\n",
            "Requirement already satisfied: nltk>=3.1 in /usr/local/lib/python3.6/dist-packages (from textblob) (3.2.5)\n",
            "Requirement already satisfied: six in /usr/local/lib/python3.6/dist-packages (from nltk>=3.1->textblob) (1.15.0)\n"
          ],
          "name": "stdout"
        }
      ]
    },
    {
      "cell_type": "code",
      "metadata": {
        "id": "Z4vdqRCRAH4-"
      },
      "source": [
        "from textblob import TextBlob"
      ],
      "execution_count": 12,
      "outputs": []
    },
    {
      "cell_type": "code",
      "metadata": {
        "id": "ho0kav-ZANEP"
      },
      "source": [
        "import re\n",
        "def clean_tweet(tweet):\n",
        "    return ' '.join(re.sub('(@[A-Za-z0-9]+)|([^0-9A-Za-z \\t])|(\\w+:\\/\\/\\S+)', ' ', tweet).split())"
      ],
      "execution_count": 13,
      "outputs": []
    },
    {
      "cell_type": "code",
      "metadata": {
        "id": "xxlhvM3eAQB-"
      },
      "source": [
        "def analyze_sentiment(tweet):\n",
        "    analysis = TextBlob(tweet)\n",
        "    if analysis.sentiment.polarity > 0:\n",
        "        return 'Positive'\n",
        "    elif analysis.sentiment.polarity == 0:\n",
        "        return 'Neutral'\n",
        "    else:\n",
        "        return 'Negative'"
      ],
      "execution_count": 14,
      "outputs": []
    },
    {
      "cell_type": "code",
      "metadata": {
        "id": "3QXV05uBATBI"
      },
      "source": [
        "df['clean_tweet'] = df['Tweets'].apply(lambda x : clean_tweet(x))"
      ],
      "execution_count": 15,
      "outputs": []
    },
    {
      "cell_type": "code",
      "metadata": {
        "colab": {
          "base_uri": "https://localhost:8080/",
          "height": 564
        },
        "id": "a8x-TNSFAWE_",
        "outputId": "0d831c27-d158-463b-e177-0b76b838c3f6"
      },
      "source": [
        "df.head()"
      ],
      "execution_count": 16,
      "outputs": [
        {
          "output_type": "execute_result",
          "data": {
            "text/html": [
              "<div>\n",
              "<style scoped>\n",
              "    .dataframe tbody tr th:only-of-type {\n",
              "        vertical-align: middle;\n",
              "    }\n",
              "\n",
              "    .dataframe tbody tr th {\n",
              "        vertical-align: top;\n",
              "    }\n",
              "\n",
              "    .dataframe thead th {\n",
              "        text-align: right;\n",
              "    }\n",
              "</style>\n",
              "<table border=\"1\" class=\"dataframe\">\n",
              "  <thead>\n",
              "    <tr style=\"text-align: right;\">\n",
              "      <th></th>\n",
              "      <th>Tweets</th>\n",
              "      <th>User</th>\n",
              "      <th>User_statuses_count</th>\n",
              "      <th>user_followers</th>\n",
              "      <th>User_location</th>\n",
              "      <th>User_verified</th>\n",
              "      <th>fav_count</th>\n",
              "      <th>rt_count</th>\n",
              "      <th>tweet_date</th>\n",
              "      <th>clean_tweet</th>\n",
              "    </tr>\n",
              "  </thead>\n",
              "  <tbody>\n",
              "    <tr>\n",
              "      <th>0</th>\n",
              "      <td>RT @TOIMumbai: Maharashtra: Schools won't open...</td>\n",
              "      <td>Reshma Mutha</td>\n",
              "      <td>426</td>\n",
              "      <td>28</td>\n",
              "      <td>Mumbai, India</td>\n",
              "      <td>False</td>\n",
              "      <td>0</td>\n",
              "      <td>4</td>\n",
              "      <td>2020-11-21 16:41:48</td>\n",
              "      <td>RT Maharashtra Schools won t open on Monday to...</td>\n",
              "    </tr>\n",
              "    <tr>\n",
              "      <th>1</th>\n",
              "      <td>RT @TOIMumbai: Maharashtra: Schools won't open...</td>\n",
              "      <td>Laxman Sharma</td>\n",
              "      <td>59291</td>\n",
              "      <td>5255</td>\n",
              "      <td>India</td>\n",
              "      <td>False</td>\n",
              "      <td>0</td>\n",
              "      <td>4</td>\n",
              "      <td>2020-11-21 02:37:14</td>\n",
              "      <td>RT Maharashtra Schools won t open on Monday to...</td>\n",
              "    </tr>\n",
              "    <tr>\n",
              "      <th>2</th>\n",
              "      <td>Maharashtra: Schools won't open on Monday, to ...</td>\n",
              "      <td>TOI Cities</td>\n",
              "      <td>818382</td>\n",
              "      <td>21524</td>\n",
              "      <td></td>\n",
              "      <td>True</td>\n",
              "      <td>0</td>\n",
              "      <td>0</td>\n",
              "      <td>2020-11-21 02:15:19</td>\n",
              "      <td>Maharashtra Schools won t open on Monday to re...</td>\n",
              "    </tr>\n",
              "    <tr>\n",
              "      <th>3</th>\n",
              "      <td>Maharashtra: Schools won't open on Monday, to ...</td>\n",
              "      <td>TOI Cities</td>\n",
              "      <td>818382</td>\n",
              "      <td>21524</td>\n",
              "      <td></td>\n",
              "      <td>True</td>\n",
              "      <td>0</td>\n",
              "      <td>0</td>\n",
              "      <td>2020-11-21 02:14:49</td>\n",
              "      <td>Maharashtra Schools won t open on Monday to re...</td>\n",
              "    </tr>\n",
              "    <tr>\n",
              "      <th>4</th>\n",
              "      <td>Maharashtra: Schools won't open on Monday, to ...</td>\n",
              "      <td>TOI Cities</td>\n",
              "      <td>818382</td>\n",
              "      <td>21524</td>\n",
              "      <td></td>\n",
              "      <td>True</td>\n",
              "      <td>0</td>\n",
              "      <td>0</td>\n",
              "      <td>2020-11-21 02:14:18</td>\n",
              "      <td>Maharashtra Schools won t open on Monday to re...</td>\n",
              "    </tr>\n",
              "  </tbody>\n",
              "</table>\n",
              "</div>"
            ],
            "text/plain": [
              "                                              Tweets  ...                                        clean_tweet\n",
              "0  RT @TOIMumbai: Maharashtra: Schools won't open...  ...  RT Maharashtra Schools won t open on Monday to...\n",
              "1  RT @TOIMumbai: Maharashtra: Schools won't open...  ...  RT Maharashtra Schools won t open on Monday to...\n",
              "2  Maharashtra: Schools won't open on Monday, to ...  ...  Maharashtra Schools won t open on Monday to re...\n",
              "3  Maharashtra: Schools won't open on Monday, to ...  ...  Maharashtra Schools won t open on Monday to re...\n",
              "4  Maharashtra: Schools won't open on Monday, to ...  ...  Maharashtra Schools won t open on Monday to re...\n",
              "\n",
              "[5 rows x 10 columns]"
            ]
          },
          "metadata": {
            "tags": []
          },
          "execution_count": 16
        }
      ]
    },
    {
      "cell_type": "code",
      "metadata": {
        "colab": {
          "base_uri": "https://localhost:8080/",
          "height": 564
        },
        "id": "S9IptK9UAZeo",
        "outputId": "2347536d-8b7e-4640-e9ec-837ddb2cb54e"
      },
      "source": [
        "df['Sentiment'] = df['clean_tweet'].apply(lambda x : analyze_sentiment(x) )\n",
        "df.head()"
      ],
      "execution_count": 17,
      "outputs": [
        {
          "output_type": "execute_result",
          "data": {
            "text/html": [
              "<div>\n",
              "<style scoped>\n",
              "    .dataframe tbody tr th:only-of-type {\n",
              "        vertical-align: middle;\n",
              "    }\n",
              "\n",
              "    .dataframe tbody tr th {\n",
              "        vertical-align: top;\n",
              "    }\n",
              "\n",
              "    .dataframe thead th {\n",
              "        text-align: right;\n",
              "    }\n",
              "</style>\n",
              "<table border=\"1\" class=\"dataframe\">\n",
              "  <thead>\n",
              "    <tr style=\"text-align: right;\">\n",
              "      <th></th>\n",
              "      <th>Tweets</th>\n",
              "      <th>User</th>\n",
              "      <th>User_statuses_count</th>\n",
              "      <th>user_followers</th>\n",
              "      <th>User_location</th>\n",
              "      <th>User_verified</th>\n",
              "      <th>fav_count</th>\n",
              "      <th>rt_count</th>\n",
              "      <th>tweet_date</th>\n",
              "      <th>clean_tweet</th>\n",
              "      <th>Sentiment</th>\n",
              "    </tr>\n",
              "  </thead>\n",
              "  <tbody>\n",
              "    <tr>\n",
              "      <th>0</th>\n",
              "      <td>RT @TOIMumbai: Maharashtra: Schools won't open...</td>\n",
              "      <td>Reshma Mutha</td>\n",
              "      <td>426</td>\n",
              "      <td>28</td>\n",
              "      <td>Mumbai, India</td>\n",
              "      <td>False</td>\n",
              "      <td>0</td>\n",
              "      <td>4</td>\n",
              "      <td>2020-11-21 16:41:48</td>\n",
              "      <td>RT Maharashtra Schools won t open on Monday to...</td>\n",
              "      <td>Neutral</td>\n",
              "    </tr>\n",
              "    <tr>\n",
              "      <th>1</th>\n",
              "      <td>RT @TOIMumbai: Maharashtra: Schools won't open...</td>\n",
              "      <td>Laxman Sharma</td>\n",
              "      <td>59291</td>\n",
              "      <td>5255</td>\n",
              "      <td>India</td>\n",
              "      <td>False</td>\n",
              "      <td>0</td>\n",
              "      <td>4</td>\n",
              "      <td>2020-11-21 02:37:14</td>\n",
              "      <td>RT Maharashtra Schools won t open on Monday to...</td>\n",
              "      <td>Neutral</td>\n",
              "    </tr>\n",
              "    <tr>\n",
              "      <th>2</th>\n",
              "      <td>Maharashtra: Schools won't open on Monday, to ...</td>\n",
              "      <td>TOI Cities</td>\n",
              "      <td>818382</td>\n",
              "      <td>21524</td>\n",
              "      <td></td>\n",
              "      <td>True</td>\n",
              "      <td>0</td>\n",
              "      <td>0</td>\n",
              "      <td>2020-11-21 02:15:19</td>\n",
              "      <td>Maharashtra Schools won t open on Monday to re...</td>\n",
              "      <td>Neutral</td>\n",
              "    </tr>\n",
              "    <tr>\n",
              "      <th>3</th>\n",
              "      <td>Maharashtra: Schools won't open on Monday, to ...</td>\n",
              "      <td>TOI Cities</td>\n",
              "      <td>818382</td>\n",
              "      <td>21524</td>\n",
              "      <td></td>\n",
              "      <td>True</td>\n",
              "      <td>0</td>\n",
              "      <td>0</td>\n",
              "      <td>2020-11-21 02:14:49</td>\n",
              "      <td>Maharashtra Schools won t open on Monday to re...</td>\n",
              "      <td>Neutral</td>\n",
              "    </tr>\n",
              "    <tr>\n",
              "      <th>4</th>\n",
              "      <td>Maharashtra: Schools won't open on Monday, to ...</td>\n",
              "      <td>TOI Cities</td>\n",
              "      <td>818382</td>\n",
              "      <td>21524</td>\n",
              "      <td></td>\n",
              "      <td>True</td>\n",
              "      <td>0</td>\n",
              "      <td>0</td>\n",
              "      <td>2020-11-21 02:14:18</td>\n",
              "      <td>Maharashtra Schools won t open on Monday to re...</td>\n",
              "      <td>Neutral</td>\n",
              "    </tr>\n",
              "  </tbody>\n",
              "</table>\n",
              "</div>"
            ],
            "text/plain": [
              "                                              Tweets  ... Sentiment\n",
              "0  RT @TOIMumbai: Maharashtra: Schools won't open...  ...   Neutral\n",
              "1  RT @TOIMumbai: Maharashtra: Schools won't open...  ...   Neutral\n",
              "2  Maharashtra: Schools won't open on Monday, to ...  ...   Neutral\n",
              "3  Maharashtra: Schools won't open on Monday, to ...  ...   Neutral\n",
              "4  Maharashtra: Schools won't open on Monday, to ...  ...   Neutral\n",
              "\n",
              "[5 rows x 11 columns]"
            ]
          },
          "metadata": {
            "tags": []
          },
          "execution_count": 17
        }
      ]
    },
    {
      "cell_type": "code",
      "metadata": {
        "colab": {
          "base_uri": "https://localhost:8080/"
        },
        "id": "NuH6bO5bAd76",
        "outputId": "f38c1b08-8a26-451e-9fc7-5bf727322fc7"
      },
      "source": [
        "n = 1\n",
        "print(\"Original tweet:\\n\",df['Tweets'][n])\n",
        "print()\n",
        "print(\"Clean tweet:\\n\",df['clean_tweet'][n])\n",
        "print()\n",
        "print(\"Sentiment of the tweet:\\n\",df['Sentiment'][n])"
      ],
      "execution_count": 18,
      "outputs": [
        {
          "output_type": "stream",
          "text": [
            "Original tweet:\n",
            " RT @TOIMumbai: Maharashtra: Schools won't open on Monday, to remain shut till year-end https://t.co/j3VEtC5AKI\n",
            "\n",
            "Clean tweet:\n",
            " RT Maharashtra Schools won t open on Monday to remain shut till year end\n",
            "\n",
            "Sentiment of the tweet:\n",
            " Neutral\n"
          ],
          "name": "stdout"
        }
      ]
    },
    {
      "cell_type": "code",
      "metadata": {
        "colab": {
          "base_uri": "https://localhost:8080/"
        },
        "id": "VA4H9AKAAlGu",
        "outputId": "11978a15-9d39-4965-c4ab-645bf0def646"
      },
      "source": [
        "n = 20\n",
        "print(\"Original tweet:\\n\",df['Tweets'][n])\n",
        "print()\n",
        "print(\"Clean tweet:\\n\",df['clean_tweet'][n])\n",
        "print()\n",
        "print(\"Sentiment of the tweet:\\n\",df['Sentiment'][n])"
      ],
      "execution_count": 19,
      "outputs": [
        {
          "output_type": "stream",
          "text": [
            "Original tweet:\n",
            " RT @indiatvnews: All schools in Mumbai to remain shut till December 31, says BMC  | via @IndiaTVNews \n",
            "\n",
            "#Mumbai #MumbaiSchools #BMC\n",
            "\n",
            "https:/…\n",
            "\n",
            "Clean tweet:\n",
            " RT All schools in Mumbai to remain shut till December 31 says BMC via Mumbai MumbaiSchools BMC https\n",
            "\n",
            "Sentiment of the tweet:\n",
            " Neutral\n"
          ],
          "name": "stdout"
        }
      ]
    },
    {
      "cell_type": "code",
      "metadata": {
        "colab": {
          "base_uri": "https://localhost:8080/"
        },
        "id": "qAVFDTEnArHP",
        "outputId": "e4eda390-3a91-417a-b12c-ba7be483b80f"
      },
      "source": [
        "n = 25\n",
        "print(\"Original tweet:\\n\",df['Tweets'][n])\n",
        "print()\n",
        "print(\"Clean tweet:\\n\",df['clean_tweet'][n])\n",
        "print()\n",
        "print(\"Sentiment of the tweet:\\n\",df['Sentiment'][n])"
      ],
      "execution_count": 22,
      "outputs": [
        {
          "output_type": "stream",
          "text": [
            "Original tweet:\n",
            " @theicai Good Afternoon Sir\n",
            "I need clarification on exams \n",
            "as in following 3 states schools &amp; educational instituti… https://t.co/y3c4RT9BDA\n",
            "\n",
            "Clean tweet:\n",
            " Good Afternoon Sir I need clarification on exams as in following 3 states schools amp educational instituti\n",
            "\n",
            "Sentiment of the tweet:\n",
            " Positive\n"
          ],
          "name": "stdout"
        }
      ]
    },
    {
      "cell_type": "code",
      "metadata": {
        "colab": {
          "base_uri": "https://localhost:8080/"
        },
        "id": "kfIH5VF9A0WQ",
        "outputId": "6413dbb2-1324-453e-881f-d47a3b9b7080"
      },
      "source": [
        "df[df.Sentiment == 'Positive'].shape[0]"
      ],
      "execution_count": 23,
      "outputs": [
        {
          "output_type": "execute_result",
          "data": {
            "text/plain": [
              "10"
            ]
          },
          "metadata": {
            "tags": []
          },
          "execution_count": 23
        }
      ]
    },
    {
      "cell_type": "code",
      "metadata": {
        "colab": {
          "base_uri": "https://localhost:8080/"
        },
        "id": "YyaHRicwA3rm",
        "outputId": "9bc4c6d0-6648-4adc-d3b2-aec5aa426b9b"
      },
      "source": [
        "df[df.Sentiment == 'Neutral'].shape[0]"
      ],
      "execution_count": 24,
      "outputs": [
        {
          "output_type": "execute_result",
          "data": {
            "text/plain": [
              "23"
            ]
          },
          "metadata": {
            "tags": []
          },
          "execution_count": 24
        }
      ]
    },
    {
      "cell_type": "code",
      "metadata": {
        "colab": {
          "base_uri": "https://localhost:8080/"
        },
        "id": "nDUuvCuwA6l4",
        "outputId": "5bb81fb6-a478-49b1-8419-591c34ec1a82"
      },
      "source": [
        "df[df.Sentiment == 'Negative'].shape[0]"
      ],
      "execution_count": 25,
      "outputs": [
        {
          "output_type": "execute_result",
          "data": {
            "text/plain": [
              "2"
            ]
          },
          "metadata": {
            "tags": []
          },
          "execution_count": 25
        }
      ]
    }
  ]
}