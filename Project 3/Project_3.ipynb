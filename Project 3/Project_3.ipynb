{
  "nbformat": 4,
  "nbformat_minor": 0,
  "metadata": {
    "colab": {
      "name": "Project 3.ipynb",
      "provenance": [],
      "collapsed_sections": []
    },
    "kernelspec": {
      "name": "python3",
      "display_name": "Python 3"
    }
  },
  "cells": [
    {
      "cell_type": "markdown",
      "metadata": {
        "id": "7V6iuwHew1vy"
      },
      "source": [
        "## **Objective**\n",
        "The classification goal is to predict if the client will subscribe (yes/no) a term deposit (variable y)."
      ]
    },
    {
      "cell_type": "code",
      "metadata": {
        "id": "T9pYkEv2t2jr"
      },
      "source": [
        "import numpy as np \n",
        "import pandas as pd \n",
        "import seaborn as sns \n",
        "import matplotlib.pyplot as plt \n",
        "from scipy.stats import pearsonr \n",
        "\n",
        "from sklearn.model_selection import train_test_split\n",
        "from sklearn.preprocessing import StandardScaler, MinMaxScaler, RobustScaler\n",
        "from sklearn.linear_model import LogisticRegression\n",
        "from sklearn.naive_bayes import GaussianNB\n",
        "from sklearn.neighbors import KNeighborsClassifier\n",
        "from sklearn.svm import SVC\n",
        "\n",
        "from sklearn.tree import DecisionTreeClassifier\n",
        "from IPython.display import Image\n",
        "from sklearn import tree\n",
        "from os import system\n",
        "from sklearn.ensemble import BaggingClassifier\n",
        "from sklearn.ensemble import AdaBoostClassifier\n",
        "from sklearn.ensemble import GradientBoostingClassifier\n",
        "from sklearn.ensemble import RandomForestClassifier\n",
        "from sklearn.preprocessing import LabelEncoder\n",
        "\n",
        "from sklearn.tree import export_graphviz\n",
        "from sklearn.externals.six import StringIO\n",
        "from IPython.display import Image\n",
        "import pydotplus\n",
        "import graphviz\n",
        "from statistics import median, mean\n",
        "\n",
        "from sklearn.metrics import accuracy_score, confusion_matrix,recall_score\n",
        "from sklearn.metrics import precision_score, classification_report,roc_auc_score, precision_score\n"
      ],
      "execution_count": 32,
      "outputs": []
    },
    {
      "cell_type": "code",
      "metadata": {
        "id": "XbzsGV-z25rM",
        "colab": {
          "base_uri": "https://localhost:8080/",
          "height": 204
        },
        "outputId": "fdccaf95-6da9-479d-ac2a-e6fe8d8afa1f"
      },
      "source": [
        "DataFrame = pd.read_csv('/content/bank-full.csv')\n",
        "DataFrame.head()"
      ],
      "execution_count": 33,
      "outputs": [
        {
          "output_type": "execute_result",
          "data": {
            "text/html": [
              "<div>\n",
              "<style scoped>\n",
              "    .dataframe tbody tr th:only-of-type {\n",
              "        vertical-align: middle;\n",
              "    }\n",
              "\n",
              "    .dataframe tbody tr th {\n",
              "        vertical-align: top;\n",
              "    }\n",
              "\n",
              "    .dataframe thead th {\n",
              "        text-align: right;\n",
              "    }\n",
              "</style>\n",
              "<table border=\"1\" class=\"dataframe\">\n",
              "  <thead>\n",
              "    <tr style=\"text-align: right;\">\n",
              "      <th></th>\n",
              "      <th>age</th>\n",
              "      <th>job</th>\n",
              "      <th>marital</th>\n",
              "      <th>education</th>\n",
              "      <th>default</th>\n",
              "      <th>balance</th>\n",
              "      <th>housing</th>\n",
              "      <th>loan</th>\n",
              "      <th>contact</th>\n",
              "      <th>day</th>\n",
              "      <th>month</th>\n",
              "      <th>duration</th>\n",
              "      <th>campaign</th>\n",
              "      <th>pdays</th>\n",
              "      <th>previous</th>\n",
              "      <th>poutcome</th>\n",
              "      <th>Target</th>\n",
              "    </tr>\n",
              "  </thead>\n",
              "  <tbody>\n",
              "    <tr>\n",
              "      <th>0</th>\n",
              "      <td>58</td>\n",
              "      <td>management</td>\n",
              "      <td>married</td>\n",
              "      <td>tertiary</td>\n",
              "      <td>no</td>\n",
              "      <td>2143</td>\n",
              "      <td>yes</td>\n",
              "      <td>no</td>\n",
              "      <td>unknown</td>\n",
              "      <td>5</td>\n",
              "      <td>may</td>\n",
              "      <td>261</td>\n",
              "      <td>1</td>\n",
              "      <td>-1</td>\n",
              "      <td>0</td>\n",
              "      <td>unknown</td>\n",
              "      <td>no</td>\n",
              "    </tr>\n",
              "    <tr>\n",
              "      <th>1</th>\n",
              "      <td>44</td>\n",
              "      <td>technician</td>\n",
              "      <td>single</td>\n",
              "      <td>secondary</td>\n",
              "      <td>no</td>\n",
              "      <td>29</td>\n",
              "      <td>yes</td>\n",
              "      <td>no</td>\n",
              "      <td>unknown</td>\n",
              "      <td>5</td>\n",
              "      <td>may</td>\n",
              "      <td>151</td>\n",
              "      <td>1</td>\n",
              "      <td>-1</td>\n",
              "      <td>0</td>\n",
              "      <td>unknown</td>\n",
              "      <td>no</td>\n",
              "    </tr>\n",
              "    <tr>\n",
              "      <th>2</th>\n",
              "      <td>33</td>\n",
              "      <td>entrepreneur</td>\n",
              "      <td>married</td>\n",
              "      <td>secondary</td>\n",
              "      <td>no</td>\n",
              "      <td>2</td>\n",
              "      <td>yes</td>\n",
              "      <td>yes</td>\n",
              "      <td>unknown</td>\n",
              "      <td>5</td>\n",
              "      <td>may</td>\n",
              "      <td>76</td>\n",
              "      <td>1</td>\n",
              "      <td>-1</td>\n",
              "      <td>0</td>\n",
              "      <td>unknown</td>\n",
              "      <td>no</td>\n",
              "    </tr>\n",
              "    <tr>\n",
              "      <th>3</th>\n",
              "      <td>47</td>\n",
              "      <td>blue-collar</td>\n",
              "      <td>married</td>\n",
              "      <td>unknown</td>\n",
              "      <td>no</td>\n",
              "      <td>1506</td>\n",
              "      <td>yes</td>\n",
              "      <td>no</td>\n",
              "      <td>unknown</td>\n",
              "      <td>5</td>\n",
              "      <td>may</td>\n",
              "      <td>92</td>\n",
              "      <td>1</td>\n",
              "      <td>-1</td>\n",
              "      <td>0</td>\n",
              "      <td>unknown</td>\n",
              "      <td>no</td>\n",
              "    </tr>\n",
              "    <tr>\n",
              "      <th>4</th>\n",
              "      <td>33</td>\n",
              "      <td>unknown</td>\n",
              "      <td>single</td>\n",
              "      <td>unknown</td>\n",
              "      <td>no</td>\n",
              "      <td>1</td>\n",
              "      <td>no</td>\n",
              "      <td>no</td>\n",
              "      <td>unknown</td>\n",
              "      <td>5</td>\n",
              "      <td>may</td>\n",
              "      <td>198</td>\n",
              "      <td>1</td>\n",
              "      <td>-1</td>\n",
              "      <td>0</td>\n",
              "      <td>unknown</td>\n",
              "      <td>no</td>\n",
              "    </tr>\n",
              "  </tbody>\n",
              "</table>\n",
              "</div>"
            ],
            "text/plain": [
              "   age           job  marital  education  ... pdays  previous poutcome Target\n",
              "0   58    management  married   tertiary  ...    -1         0  unknown     no\n",
              "1   44    technician   single  secondary  ...    -1         0  unknown     no\n",
              "2   33  entrepreneur  married  secondary  ...    -1         0  unknown     no\n",
              "3   47   blue-collar  married    unknown  ...    -1         0  unknown     no\n",
              "4   33       unknown   single    unknown  ...    -1         0  unknown     no\n",
              "\n",
              "[5 rows x 17 columns]"
            ]
          },
          "metadata": {
            "tags": []
          },
          "execution_count": 33
        }
      ]
    },
    {
      "cell_type": "code",
      "metadata": {
        "id": "BSaHkiB246jj",
        "colab": {
          "base_uri": "https://localhost:8080/",
          "height": 204
        },
        "outputId": "a6c1a01e-75af-4dc6-b340-2c121cfcb4f3"
      },
      "source": [
        "DataFrame.tail()"
      ],
      "execution_count": 34,
      "outputs": [
        {
          "output_type": "execute_result",
          "data": {
            "text/html": [
              "<div>\n",
              "<style scoped>\n",
              "    .dataframe tbody tr th:only-of-type {\n",
              "        vertical-align: middle;\n",
              "    }\n",
              "\n",
              "    .dataframe tbody tr th {\n",
              "        vertical-align: top;\n",
              "    }\n",
              "\n",
              "    .dataframe thead th {\n",
              "        text-align: right;\n",
              "    }\n",
              "</style>\n",
              "<table border=\"1\" class=\"dataframe\">\n",
              "  <thead>\n",
              "    <tr style=\"text-align: right;\">\n",
              "      <th></th>\n",
              "      <th>age</th>\n",
              "      <th>job</th>\n",
              "      <th>marital</th>\n",
              "      <th>education</th>\n",
              "      <th>default</th>\n",
              "      <th>balance</th>\n",
              "      <th>housing</th>\n",
              "      <th>loan</th>\n",
              "      <th>contact</th>\n",
              "      <th>day</th>\n",
              "      <th>month</th>\n",
              "      <th>duration</th>\n",
              "      <th>campaign</th>\n",
              "      <th>pdays</th>\n",
              "      <th>previous</th>\n",
              "      <th>poutcome</th>\n",
              "      <th>Target</th>\n",
              "    </tr>\n",
              "  </thead>\n",
              "  <tbody>\n",
              "    <tr>\n",
              "      <th>45206</th>\n",
              "      <td>51</td>\n",
              "      <td>technician</td>\n",
              "      <td>married</td>\n",
              "      <td>tertiary</td>\n",
              "      <td>no</td>\n",
              "      <td>825</td>\n",
              "      <td>no</td>\n",
              "      <td>no</td>\n",
              "      <td>cellular</td>\n",
              "      <td>17</td>\n",
              "      <td>nov</td>\n",
              "      <td>977</td>\n",
              "      <td>3</td>\n",
              "      <td>-1</td>\n",
              "      <td>0</td>\n",
              "      <td>unknown</td>\n",
              "      <td>yes</td>\n",
              "    </tr>\n",
              "    <tr>\n",
              "      <th>45207</th>\n",
              "      <td>71</td>\n",
              "      <td>retired</td>\n",
              "      <td>divorced</td>\n",
              "      <td>primary</td>\n",
              "      <td>no</td>\n",
              "      <td>1729</td>\n",
              "      <td>no</td>\n",
              "      <td>no</td>\n",
              "      <td>cellular</td>\n",
              "      <td>17</td>\n",
              "      <td>nov</td>\n",
              "      <td>456</td>\n",
              "      <td>2</td>\n",
              "      <td>-1</td>\n",
              "      <td>0</td>\n",
              "      <td>unknown</td>\n",
              "      <td>yes</td>\n",
              "    </tr>\n",
              "    <tr>\n",
              "      <th>45208</th>\n",
              "      <td>72</td>\n",
              "      <td>retired</td>\n",
              "      <td>married</td>\n",
              "      <td>secondary</td>\n",
              "      <td>no</td>\n",
              "      <td>5715</td>\n",
              "      <td>no</td>\n",
              "      <td>no</td>\n",
              "      <td>cellular</td>\n",
              "      <td>17</td>\n",
              "      <td>nov</td>\n",
              "      <td>1127</td>\n",
              "      <td>5</td>\n",
              "      <td>184</td>\n",
              "      <td>3</td>\n",
              "      <td>success</td>\n",
              "      <td>yes</td>\n",
              "    </tr>\n",
              "    <tr>\n",
              "      <th>45209</th>\n",
              "      <td>57</td>\n",
              "      <td>blue-collar</td>\n",
              "      <td>married</td>\n",
              "      <td>secondary</td>\n",
              "      <td>no</td>\n",
              "      <td>668</td>\n",
              "      <td>no</td>\n",
              "      <td>no</td>\n",
              "      <td>telephone</td>\n",
              "      <td>17</td>\n",
              "      <td>nov</td>\n",
              "      <td>508</td>\n",
              "      <td>4</td>\n",
              "      <td>-1</td>\n",
              "      <td>0</td>\n",
              "      <td>unknown</td>\n",
              "      <td>no</td>\n",
              "    </tr>\n",
              "    <tr>\n",
              "      <th>45210</th>\n",
              "      <td>37</td>\n",
              "      <td>entrepreneur</td>\n",
              "      <td>married</td>\n",
              "      <td>secondary</td>\n",
              "      <td>no</td>\n",
              "      <td>2971</td>\n",
              "      <td>no</td>\n",
              "      <td>no</td>\n",
              "      <td>cellular</td>\n",
              "      <td>17</td>\n",
              "      <td>nov</td>\n",
              "      <td>361</td>\n",
              "      <td>2</td>\n",
              "      <td>188</td>\n",
              "      <td>11</td>\n",
              "      <td>other</td>\n",
              "      <td>no</td>\n",
              "    </tr>\n",
              "  </tbody>\n",
              "</table>\n",
              "</div>"
            ],
            "text/plain": [
              "       age           job   marital  education  ... pdays  previous poutcome Target\n",
              "45206   51    technician   married   tertiary  ...    -1         0  unknown    yes\n",
              "45207   71       retired  divorced    primary  ...    -1         0  unknown    yes\n",
              "45208   72       retired   married  secondary  ...   184         3  success    yes\n",
              "45209   57   blue-collar   married  secondary  ...    -1         0  unknown     no\n",
              "45210   37  entrepreneur   married  secondary  ...   188        11    other     no\n",
              "\n",
              "[5 rows x 17 columns]"
            ]
          },
          "metadata": {
            "tags": []
          },
          "execution_count": 34
        }
      ]
    },
    {
      "cell_type": "markdown",
      "metadata": {
        "id": "EidKqhjo4_jy"
      },
      "source": [
        "# **Exploratory Data Analysis**\n",
        "\n",
        "Shape of the data"
      ]
    },
    {
      "cell_type": "code",
      "metadata": {
        "id": "lRzMcuTM59wV",
        "colab": {
          "base_uri": "https://localhost:8080/"
        },
        "outputId": "e6934e64-9b9a-4d8c-d6b4-d482934c218e"
      },
      "source": [
        "print('\\033[1m''Number of rows in dataframe', DataFrame.shape[0])\n",
        "print('\\033[1m''Number of features in dataframe', DataFrame.shape[1])"
      ],
      "execution_count": 35,
      "outputs": [
        {
          "output_type": "stream",
          "text": [
            "\u001b[1mNumber of rows in dataframe 45211\n",
            "\u001b[1mNumber of features in dataframe 17\n"
          ],
          "name": "stdout"
        }
      ]
    },
    {
      "cell_type": "markdown",
      "metadata": {
        "id": "3e-nBicw6dwp"
      },
      "source": [
        "Data-type of each attribute"
      ]
    },
    {
      "cell_type": "code",
      "metadata": {
        "id": "pb7hJNok6cRx",
        "colab": {
          "base_uri": "https://localhost:8080/",
          "height": 97
        },
        "outputId": "4abab904-f7e1-4d64-a8e2-e850b002511c"
      },
      "source": [
        "DataFrame.dtypes.to_frame('Datatypes of attributes').T"
      ],
      "execution_count": 6,
      "outputs": [
        {
          "output_type": "execute_result",
          "data": {
            "text/html": [
              "<div>\n",
              "<style scoped>\n",
              "    .dataframe tbody tr th:only-of-type {\n",
              "        vertical-align: middle;\n",
              "    }\n",
              "\n",
              "    .dataframe tbody tr th {\n",
              "        vertical-align: top;\n",
              "    }\n",
              "\n",
              "    .dataframe thead th {\n",
              "        text-align: right;\n",
              "    }\n",
              "</style>\n",
              "<table border=\"1\" class=\"dataframe\">\n",
              "  <thead>\n",
              "    <tr style=\"text-align: right;\">\n",
              "      <th></th>\n",
              "      <th>age</th>\n",
              "      <th>job</th>\n",
              "      <th>marital</th>\n",
              "      <th>education</th>\n",
              "      <th>default</th>\n",
              "      <th>balance</th>\n",
              "      <th>housing</th>\n",
              "      <th>loan</th>\n",
              "      <th>contact</th>\n",
              "      <th>day</th>\n",
              "      <th>month</th>\n",
              "      <th>duration</th>\n",
              "      <th>campaign</th>\n",
              "      <th>pdays</th>\n",
              "      <th>previous</th>\n",
              "      <th>poutcome</th>\n",
              "      <th>Target</th>\n",
              "    </tr>\n",
              "  </thead>\n",
              "  <tbody>\n",
              "    <tr>\n",
              "      <th>Datatypes of attributes</th>\n",
              "      <td>int64</td>\n",
              "      <td>object</td>\n",
              "      <td>object</td>\n",
              "      <td>object</td>\n",
              "      <td>object</td>\n",
              "      <td>int64</td>\n",
              "      <td>object</td>\n",
              "      <td>object</td>\n",
              "      <td>object</td>\n",
              "      <td>int64</td>\n",
              "      <td>object</td>\n",
              "      <td>int64</td>\n",
              "      <td>int64</td>\n",
              "      <td>int64</td>\n",
              "      <td>int64</td>\n",
              "      <td>object</td>\n",
              "      <td>object</td>\n",
              "    </tr>\n",
              "  </tbody>\n",
              "</table>\n",
              "</div>"
            ],
            "text/plain": [
              "                           age     job marital  ... previous poutcome  Target\n",
              "Datatypes of attributes  int64  object  object  ...    int64   object  object\n",
              "\n",
              "[1 rows x 17 columns]"
            ]
          },
          "metadata": {
            "tags": []
          },
          "execution_count": 6
        }
      ]
    },
    {
      "cell_type": "code",
      "metadata": {
        "id": "qJxd2u718icS",
        "colab": {
          "base_uri": "https://localhost:8080/",
          "height": 97
        },
        "outputId": "2d0c17b7-4b09-4f42-a137-a8e6116d6632"
      },
      "source": [
        "DataFrame[['job','marital','education','default','housing','loan','contact','month','poutcome','Target']] = DataFrame[['job','marital','education','default','housing','loan','contact','month','poutcome','Target']].apply(pd.Categorical)\n",
        "DataFrame.dtypes.to_frame('Datatypes of attributes').T"
      ],
      "execution_count": 36,
      "outputs": [
        {
          "output_type": "execute_result",
          "data": {
            "text/html": [
              "<div>\n",
              "<style scoped>\n",
              "    .dataframe tbody tr th:only-of-type {\n",
              "        vertical-align: middle;\n",
              "    }\n",
              "\n",
              "    .dataframe tbody tr th {\n",
              "        vertical-align: top;\n",
              "    }\n",
              "\n",
              "    .dataframe thead th {\n",
              "        text-align: right;\n",
              "    }\n",
              "</style>\n",
              "<table border=\"1\" class=\"dataframe\">\n",
              "  <thead>\n",
              "    <tr style=\"text-align: right;\">\n",
              "      <th></th>\n",
              "      <th>age</th>\n",
              "      <th>job</th>\n",
              "      <th>marital</th>\n",
              "      <th>education</th>\n",
              "      <th>default</th>\n",
              "      <th>balance</th>\n",
              "      <th>housing</th>\n",
              "      <th>loan</th>\n",
              "      <th>contact</th>\n",
              "      <th>day</th>\n",
              "      <th>month</th>\n",
              "      <th>duration</th>\n",
              "      <th>campaign</th>\n",
              "      <th>pdays</th>\n",
              "      <th>previous</th>\n",
              "      <th>poutcome</th>\n",
              "      <th>Target</th>\n",
              "    </tr>\n",
              "  </thead>\n",
              "  <tbody>\n",
              "    <tr>\n",
              "      <th>Datatypes of attributes</th>\n",
              "      <td>int64</td>\n",
              "      <td>category</td>\n",
              "      <td>category</td>\n",
              "      <td>category</td>\n",
              "      <td>category</td>\n",
              "      <td>int64</td>\n",
              "      <td>category</td>\n",
              "      <td>category</td>\n",
              "      <td>category</td>\n",
              "      <td>int64</td>\n",
              "      <td>category</td>\n",
              "      <td>int64</td>\n",
              "      <td>int64</td>\n",
              "      <td>int64</td>\n",
              "      <td>int64</td>\n",
              "      <td>category</td>\n",
              "      <td>category</td>\n",
              "    </tr>\n",
              "  </tbody>\n",
              "</table>\n",
              "</div>"
            ],
            "text/plain": [
              "                           age       job   marital  ... previous  poutcome    Target\n",
              "Datatypes of attributes  int64  category  category  ...    int64  category  category\n",
              "\n",
              "[1 rows x 17 columns]"
            ]
          },
          "metadata": {
            "tags": []
          },
          "execution_count": 36
        }
      ]
    },
    {
      "cell_type": "markdown",
      "metadata": {
        "id": "l61f6Su19uUY"
      },
      "source": [
        "After conversion of datatypes in above step, 10 features have category datatypes and 7 have int datatypes.\n"
      ]
    },
    {
      "cell_type": "markdown",
      "metadata": {
        "id": "sSCIlsZ2-ncu"
      },
      "source": [
        "# **Checking the presence of missing values**"
      ]
    },
    {
      "cell_type": "code",
      "metadata": {
        "id": "LFfn5wiO-u3K",
        "colab": {
          "base_uri": "https://localhost:8080/",
          "height": 97
        },
        "outputId": "25f81304-7ae6-47a3-b787-05f7e466b569"
      },
      "source": [
        "DataFrame.isnull().sum().to_frame('Presence of missing values').T"
      ],
      "execution_count": 37,
      "outputs": [
        {
          "output_type": "execute_result",
          "data": {
            "text/html": [
              "<div>\n",
              "<style scoped>\n",
              "    .dataframe tbody tr th:only-of-type {\n",
              "        vertical-align: middle;\n",
              "    }\n",
              "\n",
              "    .dataframe tbody tr th {\n",
              "        vertical-align: top;\n",
              "    }\n",
              "\n",
              "    .dataframe thead th {\n",
              "        text-align: right;\n",
              "    }\n",
              "</style>\n",
              "<table border=\"1\" class=\"dataframe\">\n",
              "  <thead>\n",
              "    <tr style=\"text-align: right;\">\n",
              "      <th></th>\n",
              "      <th>age</th>\n",
              "      <th>job</th>\n",
              "      <th>marital</th>\n",
              "      <th>education</th>\n",
              "      <th>default</th>\n",
              "      <th>balance</th>\n",
              "      <th>housing</th>\n",
              "      <th>loan</th>\n",
              "      <th>contact</th>\n",
              "      <th>day</th>\n",
              "      <th>month</th>\n",
              "      <th>duration</th>\n",
              "      <th>campaign</th>\n",
              "      <th>pdays</th>\n",
              "      <th>previous</th>\n",
              "      <th>poutcome</th>\n",
              "      <th>Target</th>\n",
              "    </tr>\n",
              "  </thead>\n",
              "  <tbody>\n",
              "    <tr>\n",
              "      <th>Presence of missing values</th>\n",
              "      <td>0</td>\n",
              "      <td>0</td>\n",
              "      <td>0</td>\n",
              "      <td>0</td>\n",
              "      <td>0</td>\n",
              "      <td>0</td>\n",
              "      <td>0</td>\n",
              "      <td>0</td>\n",
              "      <td>0</td>\n",
              "      <td>0</td>\n",
              "      <td>0</td>\n",
              "      <td>0</td>\n",
              "      <td>0</td>\n",
              "      <td>0</td>\n",
              "      <td>0</td>\n",
              "      <td>0</td>\n",
              "      <td>0</td>\n",
              "    </tr>\n",
              "  </tbody>\n",
              "</table>\n",
              "</div>"
            ],
            "text/plain": [
              "                            age  job  marital  ...  previous  poutcome  Target\n",
              "Presence of missing values    0    0        0  ...         0         0       0\n",
              "\n",
              "[1 rows x 17 columns]"
            ]
          },
          "metadata": {
            "tags": []
          },
          "execution_count": 37
        }
      ]
    },
    {
      "cell_type": "markdown",
      "metadata": {
        "id": "FwOE7M1M_Ari"
      },
      "source": [
        "No missing values\n",
        "\n",
        "Checking columns which contain string data."
      ]
    },
    {
      "cell_type": "code",
      "metadata": {
        "id": "NcaB_J0R_LDG",
        "colab": {
          "base_uri": "https://localhost:8080/"
        },
        "outputId": "7bb65835-126e-44da-def4-0b9e0c1dd4f5"
      },
      "source": [
        "DataFrame['poutcome'].value_counts()"
      ],
      "execution_count": 38,
      "outputs": [
        {
          "output_type": "execute_result",
          "data": {
            "text/plain": [
              "unknown    36959\n",
              "failure     4901\n",
              "other       1840\n",
              "success     1511\n",
              "Name: poutcome, dtype: int64"
            ]
          },
          "metadata": {
            "tags": []
          },
          "execution_count": 38
        }
      ]
    },
    {
      "cell_type": "code",
      "metadata": {
        "id": "3j72kMaA_sQI",
        "colab": {
          "base_uri": "https://localhost:8080/"
        },
        "outputId": "b452eeee-6f45-43f9-ef2d-3e6c289bfe87"
      },
      "source": [
        "DataFrame['contact'].value_counts()"
      ],
      "execution_count": 39,
      "outputs": [
        {
          "output_type": "execute_result",
          "data": {
            "text/plain": [
              "cellular     29285\n",
              "unknown      13020\n",
              "telephone     2906\n",
              "Name: contact, dtype: int64"
            ]
          },
          "metadata": {
            "tags": []
          },
          "execution_count": 39
        }
      ]
    },
    {
      "cell_type": "code",
      "metadata": {
        "id": "oQqhMop6_1Wh",
        "colab": {
          "base_uri": "https://localhost:8080/"
        },
        "outputId": "3af22d7b-ff5f-4548-cf1e-ba148fa34c5d"
      },
      "source": [
        "DataFrame['education'].value_counts()"
      ],
      "execution_count": 40,
      "outputs": [
        {
          "output_type": "execute_result",
          "data": {
            "text/plain": [
              "secondary    23202\n",
              "tertiary     13301\n",
              "primary       6851\n",
              "unknown       1857\n",
              "Name: education, dtype: int64"
            ]
          },
          "metadata": {
            "tags": []
          },
          "execution_count": 40
        }
      ]
    },
    {
      "cell_type": "code",
      "metadata": {
        "id": "FQchPEab_8on",
        "colab": {
          "base_uri": "https://localhost:8080/"
        },
        "outputId": "e51f2d74-da5f-422b-e618-8d816709d783"
      },
      "source": [
        "DataFrame['job'].value_counts()"
      ],
      "execution_count": 41,
      "outputs": [
        {
          "output_type": "execute_result",
          "data": {
            "text/plain": [
              "blue-collar      9732\n",
              "management       9458\n",
              "technician       7597\n",
              "admin.           5171\n",
              "services         4154\n",
              "retired          2264\n",
              "self-employed    1579\n",
              "entrepreneur     1487\n",
              "unemployed       1303\n",
              "housemaid        1240\n",
              "student           938\n",
              "unknown           288\n",
              "Name: job, dtype: int64"
            ]
          },
          "metadata": {
            "tags": []
          },
          "execution_count": 41
        }
      ]
    },
    {
      "cell_type": "markdown",
      "metadata": {
        "id": "2fYe6PDIAHGf"
      },
      "source": [
        "# 5 point summary of numerical attribute"
      ]
    },
    {
      "cell_type": "code",
      "metadata": {
        "id": "oUWKfMH4AGnB",
        "colab": {
          "base_uri": "https://localhost:8080/",
          "height": 266
        },
        "outputId": "1a96624f-a1c5-459a-9f60-6f3994f96f82"
      },
      "source": [
        "DataFrame.describe().T"
      ],
      "execution_count": 42,
      "outputs": [
        {
          "output_type": "execute_result",
          "data": {
            "text/html": [
              "<div>\n",
              "<style scoped>\n",
              "    .dataframe tbody tr th:only-of-type {\n",
              "        vertical-align: middle;\n",
              "    }\n",
              "\n",
              "    .dataframe tbody tr th {\n",
              "        vertical-align: top;\n",
              "    }\n",
              "\n",
              "    .dataframe thead th {\n",
              "        text-align: right;\n",
              "    }\n",
              "</style>\n",
              "<table border=\"1\" class=\"dataframe\">\n",
              "  <thead>\n",
              "    <tr style=\"text-align: right;\">\n",
              "      <th></th>\n",
              "      <th>count</th>\n",
              "      <th>mean</th>\n",
              "      <th>std</th>\n",
              "      <th>min</th>\n",
              "      <th>25%</th>\n",
              "      <th>50%</th>\n",
              "      <th>75%</th>\n",
              "      <th>max</th>\n",
              "    </tr>\n",
              "  </thead>\n",
              "  <tbody>\n",
              "    <tr>\n",
              "      <th>age</th>\n",
              "      <td>45211.0</td>\n",
              "      <td>40.936210</td>\n",
              "      <td>10.618762</td>\n",
              "      <td>18.0</td>\n",
              "      <td>33.0</td>\n",
              "      <td>39.0</td>\n",
              "      <td>48.0</td>\n",
              "      <td>95.0</td>\n",
              "    </tr>\n",
              "    <tr>\n",
              "      <th>balance</th>\n",
              "      <td>45211.0</td>\n",
              "      <td>1362.272058</td>\n",
              "      <td>3044.765829</td>\n",
              "      <td>-8019.0</td>\n",
              "      <td>72.0</td>\n",
              "      <td>448.0</td>\n",
              "      <td>1428.0</td>\n",
              "      <td>102127.0</td>\n",
              "    </tr>\n",
              "    <tr>\n",
              "      <th>day</th>\n",
              "      <td>45211.0</td>\n",
              "      <td>15.806419</td>\n",
              "      <td>8.322476</td>\n",
              "      <td>1.0</td>\n",
              "      <td>8.0</td>\n",
              "      <td>16.0</td>\n",
              "      <td>21.0</td>\n",
              "      <td>31.0</td>\n",
              "    </tr>\n",
              "    <tr>\n",
              "      <th>duration</th>\n",
              "      <td>45211.0</td>\n",
              "      <td>258.163080</td>\n",
              "      <td>257.527812</td>\n",
              "      <td>0.0</td>\n",
              "      <td>103.0</td>\n",
              "      <td>180.0</td>\n",
              "      <td>319.0</td>\n",
              "      <td>4918.0</td>\n",
              "    </tr>\n",
              "    <tr>\n",
              "      <th>campaign</th>\n",
              "      <td>45211.0</td>\n",
              "      <td>2.763841</td>\n",
              "      <td>3.098021</td>\n",
              "      <td>1.0</td>\n",
              "      <td>1.0</td>\n",
              "      <td>2.0</td>\n",
              "      <td>3.0</td>\n",
              "      <td>63.0</td>\n",
              "    </tr>\n",
              "    <tr>\n",
              "      <th>pdays</th>\n",
              "      <td>45211.0</td>\n",
              "      <td>40.197828</td>\n",
              "      <td>100.128746</td>\n",
              "      <td>-1.0</td>\n",
              "      <td>-1.0</td>\n",
              "      <td>-1.0</td>\n",
              "      <td>-1.0</td>\n",
              "      <td>871.0</td>\n",
              "    </tr>\n",
              "    <tr>\n",
              "      <th>previous</th>\n",
              "      <td>45211.0</td>\n",
              "      <td>0.580323</td>\n",
              "      <td>2.303441</td>\n",
              "      <td>0.0</td>\n",
              "      <td>0.0</td>\n",
              "      <td>0.0</td>\n",
              "      <td>0.0</td>\n",
              "      <td>275.0</td>\n",
              "    </tr>\n",
              "  </tbody>\n",
              "</table>\n",
              "</div>"
            ],
            "text/plain": [
              "            count         mean          std  ...    50%     75%       max\n",
              "age       45211.0    40.936210    10.618762  ...   39.0    48.0      95.0\n",
              "balance   45211.0  1362.272058  3044.765829  ...  448.0  1428.0  102127.0\n",
              "day       45211.0    15.806419     8.322476  ...   16.0    21.0      31.0\n",
              "duration  45211.0   258.163080   257.527812  ...  180.0   319.0    4918.0\n",
              "campaign  45211.0     2.763841     3.098021  ...    2.0     3.0      63.0\n",
              "pdays     45211.0    40.197828   100.128746  ...   -1.0    -1.0     871.0\n",
              "previous  45211.0     0.580323     2.303441  ...    0.0     0.0     275.0\n",
              "\n",
              "[7 rows x 8 columns]"
            ]
          },
          "metadata": {
            "tags": []
          },
          "execution_count": 42
        }
      ]
    },
    {
      "cell_type": "markdown",
      "metadata": {
        "id": "-6tplSJjBbqI"
      },
      "source": [
        "# 5 point summary understanding:\n",
        "\n",
        "Outliers are present in 'age', 'balance', 'duration', 'campaign', 'pdays' and \n",
        "\n",
        "'previous' columns.\n",
        "\n",
        "'balance', 'duration', 'campaign', 'pdays' and 'previous' are right skewed.\n",
        "\n",
        "More than 75% people have been contacted in a day after previous campaign as pdays is -1 till 75th precentile\n",
        "\n",
        "Minimum balance is -8019 and maximum balance is 102127\n",
        "\n",
        "Minimum age is 18 years and maximum is 95 years\n",
        "\n"
      ]
    },
    {
      "cell_type": "code",
      "metadata": {
        "id": "nLon6h_eB6nY",
        "colab": {
          "base_uri": "https://localhost:8080/",
          "height": 49
        },
        "outputId": "2af6078a-83eb-48be-d0ca-40bbcb9ad2d3"
      },
      "source": [
        "DataFrame.loc[DataFrame['pdays'] == 999]"
      ],
      "execution_count": 43,
      "outputs": [
        {
          "output_type": "execute_result",
          "data": {
            "text/html": [
              "<div>\n",
              "<style scoped>\n",
              "    .dataframe tbody tr th:only-of-type {\n",
              "        vertical-align: middle;\n",
              "    }\n",
              "\n",
              "    .dataframe tbody tr th {\n",
              "        vertical-align: top;\n",
              "    }\n",
              "\n",
              "    .dataframe thead th {\n",
              "        text-align: right;\n",
              "    }\n",
              "</style>\n",
              "<table border=\"1\" class=\"dataframe\">\n",
              "  <thead>\n",
              "    <tr style=\"text-align: right;\">\n",
              "      <th></th>\n",
              "      <th>age</th>\n",
              "      <th>job</th>\n",
              "      <th>marital</th>\n",
              "      <th>education</th>\n",
              "      <th>default</th>\n",
              "      <th>balance</th>\n",
              "      <th>housing</th>\n",
              "      <th>loan</th>\n",
              "      <th>contact</th>\n",
              "      <th>day</th>\n",
              "      <th>month</th>\n",
              "      <th>duration</th>\n",
              "      <th>campaign</th>\n",
              "      <th>pdays</th>\n",
              "      <th>previous</th>\n",
              "      <th>poutcome</th>\n",
              "      <th>Target</th>\n",
              "    </tr>\n",
              "  </thead>\n",
              "  <tbody>\n",
              "  </tbody>\n",
              "</table>\n",
              "</div>"
            ],
            "text/plain": [
              "Empty DataFrame\n",
              "Columns: [age, job, marital, education, default, balance, housing, loan, contact, day, month, duration, campaign, pdays, previous, poutcome, Target]\n",
              "Index: []"
            ]
          },
          "metadata": {
            "tags": []
          },
          "execution_count": 43
        }
      ]
    },
    {
      "cell_type": "markdown",
      "metadata": {
        "id": "FmHowmK-CIdN"
      },
      "source": [
        "All customers have been conacted previously."
      ]
    },
    {
      "cell_type": "markdown",
      "metadata": {
        "id": "-edTRkOgId0g"
      },
      "source": [
        "# Distribution of numerical columns."
      ]
    },
    {
      "cell_type": "code",
      "metadata": {
        "id": "Z-ZTPQFSIjpG",
        "colab": {
          "base_uri": "https://localhost:8080/",
          "height": 1000
        },
        "outputId": "86e81ad1-303b-4d47-fdd0-23da59354b04"
      },
      "source": [
        "fig, axe = plt.subplots(nrows=4, ncols=2, figsize=(10,15))\n",
        "axe =axe.flatten()\n",
        "sns.distplot(DataFrame['age'], ax=axe[0])\n",
        "sns.distplot(DataFrame['balance'], ax=axe[1])\n",
        "sns.distplot(DataFrame['day'], ax=axe[2])\n",
        "sns.distplot(DataFrame['duration'], ax=axe[3])\n",
        "sns.distplot(DataFrame['campaign'], ax=axe[4])\n",
        "sns.distplot(DataFrame['pdays'], ax=axe[5])\n",
        "sns.distplot(DataFrame['previous'], ax=axe[6])\n"
      ],
      "execution_count": 44,
      "outputs": [
        {
          "output_type": "stream",
          "text": [
            "/usr/local/lib/python3.6/dist-packages/seaborn/distributions.py:2551: FutureWarning: `distplot` is a deprecated function and will be removed in a future version. Please adapt your code to use either `displot` (a figure-level function with similar flexibility) or `histplot` (an axes-level function for histograms).\n",
            "  warnings.warn(msg, FutureWarning)\n",
            "/usr/local/lib/python3.6/dist-packages/seaborn/distributions.py:2551: FutureWarning: `distplot` is a deprecated function and will be removed in a future version. Please adapt your code to use either `displot` (a figure-level function with similar flexibility) or `histplot` (an axes-level function for histograms).\n",
            "  warnings.warn(msg, FutureWarning)\n",
            "/usr/local/lib/python3.6/dist-packages/seaborn/distributions.py:2551: FutureWarning: `distplot` is a deprecated function and will be removed in a future version. Please adapt your code to use either `displot` (a figure-level function with similar flexibility) or `histplot` (an axes-level function for histograms).\n",
            "  warnings.warn(msg, FutureWarning)\n",
            "/usr/local/lib/python3.6/dist-packages/seaborn/distributions.py:2551: FutureWarning: `distplot` is a deprecated function and will be removed in a future version. Please adapt your code to use either `displot` (a figure-level function with similar flexibility) or `histplot` (an axes-level function for histograms).\n",
            "  warnings.warn(msg, FutureWarning)\n",
            "/usr/local/lib/python3.6/dist-packages/seaborn/distributions.py:2551: FutureWarning: `distplot` is a deprecated function and will be removed in a future version. Please adapt your code to use either `displot` (a figure-level function with similar flexibility) or `histplot` (an axes-level function for histograms).\n",
            "  warnings.warn(msg, FutureWarning)\n",
            "/usr/local/lib/python3.6/dist-packages/seaborn/distributions.py:2551: FutureWarning: `distplot` is a deprecated function and will be removed in a future version. Please adapt your code to use either `displot` (a figure-level function with similar flexibility) or `histplot` (an axes-level function for histograms).\n",
            "  warnings.warn(msg, FutureWarning)\n",
            "/usr/local/lib/python3.6/dist-packages/seaborn/distributions.py:2551: FutureWarning: `distplot` is a deprecated function and will be removed in a future version. Please adapt your code to use either `displot` (a figure-level function with similar flexibility) or `histplot` (an axes-level function for histograms).\n",
            "  warnings.warn(msg, FutureWarning)\n"
          ],
          "name": "stderr"
        },
        {
          "output_type": "execute_result",
          "data": {
            "text/plain": [
              "<matplotlib.axes._subplots.AxesSubplot at 0x7f75d8e06f28>"
            ]
          },
          "metadata": {
            "tags": []
          },
          "execution_count": 44
        },
        {
          "output_type": "display_data",
          "data": {
            "image/png": "[encoded data removed]",
            "text/plain": [
              "<Figure size 720x1080 with 8 Axes>"
            ]
          },
          "metadata": {
            "tags": [],
            "needs_background": "light"
          }
        }
      ]
    },
    {
      "cell_type": "markdown",
      "metadata": {
        "id": "K7csWJEcJmde"
      },
      "source": [
        "# Understanding from distributions\n",
        "\n",
        "\n",
        "'balance', 'duration', 'campaign', 'pdays' and 'previous' are right skewed.\n",
        "\n",
        "'age' is somewhat normally distributed\n",
        "\n",
        "\n",
        "# Distribution of Categorical columns\n"
      ]
    },
    {
      "cell_type": "code",
      "metadata": {
        "id": "7klG7bK9xVQ_",
        "colab": {
          "base_uri": "https://localhost:8080/",
          "height": 1000
        },
        "outputId": "7c662995-1d6c-4e8f-8f65-eecb9cec30aa"
      },
      "source": [
        "fig, axe = plt.subplots(nrows=5, ncols=2, figsize=(10, 18))\n",
        "axe = axe.flatten()\n",
        "plot=sns.countplot(x=DataFrame['job'],data=DataFrame,ax=axe[0])\n",
        "plt.setp(plot.get_xticklabels(), rotation=90)\n",
        "sns.countplot(x=DataFrame['marital'],data=DataFrame,ax=axe[1]) \n",
        "sns.countplot(x=DataFrame['education'],data=DataFrame,ax=axe[2])\n",
        "sns.countplot(x=DataFrame['default'],data=DataFrame,ax=axe[3]) \n",
        "sns.countplot(x=DataFrame['housing'],data=DataFrame,ax=axe[4])\n",
        "sns.countplot(x=DataFrame['loan'],data=DataFrame,ax=axe[5]) \n",
        "sns.countplot(x=DataFrame['contact'],data=DataFrame,ax=axe[6])\n",
        "sns.countplot(x=DataFrame['month'],data=DataFrame,ax=axe[7]) \n",
        "sns.countplot(x=DataFrame['poutcome'],data=DataFrame,ax=axe[8]) \n",
        "sns.countplot(x=DataFrame['Target'],data=DataFrame,ax=axe[9]) \n",
        "fig.tight_layout() \n",
        "fig.show() "
      ],
      "execution_count": 45,
      "outputs": [
        {
          "output_type": "display_data",
          "data": {
            "image/png": "[encoded data removed]",
            "text/plain": [
              "<Figure size 720x1296 with 10 Axes>"
            ]
          },
          "metadata": {
            "tags": [],
            "needs_background": "light"
          }
        }
      ]
    },
    {
      "cell_type": "markdown",
      "metadata": {
        "id": "jo2rDyK6xWWU"
      },
      "source": [
        "# Understanding from distributions\n",
        "\n",
        "More than 90% customers have no default credit\n",
        "\n",
        "Around 88% customers have not subscribed for term deposit\n",
        "\n",
        "Most customers have been contacted in may\n",
        "\n",
        "Most customers have been contacted by cellular network(mobile phone)\n",
        "\n",
        "Number of customers who have housing loan is more than the number of customers who don't have housing loan\n",
        "\n",
        "Around 6% customers have credit in default"
      ]
    },
    {
      "cell_type": "markdown",
      "metadata": {
        "id": "cGIIApetzyQr"
      },
      "source": [
        "# Measure of skewness of numerical columns"
      ]
    },
    {
      "cell_type": "code",
      "metadata": {
        "id": "WMgC1ASOzz6W",
        "colab": {
          "base_uri": "https://localhost:8080/",
          "height": 80
        },
        "outputId": "6b3e2fba-56f9-4214-8c66-9c655575c301"
      },
      "source": [
        "DataFrame.skew().to_frame('Skewness measure').T"
      ],
      "execution_count": 46,
      "outputs": [
        {
          "output_type": "execute_result",
          "data": {
            "text/html": [
              "<div>\n",
              "<style scoped>\n",
              "    .dataframe tbody tr th:only-of-type {\n",
              "        vertical-align: middle;\n",
              "    }\n",
              "\n",
              "    .dataframe tbody tr th {\n",
              "        vertical-align: top;\n",
              "    }\n",
              "\n",
              "    .dataframe thead th {\n",
              "        text-align: right;\n",
              "    }\n",
              "</style>\n",
              "<table border=\"1\" class=\"dataframe\">\n",
              "  <thead>\n",
              "    <tr style=\"text-align: right;\">\n",
              "      <th></th>\n",
              "      <th>age</th>\n",
              "      <th>balance</th>\n",
              "      <th>day</th>\n",
              "      <th>duration</th>\n",
              "      <th>campaign</th>\n",
              "      <th>pdays</th>\n",
              "      <th>previous</th>\n",
              "    </tr>\n",
              "  </thead>\n",
              "  <tbody>\n",
              "    <tr>\n",
              "      <th>Skewness measure</th>\n",
              "      <td>0.684818</td>\n",
              "      <td>8.360308</td>\n",
              "      <td>0.093079</td>\n",
              "      <td>3.144318</td>\n",
              "      <td>4.89865</td>\n",
              "      <td>2.615715</td>\n",
              "      <td>41.846454</td>\n",
              "    </tr>\n",
              "  </tbody>\n",
              "</table>\n",
              "</div>"
            ],
            "text/plain": [
              "                       age   balance       day  ...  campaign     pdays   previous\n",
              "Skewness measure  0.684818  8.360308  0.093079  ...   4.89865  2.615715  41.846454\n",
              "\n",
              "[1 rows x 7 columns]"
            ]
          },
          "metadata": {
            "tags": []
          },
          "execution_count": 46
        }
      ]
    },
    {
      "cell_type": "markdown",
      "metadata": {
        "id": "Rgwrtl_00ANO"
      },
      "source": [
        "# Checking the presence of outiers"
      ]
    },
    {
      "cell_type": "code",
      "metadata": {
        "id": "8XbhqJ1x0PuZ",
        "colab": {
          "base_uri": "https://localhost:8080/",
          "height": 873
        },
        "outputId": "35aae785-3b97-43cd-eaaa-e9a61385d279"
      },
      "source": [
        "fig, axe = plt.subplots(nrows=4, ncols=2, figsize=(10, 12))\n",
        "axe = axe.flatten()\n",
        "sns.boxplot(x='age',data=DataFrame,color='springgreen',ax=axe[0]) \n",
        "sns.boxplot(x='balance',data=DataFrame,color='springgreen',ax=axe[1]) \n",
        "sns.boxplot(x='day',data=DataFrame,color='springgreen',ax=axe[2])\n",
        "sns.boxplot(x='duration',data=DataFrame,color='springgreen',ax=axe[3]) \n",
        "sns.boxplot(x='campaign',data=DataFrame,color='springgreen',ax=axe[4])\n",
        "sns.boxplot(x='pdays',data=DataFrame,color='springgreen',ax=axe[5]) \n",
        "sns.boxplot(x='previous',data=DataFrame,color='springgreen',ax=axe[6]) \n",
        "fig.tight_layout() \n",
        "fig.show()\n",
        "axe.flat[-1].set_visible(False)"
      ],
      "execution_count": 47,
      "outputs": [
        {
          "output_type": "display_data",
          "data": {
            "image/png": "[encoded data removed]",
            "text/plain": [
              "<Figure size 720x864 with 8 Axes>"
            ]
          },
          "metadata": {
            "tags": [],
            "needs_background": "light"
          }
        }
      ]
    },
    {
      "cell_type": "markdown",
      "metadata": {
        "id": "QByF-TsG0fSa"
      },
      "source": [
        "# Understanding from boxplots\n",
        "\n",
        "Prove the existance of outliers in 'age', 'balance', 'duration', 'campaign', 'pdays' and 'previous' columns.\n",
        "\n",
        "Values less than 0 are present in 'Balance' column"
      ]
    },
    {
      "cell_type": "markdown",
      "metadata": {
        "id": "Vct2nc_m0jLB"
      },
      "source": [
        "# Distribution of Target Column"
      ]
    },
    {
      "cell_type": "code",
      "metadata": {
        "id": "Cut2Yfge0olH",
        "colab": {
          "base_uri": "https://localhost:8080/",
          "height": 111
        },
        "outputId": "fa021d1c-99bc-4ef3-ff1d-c57ec65b86c8"
      },
      "source": [
        "DataFrame['Target'].value_counts().to_frame('Target column distributin')"
      ],
      "execution_count": 48,
      "outputs": [
        {
          "output_type": "execute_result",
          "data": {
            "text/html": [
              "<div>\n",
              "<style scoped>\n",
              "    .dataframe tbody tr th:only-of-type {\n",
              "        vertical-align: middle;\n",
              "    }\n",
              "\n",
              "    .dataframe tbody tr th {\n",
              "        vertical-align: top;\n",
              "    }\n",
              "\n",
              "    .dataframe thead th {\n",
              "        text-align: right;\n",
              "    }\n",
              "</style>\n",
              "<table border=\"1\" class=\"dataframe\">\n",
              "  <thead>\n",
              "    <tr style=\"text-align: right;\">\n",
              "      <th></th>\n",
              "      <th>Target column distributin</th>\n",
              "    </tr>\n",
              "  </thead>\n",
              "  <tbody>\n",
              "    <tr>\n",
              "      <th>no</th>\n",
              "      <td>39922</td>\n",
              "    </tr>\n",
              "    <tr>\n",
              "      <th>yes</th>\n",
              "      <td>5289</td>\n",
              "    </tr>\n",
              "  </tbody>\n",
              "</table>\n",
              "</div>"
            ],
            "text/plain": [
              "     Target column distributin\n",
              "no                       39922\n",
              "yes                       5289"
            ]
          },
          "metadata": {
            "tags": []
          },
          "execution_count": 48
        }
      ]
    },
    {
      "cell_type": "markdown",
      "metadata": {
        "id": "dSWhreuo056V"
      },
      "source": [
        "From above values it can be stated that the dataset is imbalanced.\n",
        "\n",
        "\n",
        "\n",
        "# Data Processing"
      ]
    },
    {
      "cell_type": "markdown",
      "metadata": {
        "id": "wTEVOeur1I2G"
      },
      "source": [
        "# Label Encoding of variables"
      ]
    },
    {
      "cell_type": "code",
      "metadata": {
        "id": "g8ceTHKN1Nhm",
        "colab": {
          "base_uri": "https://localhost:8080/",
          "height": 204
        },
        "outputId": "d6c4cded-854c-4a1b-9e20-b33c1f0eefb4"
      },
      "source": [
        "df_2 = DataFrame.copy() \n",
        "encoder = LabelEncoder() \n",
        "df_2['default'] = encoder.fit_transform(df_2['default']).astype(int)\n",
        "df_2['marital'] = encoder.fit_transform(df_2['marital']).astype(int) \n",
        "df_2['loan'] = encoder.fit_transform(df_2['loan']).astype(int)\n",
        "df_2['housing'] = encoder.fit_transform(df_2['housing']).astype(int)\n",
        "df_2['Target'] = encoder.fit_transform(df_2['Target']).astype(int) \n",
        "df_2['month'] = encoder.fit_transform(df_2['month']).astype(int)\n",
        "df_2['poutcome'] = encoder.fit_transform(df_2['poutcome']).astype(int)\n",
        "df_2['education'] = encoder.fit_transform(df_2['education']).astype(int)\n",
        "df_2.head() "
      ],
      "execution_count": 49,
      "outputs": [
        {
          "output_type": "execute_result",
          "data": {
            "text/html": [
              "<div>\n",
              "<style scoped>\n",
              "    .dataframe tbody tr th:only-of-type {\n",
              "        vertical-align: middle;\n",
              "    }\n",
              "\n",
              "    .dataframe tbody tr th {\n",
              "        vertical-align: top;\n",
              "    }\n",
              "\n",
              "    .dataframe thead th {\n",
              "        text-align: right;\n",
              "    }\n",
              "</style>\n",
              "<table border=\"1\" class=\"dataframe\">\n",
              "  <thead>\n",
              "    <tr style=\"text-align: right;\">\n",
              "      <th></th>\n",
              "      <th>age</th>\n",
              "      <th>job</th>\n",
              "      <th>marital</th>\n",
              "      <th>education</th>\n",
              "      <th>default</th>\n",
              "      <th>balance</th>\n",
              "      <th>housing</th>\n",
              "      <th>loan</th>\n",
              "      <th>contact</th>\n",
              "      <th>day</th>\n",
              "      <th>month</th>\n",
              "      <th>duration</th>\n",
              "      <th>campaign</th>\n",
              "      <th>pdays</th>\n",
              "      <th>previous</th>\n",
              "      <th>poutcome</th>\n",
              "      <th>Target</th>\n",
              "    </tr>\n",
              "  </thead>\n",
              "  <tbody>\n",
              "    <tr>\n",
              "      <th>0</th>\n",
              "      <td>58</td>\n",
              "      <td>management</td>\n",
              "      <td>1</td>\n",
              "      <td>2</td>\n",
              "      <td>0</td>\n",
              "      <td>2143</td>\n",
              "      <td>1</td>\n",
              "      <td>0</td>\n",
              "      <td>unknown</td>\n",
              "      <td>5</td>\n",
              "      <td>8</td>\n",
              "      <td>261</td>\n",
              "      <td>1</td>\n",
              "      <td>-1</td>\n",
              "      <td>0</td>\n",
              "      <td>3</td>\n",
              "      <td>0</td>\n",
              "    </tr>\n",
              "    <tr>\n",
              "      <th>1</th>\n",
              "      <td>44</td>\n",
              "      <td>technician</td>\n",
              "      <td>2</td>\n",
              "      <td>1</td>\n",
              "      <td>0</td>\n",
              "      <td>29</td>\n",
              "      <td>1</td>\n",
              "      <td>0</td>\n",
              "      <td>unknown</td>\n",
              "      <td>5</td>\n",
              "      <td>8</td>\n",
              "      <td>151</td>\n",
              "      <td>1</td>\n",
              "      <td>-1</td>\n",
              "      <td>0</td>\n",
              "      <td>3</td>\n",
              "      <td>0</td>\n",
              "    </tr>\n",
              "    <tr>\n",
              "      <th>2</th>\n",
              "      <td>33</td>\n",
              "      <td>entrepreneur</td>\n",
              "      <td>1</td>\n",
              "      <td>1</td>\n",
              "      <td>0</td>\n",
              "      <td>2</td>\n",
              "      <td>1</td>\n",
              "      <td>1</td>\n",
              "      <td>unknown</td>\n",
              "      <td>5</td>\n",
              "      <td>8</td>\n",
              "      <td>76</td>\n",
              "      <td>1</td>\n",
              "      <td>-1</td>\n",
              "      <td>0</td>\n",
              "      <td>3</td>\n",
              "      <td>0</td>\n",
              "    </tr>\n",
              "    <tr>\n",
              "      <th>3</th>\n",
              "      <td>47</td>\n",
              "      <td>blue-collar</td>\n",
              "      <td>1</td>\n",
              "      <td>3</td>\n",
              "      <td>0</td>\n",
              "      <td>1506</td>\n",
              "      <td>1</td>\n",
              "      <td>0</td>\n",
              "      <td>unknown</td>\n",
              "      <td>5</td>\n",
              "      <td>8</td>\n",
              "      <td>92</td>\n",
              "      <td>1</td>\n",
              "      <td>-1</td>\n",
              "      <td>0</td>\n",
              "      <td>3</td>\n",
              "      <td>0</td>\n",
              "    </tr>\n",
              "    <tr>\n",
              "      <th>4</th>\n",
              "      <td>33</td>\n",
              "      <td>unknown</td>\n",
              "      <td>2</td>\n",
              "      <td>3</td>\n",
              "      <td>0</td>\n",
              "      <td>1</td>\n",
              "      <td>0</td>\n",
              "      <td>0</td>\n",
              "      <td>unknown</td>\n",
              "      <td>5</td>\n",
              "      <td>8</td>\n",
              "      <td>198</td>\n",
              "      <td>1</td>\n",
              "      <td>-1</td>\n",
              "      <td>0</td>\n",
              "      <td>3</td>\n",
              "      <td>0</td>\n",
              "    </tr>\n",
              "  </tbody>\n",
              "</table>\n",
              "</div>"
            ],
            "text/plain": [
              "   age           job  marital  education  ...  pdays  previous  poutcome  Target\n",
              "0   58    management        1          2  ...     -1         0         3       0\n",
              "1   44    technician        2          1  ...     -1         0         3       0\n",
              "2   33  entrepreneur        1          1  ...     -1         0         3       0\n",
              "3   47   blue-collar        1          3  ...     -1         0         3       0\n",
              "4   33       unknown        2          3  ...     -1         0         3       0\n",
              "\n",
              "[5 rows x 17 columns]"
            ]
          },
          "metadata": {
            "tags": []
          },
          "execution_count": 49
        }
      ]
    },
    {
      "cell_type": "markdown",
      "metadata": {
        "id": "mGXLBJQE9CZP"
      },
      "source": [
        "# Checking and modifying datatypes after label encoding"
      ]
    },
    {
      "cell_type": "code",
      "metadata": {
        "id": "ErOJ-Nfi9MPy",
        "colab": {
          "base_uri": "https://localhost:8080/"
        },
        "outputId": "1b5faf28-e4f1-4be3-c00c-b3536297242d"
      },
      "source": [
        "df_2.info()"
      ],
      "execution_count": 50,
      "outputs": [
        {
          "output_type": "stream",
          "text": [
            "<class 'pandas.core.frame.DataFrame'>\n",
            "RangeIndex: 45211 entries, 0 to 45210\n",
            "Data columns (total 17 columns):\n",
            " #   Column     Non-Null Count  Dtype   \n",
            "---  ------     --------------  -----   \n",
            " 0   age        45211 non-null  int64   \n",
            " 1   job        45211 non-null  category\n",
            " 2   marital    45211 non-null  int64   \n",
            " 3   education  45211 non-null  int64   \n",
            " 4   default    45211 non-null  int64   \n",
            " 5   balance    45211 non-null  int64   \n",
            " 6   housing    45211 non-null  int64   \n",
            " 7   loan       45211 non-null  int64   \n",
            " 8   contact    45211 non-null  category\n",
            " 9   day        45211 non-null  int64   \n",
            " 10  month      45211 non-null  int64   \n",
            " 11  duration   45211 non-null  int64   \n",
            " 12  campaign   45211 non-null  int64   \n",
            " 13  pdays      45211 non-null  int64   \n",
            " 14  previous   45211 non-null  int64   \n",
            " 15  poutcome   45211 non-null  int64   \n",
            " 16  Target     45211 non-null  int64   \n",
            "dtypes: category(2), int64(15)\n",
            "memory usage: 5.3 MB\n"
          ],
          "name": "stdout"
        }
      ]
    },
    {
      "cell_type": "code",
      "metadata": {
        "id": "jkkecoKE9SY-",
        "colab": {
          "base_uri": "https://localhost:8080/"
        },
        "outputId": "b52882b3-13a4-4d01-8ef0-817a1a0090cf"
      },
      "source": [
        "df_2[['job','marital','education','default','housing','loan','contact','month','poutcome','Target']] = df_2[['job','marital','education','default','housing','loan','contact','month','poutcome','Target']].apply(pd.Categorical)\n",
        "df_2.info()"
      ],
      "execution_count": 54,
      "outputs": [
        {
          "output_type": "stream",
          "text": [
            "<class 'pandas.core.frame.DataFrame'>\n",
            "RangeIndex: 45211 entries, 0 to 45210\n",
            "Data columns (total 17 columns):\n",
            " #   Column     Non-Null Count  Dtype   \n",
            "---  ------     --------------  -----   \n",
            " 0   age        45211 non-null  int64   \n",
            " 1   job        45211 non-null  category\n",
            " 2   marital    45211 non-null  category\n",
            " 3   education  45211 non-null  category\n",
            " 4   default    45211 non-null  category\n",
            " 5   balance    45211 non-null  int64   \n",
            " 6   housing    45211 non-null  category\n",
            " 7   loan       45211 non-null  category\n",
            " 8   contact    45211 non-null  category\n",
            " 9   day        45211 non-null  int64   \n",
            " 10  month      45211 non-null  category\n",
            " 11  duration   45211 non-null  int64   \n",
            " 12  campaign   45211 non-null  int64   \n",
            " 13  pdays      45211 non-null  int64   \n",
            " 14  previous   45211 non-null  int64   \n",
            " 15  poutcome   45211 non-null  category\n",
            " 16  Target     45211 non-null  category\n",
            "dtypes: category(10), int64(7)\n",
            "memory usage: 2.8 MB\n"
          ],
          "name": "stdout"
        }
      ]
    },
    {
      "cell_type": "markdown",
      "metadata": {
        "id": "_TiTx4ic-QZk"
      },
      "source": [
        "Handling Outliers with mean replacement"
      ]
    },
    {
      "cell_type": "code",
      "metadata": {
        "id": "8SCczALN-XyG",
        "colab": {
          "base_uri": "https://localhost:8080/",
          "height": 890
        },
        "outputId": "092f8dea-1c7a-4203-cdd7-ab357ba37471"
      },
      "source": [
        "meanbal = float(df_2['balance'].mean()) \n",
        "df_2['balance'] = np.where(df_2['balance'] >np.percentile(df_2['balance'], 75), meanbal,df_2['balance'])\n",
        "\n",
        "meandur = float(df_2['duration'].mean()) \n",
        "df_2['duration'] = np.where(df_2['duration'] >np.percentile(df_2['duration'], 75), meandur,df_2['duration'])\n",
        "\n",
        "meancam = float(df_2['campaign'].mean()) \n",
        "df_2['campaign'] = np.where(df_2['campaign'] >np.percentile(df_2['campaign'], 75), meancam,df_2['campaign'])\n",
        "\n",
        "meanpd = float(df_2['pdays'].mean()) \n",
        "df_2['pdays'] = np.where(df_2['pdays'] >np.percentile(df_2['pdays'], 75), meanpd,df_2['pdays'])\n",
        "\n",
        "meanpr = float(df_2['previous'].mean()) \n",
        "df_2['previous'] = np.where(df_2['previous'] >np.percentile(df_2['previous'], 75),meanpr ,df_2['previous'])\n",
        "\n",
        "\n",
        "fig, axe = plt.subplots(nrows=4, ncols=2, figsize=(10, 12))\n",
        "axe = axe.flatten()#to flatten subplot index positions\n",
        "sns.boxplot(x='age',data=df_2,color='springgreen',ax=axe[0]) #Box plot of 'ID' for finding outliers \n",
        "sns.boxplot(x='balance',data=df_2,color='springgreen',ax=axe[1]) #Box plot of 'Family' \n",
        "sns.boxplot(x='day',data=df_2,color='springgreen',ax=axe[2]) #Box plot of 'Personal Loan' \n",
        "sns.boxplot(x='duration',data=df_2,color='springgreen',ax=axe[3]) #Box plot of 'CD Account' \n",
        "sns.boxplot(x='campaign',data=df_2,color='springgreen',ax=axe[4]) #Box plot of 'Online' \n",
        "sns.boxplot(x='pdays',data=df_2,color='springgreen',ax=axe[5]) #Box plot of 'CreditCard'\n",
        "sns.boxplot(x='previous',data=df_2,color='springgreen',ax=axe[6]) #Box plot of 'CreditCard' \n",
        "fig.tight_layout() \n",
        "fig.show() \n",
        "axe.flat[-1].set_visible(False)\n",
        "print('\\033[1m''Boxplots after handeling outliers')"
      ],
      "execution_count": 55,
      "outputs": [
        {
          "output_type": "stream",
          "text": [
            "\u001b[1mBoxplots after handeling outliers\n"
          ],
          "name": "stdout"
        },
        {
          "output_type": "display_data",
          "data": {
            "image/png": "[encoded data removed]",
            "text/plain": [
              "<Figure size 720x864 with 8 Axes>"
            ]
          },
          "metadata": {
            "tags": [],
            "needs_background": "light"
          }
        }
      ]
    },
    {
      "cell_type": "markdown",
      "metadata": {
        "id": "RhKKRKXp-0bZ"
      },
      "source": [
        "# Understanding from boxplots after handeling outliers\n",
        "\n",
        "Outliers in 'age' column are not handled because it is a specific value for each record.\n",
        "\n",
        "After handeling Outliers in 'balance', the number of outliers on the lower side is increased.\n",
        "\n",
        "\n",
        "# Corr plot of all features"
      ]
    },
    {
      "cell_type": "code",
      "metadata": {
        "id": "I-xmgJiQ-3z5",
        "colab": {
          "base_uri": "https://localhost:8080/",
          "height": 612
        },
        "outputId": "67d720f0-7f80-4178-82c2-110568bcf8cb"
      },
      "source": [
        "plt.figure(figsize=(15,10)) \n",
        "sns.heatmap(df_2.corr(),annot=True) "
      ],
      "execution_count": 56,
      "outputs": [
        {
          "output_type": "execute_result",
          "data": {
            "text/plain": [
              "<matplotlib.axes._subplots.AxesSubplot at 0x7f75da950048>"
            ]
          },
          "metadata": {
            "tags": []
          },
          "execution_count": 56
        },
        {
          "output_type": "display_data",
          "data": {
            "image/png": "[encoded data removed]",
            "text/plain": [
              "<Figure size 1080x720 with 2 Axes>"
            ]
          },
          "metadata": {
            "tags": [],
            "needs_background": "light"
          }
        }
      ]
    },
    {
      "cell_type": "markdown",
      "metadata": {
        "id": "WQb99Wqp_LVM"
      },
      "source": [
        "From above corp plot, 'pdays' and 'previous' are highly correlated"
      ]
    },
    {
      "cell_type": "markdown",
      "metadata": {
        "id": "5bFmHJj9_Sdy"
      },
      "source": [
        "# Removing columns:\n",
        "\n",
        "'job','education' and 'contact' attributes contain multiple unknown values.\n",
        "As they are specific string values and not numerical so cannot be treated with median, mean replacement\n",
        "\n",
        "As per data description, duration attribute is removed to have a realistic prediction.\n",
        "\n",
        "'day' and 'month' of contact will not have any realtionship with customer opting for subscription\n",
        "\n",
        "'pdays' and 'previous' are highly correlated so removing any one from both of them.\n",
        "\n",
        "Even though 'poutcome' has a huge number of 'Unknown' values, it is kept because 'poutcome' is outcome of the previous marketing campaign. Which can help in better training and testing of models."
      ]
    },
    {
      "cell_type": "code",
      "metadata": {
        "id": "a9DXbmli_cIe",
        "colab": {
          "base_uri": "https://localhost:8080/",
          "height": 204
        },
        "outputId": "d97fe7a8-a77c-40e2-f324-2b8b303738f4"
      },
      "source": [
        "df_2 = df_2.drop(['job','education','contact','duration','pdays','day','month'],axis=1) \n",
        "df_2.head() "
      ],
      "execution_count": 57,
      "outputs": [
        {
          "output_type": "execute_result",
          "data": {
            "text/html": [
              "<div>\n",
              "<style scoped>\n",
              "    .dataframe tbody tr th:only-of-type {\n",
              "        vertical-align: middle;\n",
              "    }\n",
              "\n",
              "    .dataframe tbody tr th {\n",
              "        vertical-align: top;\n",
              "    }\n",
              "\n",
              "    .dataframe thead th {\n",
              "        text-align: right;\n",
              "    }\n",
              "</style>\n",
              "<table border=\"1\" class=\"dataframe\">\n",
              "  <thead>\n",
              "    <tr style=\"text-align: right;\">\n",
              "      <th></th>\n",
              "      <th>age</th>\n",
              "      <th>marital</th>\n",
              "      <th>default</th>\n",
              "      <th>balance</th>\n",
              "      <th>housing</th>\n",
              "      <th>loan</th>\n",
              "      <th>campaign</th>\n",
              "      <th>previous</th>\n",
              "      <th>poutcome</th>\n",
              "      <th>Target</th>\n",
              "    </tr>\n",
              "  </thead>\n",
              "  <tbody>\n",
              "    <tr>\n",
              "      <th>0</th>\n",
              "      <td>58</td>\n",
              "      <td>1</td>\n",
              "      <td>0</td>\n",
              "      <td>1362.272058</td>\n",
              "      <td>1</td>\n",
              "      <td>0</td>\n",
              "      <td>1.0</td>\n",
              "      <td>0.0</td>\n",
              "      <td>3</td>\n",
              "      <td>0</td>\n",
              "    </tr>\n",
              "    <tr>\n",
              "      <th>1</th>\n",
              "      <td>44</td>\n",
              "      <td>2</td>\n",
              "      <td>0</td>\n",
              "      <td>29.000000</td>\n",
              "      <td>1</td>\n",
              "      <td>0</td>\n",
              "      <td>1.0</td>\n",
              "      <td>0.0</td>\n",
              "      <td>3</td>\n",
              "      <td>0</td>\n",
              "    </tr>\n",
              "    <tr>\n",
              "      <th>2</th>\n",
              "      <td>33</td>\n",
              "      <td>1</td>\n",
              "      <td>0</td>\n",
              "      <td>2.000000</td>\n",
              "      <td>1</td>\n",
              "      <td>1</td>\n",
              "      <td>1.0</td>\n",
              "      <td>0.0</td>\n",
              "      <td>3</td>\n",
              "      <td>0</td>\n",
              "    </tr>\n",
              "    <tr>\n",
              "      <th>3</th>\n",
              "      <td>47</td>\n",
              "      <td>1</td>\n",
              "      <td>0</td>\n",
              "      <td>1362.272058</td>\n",
              "      <td>1</td>\n",
              "      <td>0</td>\n",
              "      <td>1.0</td>\n",
              "      <td>0.0</td>\n",
              "      <td>3</td>\n",
              "      <td>0</td>\n",
              "    </tr>\n",
              "    <tr>\n",
              "      <th>4</th>\n",
              "      <td>33</td>\n",
              "      <td>2</td>\n",
              "      <td>0</td>\n",
              "      <td>1.000000</td>\n",
              "      <td>0</td>\n",
              "      <td>0</td>\n",
              "      <td>1.0</td>\n",
              "      <td>0.0</td>\n",
              "      <td>3</td>\n",
              "      <td>0</td>\n",
              "    </tr>\n",
              "  </tbody>\n",
              "</table>\n",
              "</div>"
            ],
            "text/plain": [
              "   age marital default      balance  ... campaign previous  poutcome  Target\n",
              "0   58       1       0  1362.272058  ...      1.0      0.0         3       0\n",
              "1   44       2       0    29.000000  ...      1.0      0.0         3       0\n",
              "2   33       1       0     2.000000  ...      1.0      0.0         3       0\n",
              "3   47       1       0  1362.272058  ...      1.0      0.0         3       0\n",
              "4   33       2       0     1.000000  ...      1.0      0.0         3       0\n",
              "\n",
              "[5 rows x 10 columns]"
            ]
          },
          "metadata": {
            "tags": []
          },
          "execution_count": 57
        }
      ]
    },
    {
      "cell_type": "markdown",
      "metadata": {
        "id": "S2gFdzU3_oTn"
      },
      "source": [
        "# Pairplot of features\n",
        "\n",
        "\n",
        "\n"
      ]
    },
    {
      "cell_type": "code",
      "metadata": {
        "id": "QjhpS0u9_4sO",
        "colab": {
          "base_uri": "https://localhost:8080/",
          "height": 969
        },
        "outputId": "91524e80-9875-4e48-8ae6-882109b82ed7"
      },
      "source": [
        "sns.pairplot(df_2)"
      ],
      "execution_count": 58,
      "outputs": [
        {
          "output_type": "error",
          "ename": "TypeError",
          "evalue": "ignored",
          "traceback": [
            "\u001b[0;31m---------------------------------------------------------------------------\u001b[0m",
            "\u001b[0;31mTypeError\u001b[0m                                 Traceback (most recent call last)",
            "\u001b[0;32m<ipython-input-58-acf5c774bcc7>\u001b[0m in \u001b[0;36m<module>\u001b[0;34m()\u001b[0m\n\u001b[0;32m----> 1\u001b[0;31m \u001b[0msns\u001b[0m\u001b[0;34m.\u001b[0m\u001b[0mpairplot\u001b[0m\u001b[0;34m(\u001b[0m\u001b[0mdf_2\u001b[0m\u001b[0;34m)\u001b[0m\u001b[0;34m\u001b[0m\u001b[0;34m\u001b[0m\u001b[0m\n\u001b[0m",
            "\u001b[0;32m/usr/local/lib/python3.6/dist-packages/seaborn/_decorators.py\u001b[0m in \u001b[0;36minner_f\u001b[0;34m(*args, **kwargs)\u001b[0m\n\u001b[1;32m     44\u001b[0m             )\n\u001b[1;32m     45\u001b[0m         \u001b[0mkwargs\u001b[0m\u001b[0;34m.\u001b[0m\u001b[0mupdate\u001b[0m\u001b[0;34m(\u001b[0m\u001b[0;34m{\u001b[0m\u001b[0mk\u001b[0m\u001b[0;34m:\u001b[0m \u001b[0marg\u001b[0m \u001b[0;32mfor\u001b[0m \u001b[0mk\u001b[0m\u001b[0;34m,\u001b[0m \u001b[0marg\u001b[0m \u001b[0;32min\u001b[0m \u001b[0mzip\u001b[0m\u001b[0;34m(\u001b[0m\u001b[0msig\u001b[0m\u001b[0;34m.\u001b[0m\u001b[0mparameters\u001b[0m\u001b[0;34m,\u001b[0m \u001b[0margs\u001b[0m\u001b[0;34m)\u001b[0m\u001b[0;34m}\u001b[0m\u001b[0;34m)\u001b[0m\u001b[0;34m\u001b[0m\u001b[0;34m\u001b[0m\u001b[0m\n\u001b[0;32m---> 46\u001b[0;31m         \u001b[0;32mreturn\u001b[0m \u001b[0mf\u001b[0m\u001b[0;34m(\u001b[0m\u001b[0;34m**\u001b[0m\u001b[0mkwargs\u001b[0m\u001b[0;34m)\u001b[0m\u001b[0;34m\u001b[0m\u001b[0;34m\u001b[0m\u001b[0m\n\u001b[0m\u001b[1;32m     47\u001b[0m     \u001b[0;32mreturn\u001b[0m \u001b[0minner_f\u001b[0m\u001b[0;34m\u001b[0m\u001b[0;34m\u001b[0m\u001b[0m\n\u001b[1;32m     48\u001b[0m \u001b[0;34m\u001b[0m\u001b[0m\n",
            "\u001b[0;32m/usr/local/lib/python3.6/dist-packages/seaborn/axisgrid.py\u001b[0m in \u001b[0;36mpairplot\u001b[0;34m(data, hue, hue_order, palette, vars, x_vars, y_vars, kind, diag_kind, markers, height, aspect, corner, dropna, plot_kws, diag_kws, grid_kws, size)\u001b[0m\n\u001b[1;32m   1959\u001b[0m     \u001b[0mdiag_kws\u001b[0m\u001b[0;34m.\u001b[0m\u001b[0msetdefault\u001b[0m\u001b[0;34m(\u001b[0m\u001b[0;34m\"legend\"\u001b[0m\u001b[0;34m,\u001b[0m \u001b[0;32mFalse\u001b[0m\u001b[0;34m)\u001b[0m\u001b[0;34m\u001b[0m\u001b[0;34m\u001b[0m\u001b[0m\n\u001b[1;32m   1960\u001b[0m     \u001b[0;32mif\u001b[0m \u001b[0mdiag_kind\u001b[0m \u001b[0;34m==\u001b[0m \u001b[0;34m\"hist\"\u001b[0m\u001b[0;34m:\u001b[0m\u001b[0;34m\u001b[0m\u001b[0;34m\u001b[0m\u001b[0m\n\u001b[0;32m-> 1961\u001b[0;31m         \u001b[0mgrid\u001b[0m\u001b[0;34m.\u001b[0m\u001b[0mmap_diag\u001b[0m\u001b[0;34m(\u001b[0m\u001b[0mhistplot\u001b[0m\u001b[0;34m,\u001b[0m \u001b[0;34m**\u001b[0m\u001b[0mdiag_kws\u001b[0m\u001b[0;34m)\u001b[0m\u001b[0;34m\u001b[0m\u001b[0;34m\u001b[0m\u001b[0m\n\u001b[0m\u001b[1;32m   1962\u001b[0m     \u001b[0;32melif\u001b[0m \u001b[0mdiag_kind\u001b[0m \u001b[0;34m==\u001b[0m \u001b[0;34m\"kde\"\u001b[0m\u001b[0;34m:\u001b[0m\u001b[0;34m\u001b[0m\u001b[0;34m\u001b[0m\u001b[0m\n\u001b[1;32m   1963\u001b[0m         \u001b[0mdiag_kws\u001b[0m\u001b[0;34m.\u001b[0m\u001b[0msetdefault\u001b[0m\u001b[0;34m(\u001b[0m\u001b[0;34m\"fill\"\u001b[0m\u001b[0;34m,\u001b[0m \u001b[0;32mTrue\u001b[0m\u001b[0;34m)\u001b[0m\u001b[0;34m\u001b[0m\u001b[0;34m\u001b[0m\u001b[0m\n",
            "\u001b[0;32m/usr/local/lib/python3.6/dist-packages/seaborn/axisgrid.py\u001b[0m in \u001b[0;36mmap_diag\u001b[0;34m(self, func, **kwargs)\u001b[0m\n\u001b[1;32m   1375\u001b[0m             \u001b[0mplot_kwargs\u001b[0m\u001b[0;34m.\u001b[0m\u001b[0msetdefault\u001b[0m\u001b[0;34m(\u001b[0m\u001b[0;34m\"hue_order\"\u001b[0m\u001b[0;34m,\u001b[0m \u001b[0mself\u001b[0m\u001b[0;34m.\u001b[0m\u001b[0m_hue_order\u001b[0m\u001b[0;34m)\u001b[0m\u001b[0;34m\u001b[0m\u001b[0;34m\u001b[0m\u001b[0m\n\u001b[1;32m   1376\u001b[0m             \u001b[0mplot_kwargs\u001b[0m\u001b[0;34m.\u001b[0m\u001b[0msetdefault\u001b[0m\u001b[0;34m(\u001b[0m\u001b[0;34m\"palette\"\u001b[0m\u001b[0;34m,\u001b[0m \u001b[0mself\u001b[0m\u001b[0;34m.\u001b[0m\u001b[0m_orig_palette\u001b[0m\u001b[0;34m)\u001b[0m\u001b[0;34m\u001b[0m\u001b[0;34m\u001b[0m\u001b[0m\n\u001b[0;32m-> 1377\u001b[0;31m             \u001b[0mfunc\u001b[0m\u001b[0;34m(\u001b[0m\u001b[0mx\u001b[0m\u001b[0;34m=\u001b[0m\u001b[0mvector\u001b[0m\u001b[0;34m,\u001b[0m \u001b[0;34m**\u001b[0m\u001b[0mplot_kwargs\u001b[0m\u001b[0;34m)\u001b[0m\u001b[0;34m\u001b[0m\u001b[0;34m\u001b[0m\u001b[0m\n\u001b[0m\u001b[1;32m   1378\u001b[0m             \u001b[0mself\u001b[0m\u001b[0;34m.\u001b[0m\u001b[0m_clean_axis\u001b[0m\u001b[0;34m(\u001b[0m\u001b[0max\u001b[0m\u001b[0;34m)\u001b[0m\u001b[0;34m\u001b[0m\u001b[0;34m\u001b[0m\u001b[0m\n\u001b[1;32m   1379\u001b[0m \u001b[0;34m\u001b[0m\u001b[0m\n",
            "\u001b[0;32m/usr/local/lib/python3.6/dist-packages/seaborn/distributions.py\u001b[0m in \u001b[0;36mhistplot\u001b[0;34m(data, x, y, hue, weights, stat, bins, binwidth, binrange, discrete, cumulative, common_bins, common_norm, multiple, element, fill, shrink, kde, kde_kws, line_kws, thresh, pthresh, pmax, cbar, cbar_ax, cbar_kws, palette, hue_order, hue_norm, color, log_scale, legend, ax, **kwargs)\u001b[0m\n\u001b[1;32m   1433\u001b[0m             \u001b[0mestimate_kws\u001b[0m\u001b[0;34m=\u001b[0m\u001b[0mestimate_kws\u001b[0m\u001b[0;34m,\u001b[0m\u001b[0;34m\u001b[0m\u001b[0;34m\u001b[0m\u001b[0m\n\u001b[1;32m   1434\u001b[0m             \u001b[0mline_kws\u001b[0m\u001b[0;34m=\u001b[0m\u001b[0mline_kws\u001b[0m\u001b[0;34m,\u001b[0m\u001b[0;34m\u001b[0m\u001b[0;34m\u001b[0m\u001b[0m\n\u001b[0;32m-> 1435\u001b[0;31m             \u001b[0;34m**\u001b[0m\u001b[0mkwargs\u001b[0m\u001b[0;34m,\u001b[0m\u001b[0;34m\u001b[0m\u001b[0;34m\u001b[0m\u001b[0m\n\u001b[0m\u001b[1;32m   1436\u001b[0m         )\n\u001b[1;32m   1437\u001b[0m \u001b[0;34m\u001b[0m\u001b[0m\n",
            "\u001b[0;32m/usr/local/lib/python3.6/dist-packages/seaborn/distributions.py\u001b[0m in \u001b[0;36mplot_univariate_histogram\u001b[0;34m(self, multiple, element, fill, common_norm, common_bins, shrink, kde, kde_kws, color, legend, line_kws, estimate_kws, **plot_kws)\u001b[0m\n\u001b[1;32m    434\u001b[0m \u001b[0;34m\u001b[0m\u001b[0m\n\u001b[1;32m    435\u001b[0m             \u001b[0;31m# Do the histogram computation\u001b[0m\u001b[0;34m\u001b[0m\u001b[0;34m\u001b[0m\u001b[0;34m\u001b[0m\u001b[0m\n\u001b[0;32m--> 436\u001b[0;31m             \u001b[0mheights\u001b[0m\u001b[0;34m,\u001b[0m \u001b[0medges\u001b[0m \u001b[0;34m=\u001b[0m \u001b[0mestimator\u001b[0m\u001b[0;34m(\u001b[0m\u001b[0mobservations\u001b[0m\u001b[0;34m,\u001b[0m \u001b[0mweights\u001b[0m\u001b[0;34m=\u001b[0m\u001b[0mweights\u001b[0m\u001b[0;34m)\u001b[0m\u001b[0;34m\u001b[0m\u001b[0;34m\u001b[0m\u001b[0m\n\u001b[0m\u001b[1;32m    437\u001b[0m \u001b[0;34m\u001b[0m\u001b[0m\n\u001b[1;32m    438\u001b[0m             \u001b[0;31m# Rescale the smoothed curve to match the histogram\u001b[0m\u001b[0;34m\u001b[0m\u001b[0;34m\u001b[0m\u001b[0;34m\u001b[0m\u001b[0m\n",
            "\u001b[0;32m/usr/local/lib/python3.6/dist-packages/seaborn/_statistics.py\u001b[0m in \u001b[0;36m__call__\u001b[0;34m(self, x1, x2, weights)\u001b[0m\n\u001b[1;32m    369\u001b[0m         \u001b[0;34m\"\"\"Count the occurrances in each bin, maybe normalize.\"\"\"\u001b[0m\u001b[0;34m\u001b[0m\u001b[0;34m\u001b[0m\u001b[0m\n\u001b[1;32m    370\u001b[0m         \u001b[0;32mif\u001b[0m \u001b[0mx2\u001b[0m \u001b[0;32mis\u001b[0m \u001b[0;32mNone\u001b[0m\u001b[0;34m:\u001b[0m\u001b[0;34m\u001b[0m\u001b[0;34m\u001b[0m\u001b[0m\n\u001b[0;32m--> 371\u001b[0;31m             \u001b[0;32mreturn\u001b[0m \u001b[0mself\u001b[0m\u001b[0;34m.\u001b[0m\u001b[0m_eval_univariate\u001b[0m\u001b[0;34m(\u001b[0m\u001b[0mx1\u001b[0m\u001b[0;34m,\u001b[0m \u001b[0mweights\u001b[0m\u001b[0;34m)\u001b[0m\u001b[0;34m\u001b[0m\u001b[0;34m\u001b[0m\u001b[0m\n\u001b[0m\u001b[1;32m    372\u001b[0m         \u001b[0;32melse\u001b[0m\u001b[0;34m:\u001b[0m\u001b[0;34m\u001b[0m\u001b[0;34m\u001b[0m\u001b[0m\n\u001b[1;32m    373\u001b[0m             \u001b[0;32mreturn\u001b[0m \u001b[0mself\u001b[0m\u001b[0;34m.\u001b[0m\u001b[0m_eval_bivariate\u001b[0m\u001b[0;34m(\u001b[0m\u001b[0mx1\u001b[0m\u001b[0;34m,\u001b[0m \u001b[0mx2\u001b[0m\u001b[0;34m,\u001b[0m \u001b[0mweights\u001b[0m\u001b[0;34m)\u001b[0m\u001b[0;34m\u001b[0m\u001b[0;34m\u001b[0m\u001b[0m\n",
            "\u001b[0;32m/usr/local/lib/python3.6/dist-packages/seaborn/_statistics.py\u001b[0m in \u001b[0;36m_eval_univariate\u001b[0;34m(self, x, weights)\u001b[0m\n\u001b[1;32m    346\u001b[0m         \u001b[0mbin_edges\u001b[0m \u001b[0;34m=\u001b[0m \u001b[0mself\u001b[0m\u001b[0;34m.\u001b[0m\u001b[0mbin_edges\u001b[0m\u001b[0;34m\u001b[0m\u001b[0;34m\u001b[0m\u001b[0m\n\u001b[1;32m    347\u001b[0m         \u001b[0;32mif\u001b[0m \u001b[0mbin_edges\u001b[0m \u001b[0;32mis\u001b[0m \u001b[0;32mNone\u001b[0m\u001b[0;34m:\u001b[0m\u001b[0;34m\u001b[0m\u001b[0;34m\u001b[0m\u001b[0m\n\u001b[0;32m--> 348\u001b[0;31m             \u001b[0mbin_edges\u001b[0m \u001b[0;34m=\u001b[0m \u001b[0mself\u001b[0m\u001b[0;34m.\u001b[0m\u001b[0mdefine_bin_edges\u001b[0m\u001b[0;34m(\u001b[0m\u001b[0mx\u001b[0m\u001b[0;34m,\u001b[0m \u001b[0mweights\u001b[0m\u001b[0;34m=\u001b[0m\u001b[0mweights\u001b[0m\u001b[0;34m,\u001b[0m \u001b[0mcache\u001b[0m\u001b[0;34m=\u001b[0m\u001b[0;32mFalse\u001b[0m\u001b[0;34m)\u001b[0m\u001b[0;34m\u001b[0m\u001b[0;34m\u001b[0m\u001b[0m\n\u001b[0m\u001b[1;32m    349\u001b[0m \u001b[0;34m\u001b[0m\u001b[0m\n\u001b[1;32m    350\u001b[0m         \u001b[0mdensity\u001b[0m \u001b[0;34m=\u001b[0m \u001b[0mself\u001b[0m\u001b[0;34m.\u001b[0m\u001b[0mstat\u001b[0m \u001b[0;34m==\u001b[0m \u001b[0;34m\"density\"\u001b[0m\u001b[0;34m\u001b[0m\u001b[0;34m\u001b[0m\u001b[0m\n",
            "\u001b[0;32m/usr/local/lib/python3.6/dist-packages/seaborn/_statistics.py\u001b[0m in \u001b[0;36mdefine_bin_edges\u001b[0;34m(self, x1, x2, weights, cache)\u001b[0m\n\u001b[1;32m    264\u001b[0m \u001b[0;34m\u001b[0m\u001b[0m\n\u001b[1;32m    265\u001b[0m             bin_edges = self._define_bin_edges(\n\u001b[0;32m--> 266\u001b[0;31m                 \u001b[0mx1\u001b[0m\u001b[0;34m,\u001b[0m \u001b[0mweights\u001b[0m\u001b[0;34m,\u001b[0m \u001b[0mself\u001b[0m\u001b[0;34m.\u001b[0m\u001b[0mbins\u001b[0m\u001b[0;34m,\u001b[0m \u001b[0mself\u001b[0m\u001b[0;34m.\u001b[0m\u001b[0mbinwidth\u001b[0m\u001b[0;34m,\u001b[0m \u001b[0mself\u001b[0m\u001b[0;34m.\u001b[0m\u001b[0mbinrange\u001b[0m\u001b[0;34m,\u001b[0m \u001b[0mself\u001b[0m\u001b[0;34m.\u001b[0m\u001b[0mdiscrete\u001b[0m\u001b[0;34m,\u001b[0m\u001b[0;34m\u001b[0m\u001b[0;34m\u001b[0m\u001b[0m\n\u001b[0m\u001b[1;32m    267\u001b[0m             )\n\u001b[1;32m    268\u001b[0m \u001b[0;34m\u001b[0m\u001b[0m\n",
            "\u001b[0;32m/usr/local/lib/python3.6/dist-packages/seaborn/_statistics.py\u001b[0m in \u001b[0;36m_define_bin_edges\u001b[0;34m(self, x, weights, bins, binwidth, binrange, discrete)\u001b[0m\n\u001b[1;32m    244\u001b[0m         \u001b[0;34m\"\"\"Inner function that takes bin parameters as arguments.\"\"\"\u001b[0m\u001b[0;34m\u001b[0m\u001b[0;34m\u001b[0m\u001b[0m\n\u001b[1;32m    245\u001b[0m         \u001b[0;32mif\u001b[0m \u001b[0mbinrange\u001b[0m \u001b[0;32mis\u001b[0m \u001b[0;32mNone\u001b[0m\u001b[0;34m:\u001b[0m\u001b[0;34m\u001b[0m\u001b[0;34m\u001b[0m\u001b[0m\n\u001b[0;32m--> 246\u001b[0;31m             \u001b[0mstart\u001b[0m\u001b[0;34m,\u001b[0m \u001b[0mstop\u001b[0m \u001b[0;34m=\u001b[0m \u001b[0mx\u001b[0m\u001b[0;34m.\u001b[0m\u001b[0mmin\u001b[0m\u001b[0;34m(\u001b[0m\u001b[0;34m)\u001b[0m\u001b[0;34m,\u001b[0m \u001b[0mx\u001b[0m\u001b[0;34m.\u001b[0m\u001b[0mmax\u001b[0m\u001b[0;34m(\u001b[0m\u001b[0;34m)\u001b[0m\u001b[0;34m\u001b[0m\u001b[0;34m\u001b[0m\u001b[0m\n\u001b[0m\u001b[1;32m    247\u001b[0m         \u001b[0;32melse\u001b[0m\u001b[0;34m:\u001b[0m\u001b[0;34m\u001b[0m\u001b[0;34m\u001b[0m\u001b[0m\n\u001b[1;32m    248\u001b[0m             \u001b[0mstart\u001b[0m\u001b[0;34m,\u001b[0m \u001b[0mstop\u001b[0m \u001b[0;34m=\u001b[0m \u001b[0mbinrange\u001b[0m\u001b[0;34m\u001b[0m\u001b[0;34m\u001b[0m\u001b[0m\n",
            "\u001b[0;32m/usr/local/lib/python3.6/dist-packages/pandas/core/generic.py\u001b[0m in \u001b[0;36mstat_func\u001b[0;34m(self, axis, skipna, level, numeric_only, **kwargs)\u001b[0m\n\u001b[1;32m  11467\u001b[0m             \u001b[0;32mreturn\u001b[0m \u001b[0mself\u001b[0m\u001b[0;34m.\u001b[0m\u001b[0m_agg_by_level\u001b[0m\u001b[0;34m(\u001b[0m\u001b[0mname\u001b[0m\u001b[0;34m,\u001b[0m \u001b[0maxis\u001b[0m\u001b[0;34m=\u001b[0m\u001b[0maxis\u001b[0m\u001b[0;34m,\u001b[0m \u001b[0mlevel\u001b[0m\u001b[0;34m=\u001b[0m\u001b[0mlevel\u001b[0m\u001b[0;34m,\u001b[0m \u001b[0mskipna\u001b[0m\u001b[0;34m=\u001b[0m\u001b[0mskipna\u001b[0m\u001b[0;34m)\u001b[0m\u001b[0;34m\u001b[0m\u001b[0;34m\u001b[0m\u001b[0m\n\u001b[1;32m  11468\u001b[0m         return self._reduce(\n\u001b[0;32m> 11469\u001b[0;31m             \u001b[0mfunc\u001b[0m\u001b[0;34m,\u001b[0m \u001b[0mname\u001b[0m\u001b[0;34m=\u001b[0m\u001b[0mname\u001b[0m\u001b[0;34m,\u001b[0m \u001b[0maxis\u001b[0m\u001b[0;34m=\u001b[0m\u001b[0maxis\u001b[0m\u001b[0;34m,\u001b[0m \u001b[0mskipna\u001b[0m\u001b[0;34m=\u001b[0m\u001b[0mskipna\u001b[0m\u001b[0;34m,\u001b[0m \u001b[0mnumeric_only\u001b[0m\u001b[0;34m=\u001b[0m\u001b[0mnumeric_only\u001b[0m\u001b[0;34m\u001b[0m\u001b[0;34m\u001b[0m\u001b[0m\n\u001b[0m\u001b[1;32m  11470\u001b[0m         )\n\u001b[1;32m  11471\u001b[0m \u001b[0;34m\u001b[0m\u001b[0m\n",
            "\u001b[0;32m/usr/local/lib/python3.6/dist-packages/pandas/core/series.py\u001b[0m in \u001b[0;36m_reduce\u001b[0;34m(self, op, name, axis, skipna, numeric_only, filter_type, **kwds)\u001b[0m\n\u001b[1;32m   4237\u001b[0m         \u001b[0;32mif\u001b[0m \u001b[0misinstance\u001b[0m\u001b[0;34m(\u001b[0m\u001b[0mdelegate\u001b[0m\u001b[0;34m,\u001b[0m \u001b[0mExtensionArray\u001b[0m\u001b[0;34m)\u001b[0m\u001b[0;34m:\u001b[0m\u001b[0;34m\u001b[0m\u001b[0;34m\u001b[0m\u001b[0m\n\u001b[1;32m   4238\u001b[0m             \u001b[0;31m# dispatch to ExtensionArray interface\u001b[0m\u001b[0;34m\u001b[0m\u001b[0;34m\u001b[0m\u001b[0;34m\u001b[0m\u001b[0m\n\u001b[0;32m-> 4239\u001b[0;31m             \u001b[0;32mreturn\u001b[0m \u001b[0mdelegate\u001b[0m\u001b[0;34m.\u001b[0m\u001b[0m_reduce\u001b[0m\u001b[0;34m(\u001b[0m\u001b[0mname\u001b[0m\u001b[0;34m,\u001b[0m \u001b[0mskipna\u001b[0m\u001b[0;34m=\u001b[0m\u001b[0mskipna\u001b[0m\u001b[0;34m,\u001b[0m \u001b[0;34m**\u001b[0m\u001b[0mkwds\u001b[0m\u001b[0;34m)\u001b[0m\u001b[0;34m\u001b[0m\u001b[0;34m\u001b[0m\u001b[0m\n\u001b[0m\u001b[1;32m   4240\u001b[0m \u001b[0;34m\u001b[0m\u001b[0m\n\u001b[1;32m   4241\u001b[0m         \u001b[0;32melse\u001b[0m\u001b[0;34m:\u001b[0m\u001b[0;34m\u001b[0m\u001b[0;34m\u001b[0m\u001b[0m\n",
            "\u001b[0;32m/usr/local/lib/python3.6/dist-packages/pandas/core/arrays/categorical.py\u001b[0m in \u001b[0;36m_reduce\u001b[0;34m(self, name, skipna, **kwargs)\u001b[0m\n\u001b[1;32m   2081\u001b[0m         \u001b[0;32mif\u001b[0m \u001b[0mfunc\u001b[0m \u001b[0;32mis\u001b[0m \u001b[0;32mNone\u001b[0m\u001b[0;34m:\u001b[0m\u001b[0;34m\u001b[0m\u001b[0;34m\u001b[0m\u001b[0m\n\u001b[1;32m   2082\u001b[0m             \u001b[0;32mraise\u001b[0m \u001b[0mTypeError\u001b[0m\u001b[0;34m(\u001b[0m\u001b[0;34mf\"Categorical cannot perform the operation {name}\"\u001b[0m\u001b[0;34m)\u001b[0m\u001b[0;34m\u001b[0m\u001b[0;34m\u001b[0m\u001b[0m\n\u001b[0;32m-> 2083\u001b[0;31m         \u001b[0;32mreturn\u001b[0m \u001b[0mfunc\u001b[0m\u001b[0;34m(\u001b[0m\u001b[0mskipna\u001b[0m\u001b[0;34m=\u001b[0m\u001b[0mskipna\u001b[0m\u001b[0;34m,\u001b[0m \u001b[0;34m**\u001b[0m\u001b[0mkwargs\u001b[0m\u001b[0;34m)\u001b[0m\u001b[0;34m\u001b[0m\u001b[0;34m\u001b[0m\u001b[0m\n\u001b[0m\u001b[1;32m   2084\u001b[0m \u001b[0;34m\u001b[0m\u001b[0m\n\u001b[1;32m   2085\u001b[0m     \u001b[0;34m@\u001b[0m\u001b[0mdeprecate_kwarg\u001b[0m\u001b[0;34m(\u001b[0m\u001b[0mold_arg_name\u001b[0m\u001b[0;34m=\u001b[0m\u001b[0;34m\"numeric_only\"\u001b[0m\u001b[0;34m,\u001b[0m \u001b[0mnew_arg_name\u001b[0m\u001b[0;34m=\u001b[0m\u001b[0;34m\"skipna\"\u001b[0m\u001b[0;34m)\u001b[0m\u001b[0;34m\u001b[0m\u001b[0;34m\u001b[0m\u001b[0m\n",
            "\u001b[0;32m/usr/local/lib/python3.6/dist-packages/pandas/util/_decorators.py\u001b[0m in \u001b[0;36mwrapper\u001b[0;34m(*args, **kwargs)\u001b[0m\n\u001b[1;32m    197\u001b[0m                 \u001b[0;32melse\u001b[0m\u001b[0;34m:\u001b[0m\u001b[0;34m\u001b[0m\u001b[0;34m\u001b[0m\u001b[0m\n\u001b[1;32m    198\u001b[0m                     \u001b[0mkwargs\u001b[0m\u001b[0;34m[\u001b[0m\u001b[0mnew_arg_name\u001b[0m\u001b[0;34m]\u001b[0m \u001b[0;34m=\u001b[0m \u001b[0mnew_arg_value\u001b[0m\u001b[0;34m\u001b[0m\u001b[0;34m\u001b[0m\u001b[0m\n\u001b[0;32m--> 199\u001b[0;31m             \u001b[0;32mreturn\u001b[0m \u001b[0mfunc\u001b[0m\u001b[0;34m(\u001b[0m\u001b[0;34m*\u001b[0m\u001b[0margs\u001b[0m\u001b[0;34m,\u001b[0m \u001b[0;34m**\u001b[0m\u001b[0mkwargs\u001b[0m\u001b[0;34m)\u001b[0m\u001b[0;34m\u001b[0m\u001b[0;34m\u001b[0m\u001b[0m\n\u001b[0m\u001b[1;32m    200\u001b[0m \u001b[0;34m\u001b[0m\u001b[0m\n\u001b[1;32m    201\u001b[0m         \u001b[0;32mreturn\u001b[0m \u001b[0mcast\u001b[0m\u001b[0;34m(\u001b[0m\u001b[0mF\u001b[0m\u001b[0;34m,\u001b[0m \u001b[0mwrapper\u001b[0m\u001b[0;34m)\u001b[0m\u001b[0;34m\u001b[0m\u001b[0;34m\u001b[0m\u001b[0m\n",
            "\u001b[0;32m/usr/local/lib/python3.6/dist-packages/pandas/core/arrays/categorical.py\u001b[0m in \u001b[0;36mmin\u001b[0;34m(self, skipna, **kwargs)\u001b[0m\n\u001b[1;32m   2104\u001b[0m         \"\"\"\n\u001b[1;32m   2105\u001b[0m         \u001b[0mnv\u001b[0m\u001b[0;34m.\u001b[0m\u001b[0mvalidate_min\u001b[0m\u001b[0;34m(\u001b[0m\u001b[0;34m(\u001b[0m\u001b[0;34m)\u001b[0m\u001b[0;34m,\u001b[0m \u001b[0mkwargs\u001b[0m\u001b[0;34m)\u001b[0m\u001b[0;34m\u001b[0m\u001b[0;34m\u001b[0m\u001b[0m\n\u001b[0;32m-> 2106\u001b[0;31m         \u001b[0mself\u001b[0m\u001b[0;34m.\u001b[0m\u001b[0mcheck_for_ordered\u001b[0m\u001b[0;34m(\u001b[0m\u001b[0;34m\"min\"\u001b[0m\u001b[0;34m)\u001b[0m\u001b[0;34m\u001b[0m\u001b[0;34m\u001b[0m\u001b[0m\n\u001b[0m\u001b[1;32m   2107\u001b[0m \u001b[0;34m\u001b[0m\u001b[0m\n\u001b[1;32m   2108\u001b[0m         \u001b[0;32mif\u001b[0m \u001b[0;32mnot\u001b[0m \u001b[0mlen\u001b[0m\u001b[0;34m(\u001b[0m\u001b[0mself\u001b[0m\u001b[0;34m.\u001b[0m\u001b[0m_codes\u001b[0m\u001b[0;34m)\u001b[0m\u001b[0;34m:\u001b[0m\u001b[0;34m\u001b[0m\u001b[0;34m\u001b[0m\u001b[0m\n",
            "\u001b[0;32m/usr/local/lib/python3.6/dist-packages/pandas/core/arrays/categorical.py\u001b[0m in \u001b[0;36mcheck_for_ordered\u001b[0;34m(self, op)\u001b[0m\n\u001b[1;32m   1444\u001b[0m         \u001b[0;32mif\u001b[0m \u001b[0;32mnot\u001b[0m \u001b[0mself\u001b[0m\u001b[0;34m.\u001b[0m\u001b[0mordered\u001b[0m\u001b[0;34m:\u001b[0m\u001b[0;34m\u001b[0m\u001b[0;34m\u001b[0m\u001b[0m\n\u001b[1;32m   1445\u001b[0m             raise TypeError(\n\u001b[0;32m-> 1446\u001b[0;31m                 \u001b[0;34mf\"Categorical is not ordered for operation {op}\\n\"\u001b[0m\u001b[0;34m\u001b[0m\u001b[0;34m\u001b[0m\u001b[0m\n\u001b[0m\u001b[1;32m   1447\u001b[0m                 \u001b[0;34m\"you can use .as_ordered() to change the \"\u001b[0m\u001b[0;34m\u001b[0m\u001b[0;34m\u001b[0m\u001b[0m\n\u001b[1;32m   1448\u001b[0m                 \u001b[0;34m\"Categorical to an ordered one\\n\"\u001b[0m\u001b[0;34m\u001b[0m\u001b[0;34m\u001b[0m\u001b[0m\n",
            "\u001b[0;31mTypeError\u001b[0m: Categorical is not ordered for operation min\nyou can use .as_ordered() to change the Categorical to an ordered one\n"
          ]
        },
        {
          "output_type": "display_data",
          "data": {
            "image/png": "[encoded data removed]",
            "text/plain": [
              "<Figure size 1440x1440 with 72 Axes>"
            ]
          },
          "metadata": {
            "tags": [],
            "needs_background": "light"
          }
        }
      ]
    },
    {
      "cell_type": "markdown",
      "metadata": {
        "id": "H01KkKLgAZIL"
      },
      "source": [
        "# Train Test Split"
      ]
    },
    {
      "cell_type": "code",
      "metadata": {
        "id": "NPmBm7_cAeUZ"
      },
      "source": [
        "X = df_2.drop('Target',axis=1)\n",
        "y = df_2['Target'] \n",
        "X_train,X_test,y_train,y_test = train_test_split(X,y,test_size=0.30,random_state=1)"
      ],
      "execution_count": 60,
      "outputs": []
    },
    {
      "cell_type": "markdown",
      "metadata": {
        "id": "1WdSyJp4ArFs"
      },
      "source": [
        "# Scaling of columns"
      ]
    },
    {
      "cell_type": "code",
      "metadata": {
        "id": "xbbMvKpzAy5g"
      },
      "source": [
        "scaler = StandardScaler() \n",
        "X_train_scaled = scaler.fit_transform(X_train) \n",
        "X_test_scaled = scaler.fit_transform(X_test) "
      ],
      "execution_count": 61,
      "outputs": []
    },
    {
      "cell_type": "markdown",
      "metadata": {
        "id": "fzuXcOa9BTdZ"
      },
      "source": [
        "# Models\n",
        "\n",
        "# Logistic Regression"
      ]
    },
    {
      "cell_type": "code",
      "metadata": {
        "id": "KRKS3vTNBbNp"
      },
      "source": [
        "logic_r = LogisticRegression(solver='liblinear') \n",
        "logic_r.fit(X_train_scaled,y_train) \n",
        "y_pred = logic_r.predict(X_test_scaled)"
      ],
      "execution_count": 62,
      "outputs": []
    },
    {
      "cell_type": "code",
      "metadata": {
        "colab": {
          "base_uri": "https://localhost:8080/"
        },
        "id": "iH2OyB6WBoEa",
        "outputId": "7e7ef5b9-3237-4b57-f94c-ac7865997425"
      },
      "source": [
        "print('\\033[1m''->'*63)\n",
        "print('\\033[1m''Confusion Matrix\\n',confusion_matrix(y_test,y_pred)) #for confusion matrix\n",
        "print('-'*40)\n",
        "LR_accuracy = accuracy_score(y_test,y_pred)\n",
        "print('Accuracy of Logistic Regression :{:.2f}'.format(LR_accuracy)) #for accuracy score\n",
        "print('-'*40)\n",
        "print('\\n Classification Report\\n',classification_report(y_test,y_pred)) #for classification report\n",
        "print('->'*63)"
      ],
      "execution_count": 63,
      "outputs": [
        {
          "output_type": "stream",
          "text": [
            "\u001b[1m->\u001b[1m->\u001b[1m->\u001b[1m->\u001b[1m->\u001b[1m->\u001b[1m->\u001b[1m->\u001b[1m->\u001b[1m->\u001b[1m->\u001b[1m->\u001b[1m->\u001b[1m->\u001b[1m->\u001b[1m->\u001b[1m->\u001b[1m->\u001b[1m->\u001b[1m->\u001b[1m->\u001b[1m->\u001b[1m->\u001b[1m->\u001b[1m->\u001b[1m->\u001b[1m->\u001b[1m->\u001b[1m->\u001b[1m->\u001b[1m->\u001b[1m->\u001b[1m->\u001b[1m->\u001b[1m->\u001b[1m->\u001b[1m->\u001b[1m->\u001b[1m->\u001b[1m->\u001b[1m->\u001b[1m->\u001b[1m->\u001b[1m->\u001b[1m->\u001b[1m->\u001b[1m->\u001b[1m->\u001b[1m->\u001b[1m->\u001b[1m->\u001b[1m->\u001b[1m->\u001b[1m->\u001b[1m->\u001b[1m->\u001b[1m->\u001b[1m->\u001b[1m->\u001b[1m->\u001b[1m->\u001b[1m->\u001b[1m->\n",
            "\u001b[1mConfusion Matrix\n",
            " [[11897   116]\n",
            " [ 1310   241]]\n",
            "----------------------------------------\n",
            "Accuracy of Logistic Regression :0.89\n",
            "----------------------------------------\n",
            "\n",
            " Classification Report\n",
            "               precision    recall  f1-score   support\n",
            "\n",
            "           0       0.90      0.99      0.94     12013\n",
            "           1       0.68      0.16      0.25      1551\n",
            "\n",
            "    accuracy                           0.89     13564\n",
            "   macro avg       0.79      0.57      0.60     13564\n",
            "weighted avg       0.87      0.89      0.86     13564\n",
            "\n",
            "->->->->->->->->->->->->->->->->->->->->->->->->->->->->->->->->->->->->->->->->->->->->->->->->->->->->->->->->->->->->->->->\n"
          ],
          "name": "stdout"
        }
      ]
    },
    {
      "cell_type": "markdown",
      "metadata": {
        "id": "IxU20y5cDLiH"
      },
      "source": [
        "# Naive Bayes"
      ]
    },
    {
      "cell_type": "code",
      "metadata": {
        "id": "i0OQpfQzDXCK"
      },
      "source": [
        "NB = GaussianNB()   #Instantiate the Gaussian Naive bayes \n",
        "NB.fit(X_train_scaled,y_train) #Call the fit method of NB to train the model or to learn the parameters of model\n",
        "y_predi = NB.predict(X_test_scaled) #Predict "
      ],
      "execution_count": 64,
      "outputs": []
    },
    {
      "cell_type": "code",
      "metadata": {
        "colab": {
          "base_uri": "https://localhost:8080/"
        },
        "id": "dNvM4xr6DfIx",
        "outputId": "21bb10a1-97b0-4489-d0f6-a723ad84a4bf"
      },
      "source": [
        "print('\\033[1m''->'*63)\n",
        "print('\\033[1m''Confusion Matrix\\n',confusion_matrix(y_test,y_predi)) #for confusion matrix\n",
        "print('-'*30)\n",
        "NB_accuracy = accuracy_score(y_test,y_predi)\n",
        "print('Accuracy of Naive Bayes :{:.2f}'.format(NB_accuracy)) #for accuracy score\n",
        "print('-'*30)\n",
        "print('\\n Classification Report\\n',classification_report(y_test,y_predi)) #for classification report\n",
        "print('->'*63)"
      ],
      "execution_count": 65,
      "outputs": [
        {
          "output_type": "stream",
          "text": [
            "\u001b[1m->\u001b[1m->\u001b[1m->\u001b[1m->\u001b[1m->\u001b[1m->\u001b[1m->\u001b[1m->\u001b[1m->\u001b[1m->\u001b[1m->\u001b[1m->\u001b[1m->\u001b[1m->\u001b[1m->\u001b[1m->\u001b[1m->\u001b[1m->\u001b[1m->\u001b[1m->\u001b[1m->\u001b[1m->\u001b[1m->\u001b[1m->\u001b[1m->\u001b[1m->\u001b[1m->\u001b[1m->\u001b[1m->\u001b[1m->\u001b[1m->\u001b[1m->\u001b[1m->\u001b[1m->\u001b[1m->\u001b[1m->\u001b[1m->\u001b[1m->\u001b[1m->\u001b[1m->\u001b[1m->\u001b[1m->\u001b[1m->\u001b[1m->\u001b[1m->\u001b[1m->\u001b[1m->\u001b[1m->\u001b[1m->\u001b[1m->\u001b[1m->\u001b[1m->\u001b[1m->\u001b[1m->\u001b[1m->\u001b[1m->\u001b[1m->\u001b[1m->\u001b[1m->\u001b[1m->\u001b[1m->\u001b[1m->\u001b[1m->\n",
            "\u001b[1mConfusion Matrix\n",
            " [[10745  1268]\n",
            " [ 1045   506]]\n",
            "------------------------------\n",
            "Accuracy of Naive Bayes :0.83\n",
            "------------------------------\n",
            "\n",
            " Classification Report\n",
            "               precision    recall  f1-score   support\n",
            "\n",
            "           0       0.91      0.89      0.90     12013\n",
            "           1       0.29      0.33      0.30      1551\n",
            "\n",
            "    accuracy                           0.83     13564\n",
            "   macro avg       0.60      0.61      0.60     13564\n",
            "weighted avg       0.84      0.83      0.83     13564\n",
            "\n",
            "->->->->->->->->->->->->->->->->->->->->->->->->->->->->->->->->->->->->->->->->->->->->->->->->->->->->->->->->->->->->->->->\n"
          ],
          "name": "stdout"
        }
      ]
    },
    {
      "cell_type": "markdown",
      "metadata": {
        "id": "9dv-z86GDjhM"
      },
      "source": [
        "# K-Nearesr Neighbor"
      ]
    },
    {
      "cell_type": "code",
      "metadata": {
        "colab": {
          "base_uri": "https://localhost:8080/"
        },
        "id": "y3mWLWqkDnEZ",
        "outputId": "9203aacc-0703-4d0d-fa6f-97f7cf70dcbd"
      },
      "source": [
        "# k=3\n",
        "knn = KNeighborsClassifier(n_neighbors = 3)  #Instantiate KNN with k=3\n",
        "knn.fit(X_train_scaled,y_train) #Call the fit method of KNN to train the model or to learn the parameters of model\n",
        "y_predict = knn.predict(X_test_scaled) #Predict \n",
        "\n",
        "print('\\033[1m''->'*63)\n",
        "print('\\033[1m''Confusion Matrix\\n',confusion_matrix(y_test,y_predi)) #for confusion matrix\n",
        "print('-'*30)\n",
        "KNN_accuracy = accuracy_score(y_test,y_predict)\n",
        "print('Accuracy of KNN :{:.2f}'.format(KNN_accuracy)) #for accuracy score\n",
        "print('-'*30)\n",
        "print('\\n Classification Report\\n',classification_report(y_test,y_predi)) #for classification report\n",
        "print('->'*63)"
      ],
      "execution_count": 66,
      "outputs": [
        {
          "output_type": "stream",
          "text": [
            "\u001b[1m->\u001b[1m->\u001b[1m->\u001b[1m->\u001b[1m->\u001b[1m->\u001b[1m->\u001b[1m->\u001b[1m->\u001b[1m->\u001b[1m->\u001b[1m->\u001b[1m->\u001b[1m->\u001b[1m->\u001b[1m->\u001b[1m->\u001b[1m->\u001b[1m->\u001b[1m->\u001b[1m->\u001b[1m->\u001b[1m->\u001b[1m->\u001b[1m->\u001b[1m->\u001b[1m->\u001b[1m->\u001b[1m->\u001b[1m->\u001b[1m->\u001b[1m->\u001b[1m->\u001b[1m->\u001b[1m->\u001b[1m->\u001b[1m->\u001b[1m->\u001b[1m->\u001b[1m->\u001b[1m->\u001b[1m->\u001b[1m->\u001b[1m->\u001b[1m->\u001b[1m->\u001b[1m->\u001b[1m->\u001b[1m->\u001b[1m->\u001b[1m->\u001b[1m->\u001b[1m->\u001b[1m->\u001b[1m->\u001b[1m->\u001b[1m->\u001b[1m->\u001b[1m->\u001b[1m->\u001b[1m->\u001b[1m->\u001b[1m->\n",
            "\u001b[1mConfusion Matrix\n",
            " [[10745  1268]\n",
            " [ 1045   506]]\n",
            "------------------------------\n",
            "Accuracy of KNN :0.87\n",
            "------------------------------\n",
            "\n",
            " Classification Report\n",
            "               precision    recall  f1-score   support\n",
            "\n",
            "           0       0.91      0.89      0.90     12013\n",
            "           1       0.29      0.33      0.30      1551\n",
            "\n",
            "    accuracy                           0.83     13564\n",
            "   macro avg       0.60      0.61      0.60     13564\n",
            "weighted avg       0.84      0.83      0.83     13564\n",
            "\n",
            "->->->->->->->->->->->->->->->->->->->->->->->->->->->->->->->->->->->->->->->->->->->->->->->->->->->->->->->->->->->->->->->\n"
          ],
          "name": "stdout"
        }
      ]
    },
    {
      "cell_type": "code",
      "metadata": {
        "colab": {
          "base_uri": "https://localhost:8080/",
          "height": 296
        },
        "id": "hsyaFccoDv03",
        "outputId": "13a1c6c4-8d41-4f54-b6de-2a043f5d65d0"
      },
      "source": [
        "oddList = list(np.arange(1,15)) #Range from 1 to 15\n",
        "neighbors = list(filter(lambda x: x % 2 != 0, oddList)) #Selecting only odd numbers from Range 1 to 24\n",
        "\n",
        "accuracy_list = [] #Empty list to store accuracy scores of KNN models based on various K values\n",
        "\n",
        "for i in neighbors:\n",
        "    knn = KNeighborsClassifier(n_neighbors = i) #Instantiate KNN with k=i\n",
        "    knn.fit(X_train_scaled,y_train)  #Call the fit method of KNN to train the model or to learn the parameters of model\n",
        "    y_pred = knn.predict(X_test_scaled) #Predict \n",
        "    accuracy_s = accuracy_score(y_test,y_pred) #for accuracy score\n",
        "    accuracy_list.append(accuracy_s)  #for appedning accuracy score to accuracy score list\n",
        "    \n",
        "MSE=[1 - j for j in accuracy_list] #calculation of Mean Squared Error\n",
        "\n",
        "optimal = neighbors[MSE.index(min(MSE))] #Optimal K value selected by minimum MSE\n",
        "print('optimal k is',optimal) #Print optimal K value selected by minimum MSE\n",
        "\n",
        "plt.plot(neighbors,MSE) #MSE plot \n",
        "plt.xlabel('Number of Neighbors K') #XLabel\n",
        "plt.ylabel('Misclassification Error') #YLabel\n",
        "plt.show() #display plot"
      ],
      "execution_count": 67,
      "outputs": [
        {
          "output_type": "stream",
          "text": [
            "optimal k is 13\n"
          ],
          "name": "stdout"
        },
        {
          "output_type": "display_data",
          "data": {
            "image/png": "[encoded data removed]",
            "text/plain": [
              "<Figure size 432x288 with 1 Axes>"
            ]
          },
          "metadata": {
            "tags": [],
            "needs_background": "light"
          }
        }
      ]
    },
    {
      "cell_type": "markdown",
      "metadata": {
        "id": "IrELWGbmD8j_"
      },
      "source": [
        "# SVC"
      ]
    },
    {
      "cell_type": "code",
      "metadata": {
        "colab": {
          "base_uri": "https://localhost:8080/"
        },
        "id": "bX5X29EVEAXb",
        "outputId": "8e7ef987-c0e2-4fef-a430-98cf41861ac6"
      },
      "source": [
        "svc = SVC()  #Instantiate SVC\n",
        "svc.fit(X_train_scaled,y_train) #Call the fit method of SVC to train the model or to learn the parameters of model\n",
        "predicted_svc = svc.predict(X_test_scaled) #Predict \n",
        "\n",
        "print('\\033[1m''->'*63)\n",
        "print('\\033[1m''Confusion Matrix\\n',confusion_matrix(y_test,predicted_svc)) #for confusion matrix\n",
        "print('-'*30)\n",
        "SVC_accuracy = accuracy_score(y_test,predicted_svc) #for accuracy score\n",
        "print('Accuracy of SVC :',SVC_accuracy)\n",
        "print('-'*30)\n",
        "print('\\n Classification Report\\n',classification_report(y_test,predicted_svc)) #for classification report\n",
        "print('->'*63)"
      ],
      "execution_count": 68,
      "outputs": [
        {
          "output_type": "stream",
          "text": [
            "\u001b[1m->\u001b[1m->\u001b[1m->\u001b[1m->\u001b[1m->\u001b[1m->\u001b[1m->\u001b[1m->\u001b[1m->\u001b[1m->\u001b[1m->\u001b[1m->\u001b[1m->\u001b[1m->\u001b[1m->\u001b[1m->\u001b[1m->\u001b[1m->\u001b[1m->\u001b[1m->\u001b[1m->\u001b[1m->\u001b[1m->\u001b[1m->\u001b[1m->\u001b[1m->\u001b[1m->\u001b[1m->\u001b[1m->\u001b[1m->\u001b[1m->\u001b[1m->\u001b[1m->\u001b[1m->\u001b[1m->\u001b[1m->\u001b[1m->\u001b[1m->\u001b[1m->\u001b[1m->\u001b[1m->\u001b[1m->\u001b[1m->\u001b[1m->\u001b[1m->\u001b[1m->\u001b[1m->\u001b[1m->\u001b[1m->\u001b[1m->\u001b[1m->\u001b[1m->\u001b[1m->\u001b[1m->\u001b[1m->\u001b[1m->\u001b[1m->\u001b[1m->\u001b[1m->\u001b[1m->\u001b[1m->\u001b[1m->\u001b[1m->\n",
            "\u001b[1mConfusion Matrix\n",
            " [[11867   146]\n",
            " [ 1273   278]]\n",
            "------------------------------\n",
            "Accuracy of SVC : 0.8953848422294308\n",
            "------------------------------\n",
            "\n",
            " Classification Report\n",
            "               precision    recall  f1-score   support\n",
            "\n",
            "           0       0.90      0.99      0.94     12013\n",
            "           1       0.66      0.18      0.28      1551\n",
            "\n",
            "    accuracy                           0.90     13564\n",
            "   macro avg       0.78      0.58      0.61     13564\n",
            "weighted avg       0.87      0.90      0.87     13564\n",
            "\n",
            "->->->->->->->->->->->->->->->->->->->->->->->->->->->->->->->->->->->->->->->->->->->->->->->->->->->->->->->->->->->->->->->\n"
          ],
          "name": "stdout"
        }
      ]
    },
    {
      "cell_type": "markdown",
      "metadata": {
        "id": "62Vi83JUFs6h"
      },
      "source": [
        "# Ensemble Methods\n",
        "\n",
        "# Decision Tree"
      ]
    },
    {
      "cell_type": "code",
      "metadata": {
        "colab": {
          "base_uri": "https://localhost:8080/"
        },
        "id": "H-qzZdJgFvui",
        "outputId": "672c0bbb-a81b-4af9-b32d-93772f9c1998"
      },
      "source": [
        "dTree = DecisionTreeClassifier(criterion = 'gini', random_state=1) #Instantiate Decision Tree\n",
        "dTree.fit(X_train, y_train) #Call the fit method of DT to train the model or to learn the parameters of model\n",
        "predicted_DT = dTree.predict(X_test) #Predict \n",
        "\n",
        "print('\\033[1m''->'*63)\n",
        "print('\\033[1m''Confusion Matrix\\n',confusion_matrix(y_test,predicted_DT)) #for confusion matrix\n",
        "print('-'*30)\n",
        "DT_accuracy = accuracy_score(y_test,predicted_DT)\n",
        "print('Accuracy of Decision Tree :{:.2f}'.format(DT_accuracy)) #for accuracy score\n",
        "print('-'*30)\n",
        "print('\\n Classification Report\\n',classification_report(y_test,predicted_DT)) #for classification report\n",
        "print('->'*63)"
      ],
      "execution_count": 69,
      "outputs": [
        {
          "output_type": "stream",
          "text": [
            "\u001b[1m->\u001b[1m->\u001b[1m->\u001b[1m->\u001b[1m->\u001b[1m->\u001b[1m->\u001b[1m->\u001b[1m->\u001b[1m->\u001b[1m->\u001b[1m->\u001b[1m->\u001b[1m->\u001b[1m->\u001b[1m->\u001b[1m->\u001b[1m->\u001b[1m->\u001b[1m->\u001b[1m->\u001b[1m->\u001b[1m->\u001b[1m->\u001b[1m->\u001b[1m->\u001b[1m->\u001b[1m->\u001b[1m->\u001b[1m->\u001b[1m->\u001b[1m->\u001b[1m->\u001b[1m->\u001b[1m->\u001b[1m->\u001b[1m->\u001b[1m->\u001b[1m->\u001b[1m->\u001b[1m->\u001b[1m->\u001b[1m->\u001b[1m->\u001b[1m->\u001b[1m->\u001b[1m->\u001b[1m->\u001b[1m->\u001b[1m->\u001b[1m->\u001b[1m->\u001b[1m->\u001b[1m->\u001b[1m->\u001b[1m->\u001b[1m->\u001b[1m->\u001b[1m->\u001b[1m->\u001b[1m->\u001b[1m->\u001b[1m->\n",
            "\u001b[1mConfusion Matrix\n",
            " [[11020   993]\n",
            " [ 1190   361]]\n",
            "------------------------------\n",
            "Accuracy of Decision Tree :0.84\n",
            "------------------------------\n",
            "\n",
            " Classification Report\n",
            "               precision    recall  f1-score   support\n",
            "\n",
            "           0       0.90      0.92      0.91     12013\n",
            "           1       0.27      0.23      0.25      1551\n",
            "\n",
            "    accuracy                           0.84     13564\n",
            "   macro avg       0.58      0.58      0.58     13564\n",
            "weighted avg       0.83      0.84      0.83     13564\n",
            "\n",
            "->->->->->->->->->->->->->->->->->->->->->->->->->->->->->->->->->->->->->->->->->->->->->->->->->->->->->->->->->->->->->->->\n"
          ],
          "name": "stdout"
        }
      ]
    },
    {
      "cell_type": "markdown",
      "metadata": {
        "id": "jzec9hmoF62c"
      },
      "source": [
        "# Fature importance test for decision tree"
      ]
    },
    {
      "cell_type": "code",
      "metadata": {
        "colab": {
          "base_uri": "https://localhost:8080/",
          "height": 328
        },
        "id": "feW0miQNGAj-",
        "outputId": "29a6d71f-c0a7-4c22-b775-713aa3c618ec"
      },
      "source": [
        "xvar = df_2.drop('Target', axis=1) #variables in x\n",
        "feature_cols = xvar.columns # columns in x\n",
        "feat_importance = dTree.tree_.compute_feature_importances(normalize=False) #compute feature importance\n",
        "\n",
        "\n",
        "feat_imp_dict = dict(zip(feature_cols, dTree.feature_importances_)) #dictionary of columns and importance\n",
        "feat_imp = pd.DataFrame.from_dict(feat_imp_dict, orient='index') #conversion of dictionary to dataframe\n",
        "feat_imp.sort_values(by=0, ascending=False) #sort in descending order"
      ],
      "execution_count": 70,
      "outputs": [
        {
          "output_type": "execute_result",
          "data": {
            "text/html": [
              "<div>\n",
              "<style scoped>\n",
              "    .dataframe tbody tr th:only-of-type {\n",
              "        vertical-align: middle;\n",
              "    }\n",
              "\n",
              "    .dataframe tbody tr th {\n",
              "        vertical-align: top;\n",
              "    }\n",
              "\n",
              "    .dataframe thead th {\n",
              "        text-align: right;\n",
              "    }\n",
              "</style>\n",
              "<table border=\"1\" class=\"dataframe\">\n",
              "  <thead>\n",
              "    <tr style=\"text-align: right;\">\n",
              "      <th></th>\n",
              "      <th>0</th>\n",
              "    </tr>\n",
              "  </thead>\n",
              "  <tbody>\n",
              "    <tr>\n",
              "      <th>balance</th>\n",
              "      <td>0.442826</td>\n",
              "    </tr>\n",
              "    <tr>\n",
              "      <th>age</th>\n",
              "      <td>0.248702</td>\n",
              "    </tr>\n",
              "    <tr>\n",
              "      <th>poutcome</th>\n",
              "      <td>0.095115</td>\n",
              "    </tr>\n",
              "    <tr>\n",
              "      <th>campaign</th>\n",
              "      <td>0.086817</td>\n",
              "    </tr>\n",
              "    <tr>\n",
              "      <th>marital</th>\n",
              "      <td>0.040698</td>\n",
              "    </tr>\n",
              "    <tr>\n",
              "      <th>previous</th>\n",
              "      <td>0.034347</td>\n",
              "    </tr>\n",
              "    <tr>\n",
              "      <th>loan</th>\n",
              "      <td>0.025493</td>\n",
              "    </tr>\n",
              "    <tr>\n",
              "      <th>housing</th>\n",
              "      <td>0.022714</td>\n",
              "    </tr>\n",
              "    <tr>\n",
              "      <th>default</th>\n",
              "      <td>0.003286</td>\n",
              "    </tr>\n",
              "  </tbody>\n",
              "</table>\n",
              "</div>"
            ],
            "text/plain": [
              "                 0\n",
              "balance   0.442826\n",
              "age       0.248702\n",
              "poutcome  0.095115\n",
              "campaign  0.086817\n",
              "marital   0.040698\n",
              "previous  0.034347\n",
              "loan      0.025493\n",
              "housing   0.022714\n",
              "default   0.003286"
            ]
          },
          "metadata": {
            "tags": []
          },
          "execution_count": 70
        }
      ]
    },
    {
      "cell_type": "markdown",
      "metadata": {
        "id": "EDX9JHJ0GJNS"
      },
      "source": [
        "# Pruning of Decision Tree"
      ]
    },
    {
      "cell_type": "code",
      "metadata": {
        "colab": {
          "base_uri": "https://localhost:8080/"
        },
        "id": "K0y3_8jbGWDd",
        "outputId": "29daa68c-6d4d-42d9-8a76-95afed01331b"
      },
      "source": [
        "dTreeR = DecisionTreeClassifier(criterion = 'gini', max_depth = 3, random_state=1) #Instantiate Decision Tree with max_depth\n",
        "dTreeR.fit(X_train, y_train) #Call the fit method of DT to train the model or to learn the parameters of model\n",
        "predicted_DTR = dTreeR.predict(X_test) #Predict\n",
        "\n",
        "print('\\033[1m''->'*63)\n",
        "print('\\033[1m''Confusion Matrix\\n',confusion_matrix(y_test,predicted_DTR)) #for confusion matrix\n",
        "print('-'*30)\n",
        "DTR_accuracy = accuracy_score(y_test,predicted_DTR)\n",
        "print('Accuracy of Decision Tree with Regularization:{:.2f}'.format(DTR_accuracy)) #for accuracy score\n",
        "print('-'*30)\n",
        "print('\\n Classification Report\\n',classification_report(y_test,predicted_DTR)) #for classification report\n",
        "print('->'*63)"
      ],
      "execution_count": 71,
      "outputs": [
        {
          "output_type": "stream",
          "text": [
            "\u001b[1m->\u001b[1m->\u001b[1m->\u001b[1m->\u001b[1m->\u001b[1m->\u001b[1m->\u001b[1m->\u001b[1m->\u001b[1m->\u001b[1m->\u001b[1m->\u001b[1m->\u001b[1m->\u001b[1m->\u001b[1m->\u001b[1m->\u001b[1m->\u001b[1m->\u001b[1m->\u001b[1m->\u001b[1m->\u001b[1m->\u001b[1m->\u001b[1m->\u001b[1m->\u001b[1m->\u001b[1m->\u001b[1m->\u001b[1m->\u001b[1m->\u001b[1m->\u001b[1m->\u001b[1m->\u001b[1m->\u001b[1m->\u001b[1m->\u001b[1m->\u001b[1m->\u001b[1m->\u001b[1m->\u001b[1m->\u001b[1m->\u001b[1m->\u001b[1m->\u001b[1m->\u001b[1m->\u001b[1m->\u001b[1m->\u001b[1m->\u001b[1m->\u001b[1m->\u001b[1m->\u001b[1m->\u001b[1m->\u001b[1m->\u001b[1m->\u001b[1m->\u001b[1m->\u001b[1m->\u001b[1m->\u001b[1m->\u001b[1m->\n",
            "\u001b[1mConfusion Matrix\n",
            " [[11826   187]\n",
            " [ 1237   314]]\n",
            "------------------------------\n",
            "Accuracy of Decision Tree with Regularization:0.90\n",
            "------------------------------\n",
            "\n",
            " Classification Report\n",
            "               precision    recall  f1-score   support\n",
            "\n",
            "           0       0.91      0.98      0.94     12013\n",
            "           1       0.63      0.20      0.31      1551\n",
            "\n",
            "    accuracy                           0.90     13564\n",
            "   macro avg       0.77      0.59      0.62     13564\n",
            "weighted avg       0.87      0.90      0.87     13564\n",
            "\n",
            "->->->->->->->->->->->->->->->->->->->->->->->->->->->->->->->->->->->->->->->->->->->->->->->->->->->->->->->->->->->->->->->\n"
          ],
          "name": "stdout"
        }
      ]
    },
    {
      "cell_type": "code",
      "metadata": {
        "colab": {
          "base_uri": "https://localhost:8080/",
          "height": 241
        },
        "id": "8kY6yKEsGcsb",
        "outputId": "d16bf7e9-f726-428b-8d75-42dbdf15eca0"
      },
      "source": [
        "dot_data = StringIO() #string IO object\n",
        "export_graphviz(dTreeR, out_file=dot_data,  \n",
        "                filled=True, rounded=True,\n",
        "                special_characters=True,feature_names = feature_cols,class_names=['0','1']) #export graph data to dot format\n",
        "graph = pydotplus.graph_from_dot_data(dot_data.getvalue()) #create graph from dot data\n",
        "graph.write_png('DT.png')#create png\n",
        "Image(graph.create_png())#display image"
      ],
      "execution_count": 72,
      "outputs": [
        {
          "output_type": "execute_result",
          "data": {
            "image/png": "[encoded data removed]",
            "text/plain": [
              "<IPython.core.display.Image object>"
            ]
          },
          "metadata": {
            "tags": []
          },
          "execution_count": 72
        }
      ]
    },
    {
      "cell_type": "code",
      "metadata": {
        "colab": {
          "base_uri": "https://localhost:8080/",
          "height": 328
        },
        "id": "A0sflqJ0GgMl",
        "outputId": "e4bd8493-4a08-4eba-9d6b-d484605f73d2"
      },
      "source": [
        "feat_importance = dTreeR.tree_.compute_feature_importances(normalize=False) #compute feature importance\n",
        "\n",
        "\n",
        "feat_imp_dict = dict(zip(feature_cols, dTreeR.feature_importances_)) #dictionary of columns and importance\n",
        "feat_imp = pd.DataFrame.from_dict(feat_imp_dict, orient='index') #conversion of dictionary to dataframe\n",
        "feat_imp.sort_values(by=0, ascending=False) #sort in descending order"
      ],
      "execution_count": 73,
      "outputs": [
        {
          "output_type": "execute_result",
          "data": {
            "text/html": [
              "<div>\n",
              "<style scoped>\n",
              "    .dataframe tbody tr th:only-of-type {\n",
              "        vertical-align: middle;\n",
              "    }\n",
              "\n",
              "    .dataframe tbody tr th {\n",
              "        vertical-align: top;\n",
              "    }\n",
              "\n",
              "    .dataframe thead th {\n",
              "        text-align: right;\n",
              "    }\n",
              "</style>\n",
              "<table border=\"1\" class=\"dataframe\">\n",
              "  <thead>\n",
              "    <tr style=\"text-align: right;\">\n",
              "      <th></th>\n",
              "      <th>0</th>\n",
              "    </tr>\n",
              "  </thead>\n",
              "  <tbody>\n",
              "    <tr>\n",
              "      <th>poutcome</th>\n",
              "      <td>0.547320</td>\n",
              "    </tr>\n",
              "    <tr>\n",
              "      <th>previous</th>\n",
              "      <td>0.215141</td>\n",
              "    </tr>\n",
              "    <tr>\n",
              "      <th>age</th>\n",
              "      <td>0.142976</td>\n",
              "    </tr>\n",
              "    <tr>\n",
              "      <th>housing</th>\n",
              "      <td>0.087515</td>\n",
              "    </tr>\n",
              "    <tr>\n",
              "      <th>marital</th>\n",
              "      <td>0.007048</td>\n",
              "    </tr>\n",
              "    <tr>\n",
              "      <th>default</th>\n",
              "      <td>0.000000</td>\n",
              "    </tr>\n",
              "    <tr>\n",
              "      <th>balance</th>\n",
              "      <td>0.000000</td>\n",
              "    </tr>\n",
              "    <tr>\n",
              "      <th>loan</th>\n",
              "      <td>0.000000</td>\n",
              "    </tr>\n",
              "    <tr>\n",
              "      <th>campaign</th>\n",
              "      <td>0.000000</td>\n",
              "    </tr>\n",
              "  </tbody>\n",
              "</table>\n",
              "</div>"
            ],
            "text/plain": [
              "                 0\n",
              "poutcome  0.547320\n",
              "previous  0.215141\n",
              "age       0.142976\n",
              "housing   0.087515\n",
              "marital   0.007048\n",
              "default   0.000000\n",
              "balance   0.000000\n",
              "loan      0.000000\n",
              "campaign  0.000000"
            ]
          },
          "metadata": {
            "tags": []
          },
          "execution_count": 73
        }
      ]
    },
    {
      "cell_type": "markdown",
      "metadata": {
        "id": "5dTRSpJHGkou"
      },
      "source": [
        "# Bagging"
      ]
    },
    {
      "cell_type": "code",
      "metadata": {
        "colab": {
          "base_uri": "https://localhost:8080/"
        },
        "id": "yJUyTl5jGpew",
        "outputId": "deb7a0ed-0c1c-4066-86b3-714c9275bcc1"
      },
      "source": [
        "bagc = BaggingClassifier(base_estimator=dTree, n_estimators=500,random_state=1) #Instantiate Bagging Classifier\n",
        "bagc = bagc.fit(X_train, y_train) #Call the fit method of Bagging classifier to train the model or to learn the parameters of model\n",
        "predicted_BAG = bagc.predict(X_test) #Predict\n",
        "\n",
        "\n",
        "print('\\033[1m''->'*63)\n",
        "print('\\033[1m''Confusion Matrix\\n',confusion_matrix(y_test,predicted_BAG)) #for confusion matrix\n",
        "print('-'*30)\n",
        "BAG_accuracy = accuracy_score(y_test,predicted_BAG)\n",
        "print('Accuracy of Decision Tree :{:.2f}'.format(BAG_accuracy)) #for accuracy score\n",
        "print('-'*30)\n",
        "print('\\n Classification Report\\n',classification_report(y_test,predicted_BAG)) #for classification report\n",
        "print('->'*63)"
      ],
      "execution_count": 74,
      "outputs": [
        {
          "output_type": "stream",
          "text": [
            "\u001b[1m->\u001b[1m->\u001b[1m->\u001b[1m->\u001b[1m->\u001b[1m->\u001b[1m->\u001b[1m->\u001b[1m->\u001b[1m->\u001b[1m->\u001b[1m->\u001b[1m->\u001b[1m->\u001b[1m->\u001b[1m->\u001b[1m->\u001b[1m->\u001b[1m->\u001b[1m->\u001b[1m->\u001b[1m->\u001b[1m->\u001b[1m->\u001b[1m->\u001b[1m->\u001b[1m->\u001b[1m->\u001b[1m->\u001b[1m->\u001b[1m->\u001b[1m->\u001b[1m->\u001b[1m->\u001b[1m->\u001b[1m->\u001b[1m->\u001b[1m->\u001b[1m->\u001b[1m->\u001b[1m->\u001b[1m->\u001b[1m->\u001b[1m->\u001b[1m->\u001b[1m->\u001b[1m->\u001b[1m->\u001b[1m->\u001b[1m->\u001b[1m->\u001b[1m->\u001b[1m->\u001b[1m->\u001b[1m->\u001b[1m->\u001b[1m->\u001b[1m->\u001b[1m->\u001b[1m->\u001b[1m->\u001b[1m->\u001b[1m->\n",
            "\u001b[1mConfusion Matrix\n",
            " [[11617   396]\n",
            " [ 1220   331]]\n",
            "------------------------------\n",
            "Accuracy of Decision Tree :0.88\n",
            "------------------------------\n",
            "\n",
            " Classification Report\n",
            "               precision    recall  f1-score   support\n",
            "\n",
            "           0       0.90      0.97      0.93     12013\n",
            "           1       0.46      0.21      0.29      1551\n",
            "\n",
            "    accuracy                           0.88     13564\n",
            "   macro avg       0.68      0.59      0.61     13564\n",
            "weighted avg       0.85      0.88      0.86     13564\n",
            "\n",
            "->->->->->->->->->->->->->->->->->->->->->->->->->->->->->->->->->->->->->->->->->->->->->->->->->->->->->->->->->->->->->->->\n"
          ],
          "name": "stdout"
        }
      ]
    },
    {
      "cell_type": "markdown",
      "metadata": {
        "id": "PA33PYLZHDhu"
      },
      "source": [
        "# Adaptive Boosting"
      ]
    },
    {
      "cell_type": "code",
      "metadata": {
        "colab": {
          "base_uri": "https://localhost:8080/"
        },
        "id": "kl_CYeCJHIgo",
        "outputId": "d00d5c72-259c-4f53-8549-235f581a72a8"
      },
      "source": [
        "adab = AdaBoostClassifier(n_estimators=50, random_state=1) #Instantiate Adaptive boosting Classifier\n",
        "adab = adab.fit(X_train, y_train) #Call the fit method of Adaptive boosting Classifier to train the model or to learn the parameters of model\n",
        "predicted_ADA = adab.predict(X_test) #Predict\n",
        "\n",
        "\n",
        "\n",
        "print('\\033[1m''->'*63)\n",
        "print('\\033[1m''Confusion Matrix\\n',confusion_matrix(y_test,predicted_ADA)) #for confusion matrix\n",
        "print('-'*30)\n",
        "ADA_accuracy = accuracy_score(y_test,predicted_ADA)\n",
        "print('Accuracy of KNN :{:.2f}'.format(ADA_accuracy)) #for accuracy score\n",
        "print('-'*30)\n",
        "print('\\n Classification Report\\n',classification_report(y_test,predicted_ADA)) #for classification report\n",
        "print('->'*63)"
      ],
      "execution_count": 75,
      "outputs": [
        {
          "output_type": "stream",
          "text": [
            "\u001b[1m->\u001b[1m->\u001b[1m->\u001b[1m->\u001b[1m->\u001b[1m->\u001b[1m->\u001b[1m->\u001b[1m->\u001b[1m->\u001b[1m->\u001b[1m->\u001b[1m->\u001b[1m->\u001b[1m->\u001b[1m->\u001b[1m->\u001b[1m->\u001b[1m->\u001b[1m->\u001b[1m->\u001b[1m->\u001b[1m->\u001b[1m->\u001b[1m->\u001b[1m->\u001b[1m->\u001b[1m->\u001b[1m->\u001b[1m->\u001b[1m->\u001b[1m->\u001b[1m->\u001b[1m->\u001b[1m->\u001b[1m->\u001b[1m->\u001b[1m->\u001b[1m->\u001b[1m->\u001b[1m->\u001b[1m->\u001b[1m->\u001b[1m->\u001b[1m->\u001b[1m->\u001b[1m->\u001b[1m->\u001b[1m->\u001b[1m->\u001b[1m->\u001b[1m->\u001b[1m->\u001b[1m->\u001b[1m->\u001b[1m->\u001b[1m->\u001b[1m->\u001b[1m->\u001b[1m->\u001b[1m->\u001b[1m->\u001b[1m->\n",
            "\u001b[1mConfusion Matrix\n",
            " [[11884   129]\n",
            " [ 1309   242]]\n",
            "------------------------------\n",
            "Accuracy of KNN :0.89\n",
            "------------------------------\n",
            "\n",
            " Classification Report\n",
            "               precision    recall  f1-score   support\n",
            "\n",
            "           0       0.90      0.99      0.94     12013\n",
            "           1       0.65      0.16      0.25      1551\n",
            "\n",
            "    accuracy                           0.89     13564\n",
            "   macro avg       0.78      0.57      0.60     13564\n",
            "weighted avg       0.87      0.89      0.86     13564\n",
            "\n",
            "->->->->->->->->->->->->->->->->->->->->->->->->->->->->->->->->->->->->->->->->->->->->->->->->->->->->->->->->->->->->->->->\n"
          ],
          "name": "stdout"
        }
      ]
    },
    {
      "cell_type": "markdown",
      "metadata": {
        "id": "7beWgPpIHTAW"
      },
      "source": [
        "# Gradient boosting"
      ]
    },
    {
      "cell_type": "code",
      "metadata": {
        "colab": {
          "base_uri": "https://localhost:8080/"
        },
        "id": "_FKgS3GSHar2",
        "outputId": "c94b8580-862d-4475-e623-6c22c0bcb272"
      },
      "source": [
        "gradb = GradientBoostingClassifier(n_estimators = 100,random_state=1) #Instantiate Gradient boosting Classifier\n",
        "gradb = gradb.fit(X_train, y_train)#Call the fit method of Gradient boosting Classifier to train the model or to learn the parameters of model\n",
        "predicted_GRAD = gradb.predict(X_test) #Predict\n",
        "\n",
        "\n",
        "print('\\033[1m''->'*63)\n",
        "print('\\033[1m''Confusion Matrix\\n',confusion_matrix(y_test,predicted_GRAD)) #for confusion matrix\n",
        "print('-'*30)\n",
        "GRAD_accuracy = accuracy_score(y_test,predicted_GRAD)\n",
        "print('Accuracy of KNN :{:.2f}'.format(GRAD_accuracy)) #for accuracy score\n",
        "print('-'*30)\n",
        "print('\\n Classification Report\\n',classification_report(y_test,predicted_GRAD)) #for classification report\n",
        "print('->'*63)"
      ],
      "execution_count": 76,
      "outputs": [
        {
          "output_type": "stream",
          "text": [
            "\u001b[1m->\u001b[1m->\u001b[1m->\u001b[1m->\u001b[1m->\u001b[1m->\u001b[1m->\u001b[1m->\u001b[1m->\u001b[1m->\u001b[1m->\u001b[1m->\u001b[1m->\u001b[1m->\u001b[1m->\u001b[1m->\u001b[1m->\u001b[1m->\u001b[1m->\u001b[1m->\u001b[1m->\u001b[1m->\u001b[1m->\u001b[1m->\u001b[1m->\u001b[1m->\u001b[1m->\u001b[1m->\u001b[1m->\u001b[1m->\u001b[1m->\u001b[1m->\u001b[1m->\u001b[1m->\u001b[1m->\u001b[1m->\u001b[1m->\u001b[1m->\u001b[1m->\u001b[1m->\u001b[1m->\u001b[1m->\u001b[1m->\u001b[1m->\u001b[1m->\u001b[1m->\u001b[1m->\u001b[1m->\u001b[1m->\u001b[1m->\u001b[1m->\u001b[1m->\u001b[1m->\u001b[1m->\u001b[1m->\u001b[1m->\u001b[1m->\u001b[1m->\u001b[1m->\u001b[1m->\u001b[1m->\u001b[1m->\u001b[1m->\n",
            "\u001b[1mConfusion Matrix\n",
            " [[11889   124]\n",
            " [ 1305   246]]\n",
            "------------------------------\n",
            "Accuracy of KNN :0.89\n",
            "------------------------------\n",
            "\n",
            " Classification Report\n",
            "               precision    recall  f1-score   support\n",
            "\n",
            "           0       0.90      0.99      0.94     12013\n",
            "           1       0.66      0.16      0.26      1551\n",
            "\n",
            "    accuracy                           0.89     13564\n",
            "   macro avg       0.78      0.57      0.60     13564\n",
            "weighted avg       0.87      0.89      0.86     13564\n",
            "\n",
            "->->->->->->->->->->->->->->->->->->->->->->->->->->->->->->->->->->->->->->->->->->->->->->->->->->->->->->->->->->->->->->->\n"
          ],
          "name": "stdout"
        }
      ]
    },
    {
      "cell_type": "markdown",
      "metadata": {
        "id": "vE7bNoAwIQGf"
      },
      "source": [
        "# Random Forest"
      ]
    },
    {
      "cell_type": "code",
      "metadata": {
        "colab": {
          "base_uri": "https://localhost:8080/"
        },
        "id": "jU004mPNIS98",
        "outputId": "b559213d-50a3-4ad7-9602-465c6c4920da"
      },
      "source": [
        "#n=100\n",
        "randf = RandomForestClassifier(n_estimators = 100, random_state=1, max_features=3)#Instantiate Random Forest Classifier\n",
        "randf = randf.fit(X_train, y_train) #Call the fit method of Random Forest Classifier to train the model or to learn the parameters of model\n",
        "predicted_RAN = randf.predict(X_test) #Predict\n",
        "\n",
        "print('\\033[1m''->'*63)\n",
        "print('\\033[1m''Confusion Matrix\\n',confusion_matrix(y_test,predicted_RAN )) #for confusion matrix\n",
        "print('-'*30)\n",
        "RAN_accuracy = accuracy_score(y_test,predicted_RAN )\n",
        "print('Accuracy of KNN :{:.2f}'.format(RAN_accuracy)) #for accuracy score\n",
        "print('-'*30)\n",
        "print('\\n Classification Report\\n',classification_report(y_test,predicted_RAN )) #for classification report\n",
        "print('->'*63)"
      ],
      "execution_count": 77,
      "outputs": [
        {
          "output_type": "stream",
          "text": [
            "\u001b[1m->\u001b[1m->\u001b[1m->\u001b[1m->\u001b[1m->\u001b[1m->\u001b[1m->\u001b[1m->\u001b[1m->\u001b[1m->\u001b[1m->\u001b[1m->\u001b[1m->\u001b[1m->\u001b[1m->\u001b[1m->\u001b[1m->\u001b[1m->\u001b[1m->\u001b[1m->\u001b[1m->\u001b[1m->\u001b[1m->\u001b[1m->\u001b[1m->\u001b[1m->\u001b[1m->\u001b[1m->\u001b[1m->\u001b[1m->\u001b[1m->\u001b[1m->\u001b[1m->\u001b[1m->\u001b[1m->\u001b[1m->\u001b[1m->\u001b[1m->\u001b[1m->\u001b[1m->\u001b[1m->\u001b[1m->\u001b[1m->\u001b[1m->\u001b[1m->\u001b[1m->\u001b[1m->\u001b[1m->\u001b[1m->\u001b[1m->\u001b[1m->\u001b[1m->\u001b[1m->\u001b[1m->\u001b[1m->\u001b[1m->\u001b[1m->\u001b[1m->\u001b[1m->\u001b[1m->\u001b[1m->\u001b[1m->\u001b[1m->\n",
            "\u001b[1mConfusion Matrix\n",
            " [[11588   425]\n",
            " [ 1211   340]]\n",
            "------------------------------\n",
            "Accuracy of KNN :0.88\n",
            "------------------------------\n",
            "\n",
            " Classification Report\n",
            "               precision    recall  f1-score   support\n",
            "\n",
            "           0       0.91      0.96      0.93     12013\n",
            "           1       0.44      0.22      0.29      1551\n",
            "\n",
            "    accuracy                           0.88     13564\n",
            "   macro avg       0.67      0.59      0.61     13564\n",
            "weighted avg       0.85      0.88      0.86     13564\n",
            "\n",
            "->->->->->->->->->->->->->->->->->->->->->->->->->->->->->->->->->->->->->->->->->->->->->->->->->->->->->->->->->->->->->->->\n"
          ],
          "name": "stdout"
        }
      ]
    },
    {
      "cell_type": "code",
      "metadata": {
        "colab": {
          "base_uri": "https://localhost:8080/"
        },
        "id": "oh_JMtIDIYmi",
        "outputId": "3eb58811-5a1c-4d8a-a06d-a6824aea0a03"
      },
      "source": [
        "#n=500\n",
        "randf = RandomForestClassifier(n_estimators = 500, random_state=1, max_features=5) #Instantiate Random Forest Classifier\n",
        "randf = randf.fit(X_train, y_train)  #Call the fit method of Random Forest Classifier to train the model or to learn the parameters of model\n",
        "predicted_RANN = randf.predict(X_test) #Predict\n",
        "\n",
        "print('\\033[1m''->'*63)\n",
        "print('\\033[1m''Confusion Matrix\\n',confusion_matrix(y_test,predicted_RANN)) #for confusion matrix\n",
        "print('-'*30)\n",
        "RANN_accuracy = accuracy_score(y_test,predicted_RANN)\n",
        "print('Accuracy of KNN :{:.2f}'.format(RANN_accuracy)) #for accuracy score\n",
        "print('-'*30)\n",
        "print('\\n Classification Report\\n',classification_report(y_test,predicted_RANN)) #for classification report\n",
        "print('->'*63)"
      ],
      "execution_count": 78,
      "outputs": [
        {
          "output_type": "stream",
          "text": [
            "\u001b[1m->\u001b[1m->\u001b[1m->\u001b[1m->\u001b[1m->\u001b[1m->\u001b[1m->\u001b[1m->\u001b[1m->\u001b[1m->\u001b[1m->\u001b[1m->\u001b[1m->\u001b[1m->\u001b[1m->\u001b[1m->\u001b[1m->\u001b[1m->\u001b[1m->\u001b[1m->\u001b[1m->\u001b[1m->\u001b[1m->\u001b[1m->\u001b[1m->\u001b[1m->\u001b[1m->\u001b[1m->\u001b[1m->\u001b[1m->\u001b[1m->\u001b[1m->\u001b[1m->\u001b[1m->\u001b[1m->\u001b[1m->\u001b[1m->\u001b[1m->\u001b[1m->\u001b[1m->\u001b[1m->\u001b[1m->\u001b[1m->\u001b[1m->\u001b[1m->\u001b[1m->\u001b[1m->\u001b[1m->\u001b[1m->\u001b[1m->\u001b[1m->\u001b[1m->\u001b[1m->\u001b[1m->\u001b[1m->\u001b[1m->\u001b[1m->\u001b[1m->\u001b[1m->\u001b[1m->\u001b[1m->\u001b[1m->\u001b[1m->\n",
            "\u001b[1mConfusion Matrix\n",
            " [[11614   399]\n",
            " [ 1216   335]]\n",
            "------------------------------\n",
            "Accuracy of KNN :0.88\n",
            "------------------------------\n",
            "\n",
            " Classification Report\n",
            "               precision    recall  f1-score   support\n",
            "\n",
            "           0       0.91      0.97      0.93     12013\n",
            "           1       0.46      0.22      0.29      1551\n",
            "\n",
            "    accuracy                           0.88     13564\n",
            "   macro avg       0.68      0.59      0.61     13564\n",
            "weighted avg       0.85      0.88      0.86     13564\n",
            "\n",
            "->->->->->->->->->->->->->->->->->->->->->->->->->->->->->->->->->->->->->->->->->->->->->->->->->->->->->->->->->->->->->->->\n"
          ],
          "name": "stdout"
        }
      ]
    },
    {
      "cell_type": "markdown",
      "metadata": {
        "id": "RwGl8hRUIi1G"
      },
      "source": [
        "# Models with accuracy scores"
      ]
    },
    {
      "cell_type": "code",
      "metadata": {
        "colab": {
          "base_uri": "https://localhost:8080/",
          "height": 407
        },
        "id": "IvRumTKcInE5",
        "outputId": "ce2fd7a0-2f6b-4d75-c3c6-795ebfe82258"
      },
      "source": [
        "Scores = [('Naive bayes', NB_accuracy),\n",
        "      ('KNN', KNN_accuracy),\n",
        "      ('Logistic Regression', LR_accuracy),\n",
        "      ('SVC', SVC_accuracy ),\n",
        "      ('Decision Tree',DT_accuracy),\n",
        "      ('Decision Tree with Regularization',DTR_accuracy),\n",
        "      ('Bagging',BAG_accuracy),\n",
        "      ('Adaptive Boosting',ADA_accuracy),\n",
        "      ('Gradient Boosting',GRAD_accuracy),\n",
        "      ('Random Forest N=100',RAN_accuracy),\n",
        "      ('Random Forest N=500',RANN_accuracy)] #List of accuracy scores of all models\n",
        "\n",
        "Scores = pd.DataFrame(Scores,columns=['Model','Accuracy score']) #Conversion of list to dataframe\n",
        "\n",
        "print('\\033[1m''Current Scores with Outliers replaced with mean:')\n",
        "Scores.sort_values(by='Accuracy score',ascending=False) #Sort values in descending manner"
      ],
      "execution_count": 79,
      "outputs": [
        {
          "output_type": "stream",
          "text": [
            "\u001b[1mCurrent Scores with Outliers replaced with mean:\n"
          ],
          "name": "stdout"
        },
        {
          "output_type": "execute_result",
          "data": {
            "text/html": [
              "<div>\n",
              "<style scoped>\n",
              "    .dataframe tbody tr th:only-of-type {\n",
              "        vertical-align: middle;\n",
              "    }\n",
              "\n",
              "    .dataframe tbody tr th {\n",
              "        vertical-align: top;\n",
              "    }\n",
              "\n",
              "    .dataframe thead th {\n",
              "        text-align: right;\n",
              "    }\n",
              "</style>\n",
              "<table border=\"1\" class=\"dataframe\">\n",
              "  <thead>\n",
              "    <tr style=\"text-align: right;\">\n",
              "      <th></th>\n",
              "      <th>Model</th>\n",
              "      <th>Accuracy score</th>\n",
              "    </tr>\n",
              "  </thead>\n",
              "  <tbody>\n",
              "    <tr>\n",
              "      <th>3</th>\n",
              "      <td>SVC</td>\n",
              "      <td>0.895385</td>\n",
              "    </tr>\n",
              "    <tr>\n",
              "      <th>5</th>\n",
              "      <td>Decision Tree with Regularization</td>\n",
              "      <td>0.895016</td>\n",
              "    </tr>\n",
              "    <tr>\n",
              "      <th>2</th>\n",
              "      <td>Logistic Regression</td>\n",
              "      <td>0.894869</td>\n",
              "    </tr>\n",
              "    <tr>\n",
              "      <th>8</th>\n",
              "      <td>Gradient Boosting</td>\n",
              "      <td>0.894648</td>\n",
              "    </tr>\n",
              "    <tr>\n",
              "      <th>7</th>\n",
              "      <td>Adaptive Boosting</td>\n",
              "      <td>0.893984</td>\n",
              "    </tr>\n",
              "    <tr>\n",
              "      <th>10</th>\n",
              "      <td>Random Forest N=500</td>\n",
              "      <td>0.880935</td>\n",
              "    </tr>\n",
              "    <tr>\n",
              "      <th>6</th>\n",
              "      <td>Bagging</td>\n",
              "      <td>0.880861</td>\n",
              "    </tr>\n",
              "    <tr>\n",
              "      <th>9</th>\n",
              "      <td>Random Forest N=100</td>\n",
              "      <td>0.879387</td>\n",
              "    </tr>\n",
              "    <tr>\n",
              "      <th>1</th>\n",
              "      <td>KNN</td>\n",
              "      <td>0.873120</td>\n",
              "    </tr>\n",
              "    <tr>\n",
              "      <th>4</th>\n",
              "      <td>Decision Tree</td>\n",
              "      <td>0.839059</td>\n",
              "    </tr>\n",
              "    <tr>\n",
              "      <th>0</th>\n",
              "      <td>Naive bayes</td>\n",
              "      <td>0.829475</td>\n",
              "    </tr>\n",
              "  </tbody>\n",
              "</table>\n",
              "</div>"
            ],
            "text/plain": [
              "                                Model  Accuracy score\n",
              "3                                 SVC        0.895385\n",
              "5   Decision Tree with Regularization        0.895016\n",
              "2                 Logistic Regression        0.894869\n",
              "8                   Gradient Boosting        0.894648\n",
              "7                   Adaptive Boosting        0.893984\n",
              "10                Random Forest N=500        0.880935\n",
              "6                             Bagging        0.880861\n",
              "9                 Random Forest N=100        0.879387\n",
              "1                                 KNN        0.873120\n",
              "4                       Decision Tree        0.839059\n",
              "0                         Naive bayes        0.829475"
            ]
          },
          "metadata": {
            "tags": []
          },
          "execution_count": 79
        }
      ]
    },
    {
      "cell_type": "code",
      "metadata": {
        "colab": {
          "base_uri": "https://localhost:8080/",
          "height": 435
        },
        "id": "DLAEgyZeIsid",
        "outputId": "49fcb61d-4387-47e3-8a4f-ca2974f366f3"
      },
      "source": [
        "sns.lineplot(x=Scores['Model'],y=Scores['Accuracy score'],data=Scores,markers=True, dashes=False) #Countplot of Scores\n",
        "plt.xticks(rotation=90)\n",
        "plt.show()"
      ],
      "execution_count": 80,
      "outputs": [
        {
          "output_type": "display_data",
          "data": {
            "image/png": "[encoded data removed]",
            "text/plain": [
              "<Figure size 432x288 with 1 Axes>"
            ]
          },
          "metadata": {
            "tags": [],
            "needs_background": "light"
          }
        }
      ]
    },
    {
      "cell_type": "code",
      "metadata": {
        "colab": {
          "base_uri": "https://localhost:8080/",
          "height": 357
        },
        "id": "S3PVBfiJI0lk",
        "outputId": "5e9ed751-cb18-4283-fc27-251e83a655d1"
      },
      "source": [
        "print('\\033[1m''Benchmark with Duration column and Outliers not handled:')\n",
        "Image(filename='img/Benchmark.PNG',width=400,height=500) #include Image"
      ],
      "execution_count": 81,
      "outputs": [
        {
          "output_type": "stream",
          "text": [
            "\u001b[1mBenchmark with Duration column and Outliers not handled:\n"
          ],
          "name": "stdout"
        },
        {
          "output_type": "error",
          "ename": "FileNotFoundError",
          "evalue": "ignored",
          "traceback": [
            "\u001b[0;31m---------------------------------------------------------------------------\u001b[0m",
            "\u001b[0;31mFileNotFoundError\u001b[0m                         Traceback (most recent call last)",
            "\u001b[0;32m<ipython-input-81-21201973ac41>\u001b[0m in \u001b[0;36m<module>\u001b[0;34m()\u001b[0m\n\u001b[1;32m      1\u001b[0m \u001b[0mprint\u001b[0m\u001b[0;34m(\u001b[0m\u001b[0;34m'\\033[1m'\u001b[0m\u001b[0;34m'Benchmark with Duration column and Outliers not handled:'\u001b[0m\u001b[0;34m)\u001b[0m\u001b[0;34m\u001b[0m\u001b[0;34m\u001b[0m\u001b[0m\n\u001b[0;32m----> 2\u001b[0;31m \u001b[0mImage\u001b[0m\u001b[0;34m(\u001b[0m\u001b[0mfilename\u001b[0m\u001b[0;34m=\u001b[0m\u001b[0;34m'img/Benchmark.PNG'\u001b[0m\u001b[0;34m,\u001b[0m\u001b[0mwidth\u001b[0m\u001b[0;34m=\u001b[0m\u001b[0;36m400\u001b[0m\u001b[0;34m,\u001b[0m\u001b[0mheight\u001b[0m\u001b[0;34m=\u001b[0m\u001b[0;36m500\u001b[0m\u001b[0;34m)\u001b[0m \u001b[0;31m#include Image\u001b[0m\u001b[0;34m\u001b[0m\u001b[0;34m\u001b[0m\u001b[0m\n\u001b[0m",
            "\u001b[0;32m/usr/local/lib/python3.6/dist-packages/IPython/core/display.py\u001b[0m in \u001b[0;36m__init__\u001b[0;34m(self, data, url, filename, format, embed, width, height, retina, unconfined, metadata)\u001b[0m\n\u001b[1;32m   1019\u001b[0m         \u001b[0mself\u001b[0m\u001b[0;34m.\u001b[0m\u001b[0munconfined\u001b[0m \u001b[0;34m=\u001b[0m \u001b[0munconfined\u001b[0m\u001b[0;34m\u001b[0m\u001b[0;34m\u001b[0m\u001b[0m\n\u001b[1;32m   1020\u001b[0m         \u001b[0mself\u001b[0m\u001b[0;34m.\u001b[0m\u001b[0mmetadata\u001b[0m \u001b[0;34m=\u001b[0m \u001b[0mmetadata\u001b[0m\u001b[0;34m\u001b[0m\u001b[0;34m\u001b[0m\u001b[0m\n\u001b[0;32m-> 1021\u001b[0;31m         \u001b[0msuper\u001b[0m\u001b[0;34m(\u001b[0m\u001b[0mImage\u001b[0m\u001b[0;34m,\u001b[0m \u001b[0mself\u001b[0m\u001b[0;34m)\u001b[0m\u001b[0;34m.\u001b[0m\u001b[0m__init__\u001b[0m\u001b[0;34m(\u001b[0m\u001b[0mdata\u001b[0m\u001b[0;34m=\u001b[0m\u001b[0mdata\u001b[0m\u001b[0;34m,\u001b[0m \u001b[0murl\u001b[0m\u001b[0;34m=\u001b[0m\u001b[0murl\u001b[0m\u001b[0;34m,\u001b[0m \u001b[0mfilename\u001b[0m\u001b[0;34m=\u001b[0m\u001b[0mfilename\u001b[0m\u001b[0;34m)\u001b[0m\u001b[0;34m\u001b[0m\u001b[0;34m\u001b[0m\u001b[0m\n\u001b[0m\u001b[1;32m   1022\u001b[0m \u001b[0;34m\u001b[0m\u001b[0m\n\u001b[1;32m   1023\u001b[0m         \u001b[0;32mif\u001b[0m \u001b[0mretina\u001b[0m\u001b[0;34m:\u001b[0m\u001b[0;34m\u001b[0m\u001b[0;34m\u001b[0m\u001b[0m\n",
            "\u001b[0;32m/usr/local/lib/python3.6/dist-packages/IPython/core/display.py\u001b[0m in \u001b[0;36m__init__\u001b[0;34m(self, data, url, filename)\u001b[0m\n\u001b[1;32m    611\u001b[0m         \u001b[0mself\u001b[0m\u001b[0;34m.\u001b[0m\u001b[0mfilename\u001b[0m \u001b[0;34m=\u001b[0m \u001b[0;32mNone\u001b[0m \u001b[0;32mif\u001b[0m \u001b[0mfilename\u001b[0m \u001b[0;32mis\u001b[0m \u001b[0;32mNone\u001b[0m \u001b[0;32melse\u001b[0m \u001b[0municode_type\u001b[0m\u001b[0;34m(\u001b[0m\u001b[0mfilename\u001b[0m\u001b[0;34m)\u001b[0m\u001b[0;34m\u001b[0m\u001b[0;34m\u001b[0m\u001b[0m\n\u001b[1;32m    612\u001b[0m \u001b[0;34m\u001b[0m\u001b[0m\n\u001b[0;32m--> 613\u001b[0;31m         \u001b[0mself\u001b[0m\u001b[0;34m.\u001b[0m\u001b[0mreload\u001b[0m\u001b[0;34m(\u001b[0m\u001b[0;34m)\u001b[0m\u001b[0;34m\u001b[0m\u001b[0;34m\u001b[0m\u001b[0m\n\u001b[0m\u001b[1;32m    614\u001b[0m         \u001b[0mself\u001b[0m\u001b[0;34m.\u001b[0m\u001b[0m_check_data\u001b[0m\u001b[0;34m(\u001b[0m\u001b[0;34m)\u001b[0m\u001b[0;34m\u001b[0m\u001b[0;34m\u001b[0m\u001b[0m\n\u001b[1;32m    615\u001b[0m \u001b[0;34m\u001b[0m\u001b[0m\n",
            "\u001b[0;32m/usr/local/lib/python3.6/dist-packages/IPython/core/display.py\u001b[0m in \u001b[0;36mreload\u001b[0;34m(self)\u001b[0m\n\u001b[1;32m   1041\u001b[0m         \u001b[0;34m\"\"\"Reload the raw data from file or URL.\"\"\"\u001b[0m\u001b[0;34m\u001b[0m\u001b[0;34m\u001b[0m\u001b[0m\n\u001b[1;32m   1042\u001b[0m         \u001b[0;32mif\u001b[0m \u001b[0mself\u001b[0m\u001b[0;34m.\u001b[0m\u001b[0membed\u001b[0m\u001b[0;34m:\u001b[0m\u001b[0;34m\u001b[0m\u001b[0;34m\u001b[0m\u001b[0m\n\u001b[0;32m-> 1043\u001b[0;31m             \u001b[0msuper\u001b[0m\u001b[0;34m(\u001b[0m\u001b[0mImage\u001b[0m\u001b[0;34m,\u001b[0m\u001b[0mself\u001b[0m\u001b[0;34m)\u001b[0m\u001b[0;34m.\u001b[0m\u001b[0mreload\u001b[0m\u001b[0;34m(\u001b[0m\u001b[0;34m)\u001b[0m\u001b[0;34m\u001b[0m\u001b[0;34m\u001b[0m\u001b[0m\n\u001b[0m\u001b[1;32m   1044\u001b[0m             \u001b[0;32mif\u001b[0m \u001b[0mself\u001b[0m\u001b[0;34m.\u001b[0m\u001b[0mretina\u001b[0m\u001b[0;34m:\u001b[0m\u001b[0;34m\u001b[0m\u001b[0;34m\u001b[0m\u001b[0m\n\u001b[1;32m   1045\u001b[0m                 \u001b[0mself\u001b[0m\u001b[0;34m.\u001b[0m\u001b[0m_retina_shape\u001b[0m\u001b[0;34m(\u001b[0m\u001b[0;34m)\u001b[0m\u001b[0;34m\u001b[0m\u001b[0;34m\u001b[0m\u001b[0m\n",
            "\u001b[0;32m/usr/local/lib/python3.6/dist-packages/IPython/core/display.py\u001b[0m in \u001b[0;36mreload\u001b[0;34m(self)\u001b[0m\n\u001b[1;32m    629\u001b[0m         \u001b[0;34m\"\"\"Reload the raw data from file or URL.\"\"\"\u001b[0m\u001b[0;34m\u001b[0m\u001b[0;34m\u001b[0m\u001b[0m\n\u001b[1;32m    630\u001b[0m         \u001b[0;32mif\u001b[0m \u001b[0mself\u001b[0m\u001b[0;34m.\u001b[0m\u001b[0mfilename\u001b[0m \u001b[0;32mis\u001b[0m \u001b[0;32mnot\u001b[0m \u001b[0;32mNone\u001b[0m\u001b[0;34m:\u001b[0m\u001b[0;34m\u001b[0m\u001b[0;34m\u001b[0m\u001b[0m\n\u001b[0;32m--> 631\u001b[0;31m             \u001b[0;32mwith\u001b[0m \u001b[0mopen\u001b[0m\u001b[0;34m(\u001b[0m\u001b[0mself\u001b[0m\u001b[0;34m.\u001b[0m\u001b[0mfilename\u001b[0m\u001b[0;34m,\u001b[0m \u001b[0mself\u001b[0m\u001b[0;34m.\u001b[0m\u001b[0m_read_flags\u001b[0m\u001b[0;34m)\u001b[0m \u001b[0;32mas\u001b[0m \u001b[0mf\u001b[0m\u001b[0;34m:\u001b[0m\u001b[0;34m\u001b[0m\u001b[0;34m\u001b[0m\u001b[0m\n\u001b[0m\u001b[1;32m    632\u001b[0m                 \u001b[0mself\u001b[0m\u001b[0;34m.\u001b[0m\u001b[0mdata\u001b[0m \u001b[0;34m=\u001b[0m \u001b[0mf\u001b[0m\u001b[0;34m.\u001b[0m\u001b[0mread\u001b[0m\u001b[0;34m(\u001b[0m\u001b[0;34m)\u001b[0m\u001b[0;34m\u001b[0m\u001b[0;34m\u001b[0m\u001b[0m\n\u001b[1;32m    633\u001b[0m         \u001b[0;32melif\u001b[0m \u001b[0mself\u001b[0m\u001b[0;34m.\u001b[0m\u001b[0murl\u001b[0m \u001b[0;32mis\u001b[0m \u001b[0;32mnot\u001b[0m \u001b[0;32mNone\u001b[0m\u001b[0;34m:\u001b[0m\u001b[0;34m\u001b[0m\u001b[0;34m\u001b[0m\u001b[0m\n",
            "\u001b[0;31mFileNotFoundError\u001b[0m: [Errno 2] No such file or directory: 'img/Benchmark.PNG'"
          ]
        }
      ]
    },
    {
      "cell_type": "markdown",
      "metadata": {
        "id": "n3PHfXs4JIwF"
      },
      "source": [
        "# Conclusion:\n",
        "\n",
        "# Comments on dataset:\n",
        "\n",
        "The models perform well in predicting the class 0 i.e. customer not subscribing to term deposit which can be seen in the confusion matrix of all models.\n",
        "\n",
        "The models do not perform well in predicting the class 1 i.e. customer subscribing to term deposit which can be seen in the confusion matrix of all models.\n",
        "\n",
        "Above situation occured because the Dataset is imbalanced. i.e. The ratio difference between class 0 and class 1 is huge. Which trained models to effectively identify class 0 but did not train suffuiciently to classify class 1.\n",
        "\n",
        "This situation could have been avoided if the datset was balanced.\n",
        "Along with imbalance, the dataset contained large number of unknown string values in 'job','education','contact' and 'poutcome' columns.\n",
        "\n",
        "# Comments on Models:\n",
        "\n",
        "When benchmarking with 'duration' column, Support Vector Classifier achieved 90% model accuracy while naive bayes score was 85% accurate.\n",
        "\n",
        "SVC Perfomed better because of it's capabality of creating multiple hpyerplanes and then classifying the data.\n",
        "\n",
        "After removing the 'duration' column, The highest model score dropped by 0.5%.\n",
        "\n",
        "The Outliers did not affect much on accuracy scores of all models. As can be seen in above accuracy scores, getting rid of outliers by mean/median replacement did not affect the scores.\n",
        "\n",
        "In Decision Trees, Gradient boosting method always performed better for this dataset.\n",
        "\n",
        "While visualizing Decision Tree, The Pruned decision tree was easy to visualize as it had lesser leaf nodes than Tree which was not pruned.\n",
        "\n",
        "# Miscellaneous Comments:\n",
        "\n",
        "After trying get_dummies the score did not show significant difference as well as I have skipped the get_dummies step because the dataset was creating more dimension, which was making the project more computationally intensive.\n",
        "\n",
        "If I had kept get_dummies step, then in production stage if the new dataset turned out to be huge in number of rows then this project would have taken a lot of time to execute.\n",
        "\n",
        "Outlier handeling did not make any significant difference in the accuracy scores of models.\n",
        "\n"
      ]
    }
  ]
}